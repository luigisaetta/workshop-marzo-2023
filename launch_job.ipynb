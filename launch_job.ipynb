{
 "cells": [
  {
   "cell_type": "markdown",
   "id": "a4997d13",
   "metadata": {},
   "source": [
    "### JOBS for Data Drift Detection\n",
    "\n",
    "Create, run and monitor a JOB \n",
    "\n",
    "In this NoteBook we show how to create, run and monitor a JOB\n",
    "\n",
    "The code is packed in a tar.gz file, saved in Object Storage\n",
    "\n",
    "* migrated to Python 3.8"
   ]
  },
  {
   "cell_type": "code",
   "execution_count": 1,
   "id": "62b6a633",
   "metadata": {},
   "outputs": [],
   "source": [
    "import os\n",
    "import ads\n",
    "\n",
    "from ads.jobs import DataScienceJob\n",
    "from ads.jobs import ScriptRuntime\n",
    "from ads.jobs import Job\n",
    "\n",
    "from ads import set_auth"
   ]
  },
  {
   "cell_type": "code",
   "execution_count": 2,
   "id": "35b04bf0",
   "metadata": {},
   "outputs": [
    {
     "name": "stdout",
     "output_type": "stream",
     "text": [
      "2.8.2\n"
     ]
    }
   ],
   "source": [
    "print(ads.__version__)"
   ]
  },
  {
   "cell_type": "code",
   "execution_count": 3,
   "id": "3cfb946c",
   "metadata": {},
   "outputs": [],
   "source": [
    "compartment_id = os.environ['NB_SESSION_COMPARTMENT_OCID']\n",
    "project_id = os.environ['PROJECT_OCID']\n",
    "\n",
    "set_auth(auth='resource_principal')"
   ]
  },
  {
   "cell_type": "code",
   "execution_count": 4,
   "id": "60180002",
   "metadata": {},
   "outputs": [
    {
     "data": {
      "text/plain": [
       "[{\n",
       "   \"core_count\": 1,\n",
       "   \"managed_egress_support\": \"SUPPORTED\",\n",
       "   \"memory_in_gbs\": 15,\n",
       "   \"name\": \"VM.STANDARD2.1_C1_M15GB_SUPPORTED\",\n",
       "   \"shape_name\": \"VM.Standard2.1\",\n",
       "   \"shape_series\": \"INTEL_SKYLAKE\"\n",
       " },\n",
       " {\n",
       "   \"core_count\": 4,\n",
       "   \"managed_egress_support\": \"SUPPORTED\",\n",
       "   \"memory_in_gbs\": 60,\n",
       "   \"name\": \"VM.STANDARD2.4_C4_M60GB_SUPPORTED\",\n",
       "   \"shape_name\": \"VM.Standard2.4\",\n",
       "   \"shape_series\": \"INTEL_SKYLAKE\"\n",
       " }]"
      ]
     },
     "execution_count": 4,
     "metadata": {},
     "output_type": "execute_result"
    }
   ],
   "source": [
    "# check what is available for fast start\n",
    "DataScienceJob.fast_launch_shapes()"
   ]
  },
  {
   "cell_type": "markdown",
   "id": "2faf8d96",
   "metadata": {},
   "source": [
    "#### Specify Infrastructure for JOBS run"
   ]
  },
  {
   "cell_type": "code",
   "execution_count": 5,
   "id": "8a03dabb",
   "metadata": {},
   "outputs": [],
   "source": [
    "# 1. Specify the Infrastructure requested\n",
    "# VM Shape, logging\n",
    "# network is taken from NB session\n",
    "\n",
    "# for fast start\n",
    "SHAPE_NAME = \"VM.Standard2.4\"\n",
    "LOG_GROUP_ID = \"ocid1.loggroup.oc1.eu-milan-1.amaaaaaangencdya37xpdas7cenw3thhfetpb5qe75ymyymoo2b4w42pbrsq\"\n",
    "LOG_ID = \"ocid1.log.oc1.eu-milan-1.amaaaaaangencdyaspdct6j6xl4umonzqwvvhrysal7lcxi2gcj6vt7doqaa\"\n",
    "\n",
    "# you need to provide the OCID for LogGroup and Log\n",
    "infrastructure = (\n",
    "    DataScienceJob()\n",
    "    .with_shape_name(SHAPE_NAME)\n",
    "    .with_log_group_id(LOG_GROUP_ID)\n",
    "    .with_log_id(LOG_ID)\n",
    ")"
   ]
  },
  {
   "cell_type": "markdown",
   "id": "64ef950b",
   "metadata": {},
   "source": [
    "#### Specify the runtime"
   ]
  },
  {
   "cell_type": "code",
   "execution_count": 6,
   "id": "6d735f00",
   "metadata": {},
   "outputs": [],
   "source": [
    "#\n",
    "# all the Python code is packed in drift.tar.gz, saved in a Object Storage bucket\n",
    "# url: oci://drift_input@frqap2zhtzbe/drift.tar.gz\n",
    "#\n",
    "\n",
    "# specify the runtime and conda env \n",
    "runtime = (\n",
    "    ScriptRuntime()\n",
    "    .with_source(\"oci://WORKSHOP@frqap2zhtzbe/test.tar.gz\")\n",
    "    .with_service_conda(\"generalml_p37_cpu_v1\")\n",
    "    .with_environment_variable(JOB_RUN_ENTRYPOINT=\"test.py\")\n",
    ")"
   ]
  },
  {
   "cell_type": "markdown",
   "id": "705985e7",
   "metadata": {},
   "source": [
    "#### Specify the JOB"
   ]
  },
  {
   "cell_type": "code",
   "execution_count": 7,
   "id": "dd42d4c9",
   "metadata": {},
   "outputs": [],
   "source": [
    "# specify the JOB\n",
    "job = (\n",
    "    Job(name=\"job_test\")\n",
    "    .with_infrastructure(infrastructure)\n",
    "    .with_runtime(runtime)\n",
    ")"
   ]
  },
  {
   "cell_type": "markdown",
   "id": "2d663301",
   "metadata": {},
   "source": [
    "#### Create the JOB definition"
   ]
  },
  {
   "cell_type": "code",
   "execution_count": 8,
   "id": "3f951f3b",
   "metadata": {},
   "outputs": [
    {
     "data": {
      "text/plain": [
       "kind: job\n",
       "spec:\n",
       "  id: ocid1.datasciencejob.oc1.eu-milan-1.amaaaaaangencdyaxjohphcyvy72dde4dus7qrtqtz3jhnb5aaggdjkbphfa\n",
       "  infrastructure:\n",
       "    kind: infrastructure\n",
       "    spec:\n",
       "      blockStorageSize: 500\n",
       "      compartmentId: ocid1.compartment.oc1..aaaaaaaag2cpni5qj6li5ny6ehuahhepbpveopobooayqfeudqygdtfe6h3a\n",
       "      displayName: job_test\n",
       "      jobInfrastructureType: STANDALONE\n",
       "      jobType: DEFAULT\n",
       "      logGroupId: ocid1.loggroup.oc1.eu-milan-1.amaaaaaangencdya37xpdas7cenw3thhfetpb5qe75ymyymoo2b4w42pbrsq\n",
       "      logId: ocid1.log.oc1.eu-milan-1.amaaaaaangencdyaspdct6j6xl4umonzqwvvhrysal7lcxi2gcj6vt7doqaa\n",
       "      projectId: ocid1.datascienceproject.oc1.eu-milan-1.amaaaaaangencdyageryq6wvsxw6rjdjwagoym3h7hnncszqqnq34g3aakoq\n",
       "      shapeName: VM.Standard2.4\n",
       "      subnetId: ocid1.subnet.oc1.eu-milan-1.aaaaaaaajiptbm2u4svnhnnk7uvb7owx7iii2fqb52n2oz7ura43mizniskq\n",
       "    type: dataScienceJob\n",
       "  name: job_test\n",
       "  runtime:\n",
       "    kind: runtime\n",
       "    spec:\n",
       "      conda:\n",
       "        slug: generalml_p37_cpu_v1\n",
       "        type: service\n",
       "      env:\n",
       "      - name: JOB_RUN_ENTRYPOINT\n",
       "        value: test.py\n",
       "      scriptPathURI: oci://WORKSHOP@frqap2zhtzbe/test.tar.gz\n",
       "    type: script"
      ]
     },
     "execution_count": 8,
     "metadata": {},
     "output_type": "execute_result"
    }
   ],
   "source": [
    "# create the JOB\n",
    "job.create()"
   ]
  },
  {
   "cell_type": "markdown",
   "id": "9f3e85d2",
   "metadata": {},
   "source": [
    "#### Run the JOB"
   ]
  },
  {
   "cell_type": "code",
   "execution_count": 9,
   "id": "c8e30ccb",
   "metadata": {},
   "outputs": [],
   "source": [
    "# run\n",
    "job_run = job.run()"
   ]
  },
  {
   "cell_type": "markdown",
   "id": "9a72ac34",
   "metadata": {},
   "source": [
    "#### attach and display the log"
   ]
  },
  {
   "cell_type": "code",
   "execution_count": 10,
   "id": "6ffd0fa1",
   "metadata": {},
   "outputs": [
    {
     "name": "stdout",
     "output_type": "stream",
     "text": [
      "Job OCID: ocid1.datasciencejob.oc1.eu-milan-1.amaaaaaangencdyaxjohphcyvy72dde4dus7qrtqtz3jhnb5aaggdjkbphfa\n",
      "Job Run OCID: ocid1.datasciencejobrun.oc1.eu-milan-1.amaaaaaangencdyabpu5cl4ujxvp72d2lkkknq7kbrmlr2xc53fu4ue6liiq\n",
      "2023-03-22 14:13:10 - Job Run ACCEPTED\n",
      "2023-03-22 14:13:16 - Job Run ACCEPTED, Infrastructure provisioning.\n",
      "2023-03-22 14:14:16 - Job Run ACCEPTED, Infrastructure provisioned.\n",
      "2023-03-22 14:14:38 - Job Run ACCEPTED, Job run bootstrap starting.\n",
      "2023-03-22 14:17:25 - Job Run ACCEPTED, Job run bootstrap complete. Artifact execution starting.\n",
      "2023-03-22 14:17:28 - Job Run IN_PROGRESS, Job run artifact execution in progress.\n",
      "2023-03-22 14:17:22 - JOB starting...\n",
      "2023-03-22 14:17:22 - \n",
      "2023-03-22 14:17:23 - \n",
      "2023-03-22 14:17:23 - JOB ending.\n",
      "2023-03-22 14:17:23 - \n",
      "2023-03-22 14:17:45 - Job Run SUCCEEDED, Job run artifact execution succeeded. Infrastructure de-provisioning.\n"
     ]
    },
    {
     "data": {
      "text/plain": [
       "kind: jobRun\n",
       "spec:\n",
       "  id: ocid1.datasciencejobrun.oc1.eu-milan-1.amaaaaaangencdyabpu5cl4ujxvp72d2lkkknq7kbrmlr2xc53fu4ue6liiq\n",
       "  infrastructure:\n",
       "    kind: infrastructure\n",
       "    spec:\n",
       "      blockStorageSize: 500\n",
       "      compartmentId: ocid1.compartment.oc1..aaaaaaaag2cpni5qj6li5ny6ehuahhepbpveopobooayqfeudqygdtfe6h3a\n",
       "      displayName: job_test-run-2023-03-22-14:13.06\n",
       "      jobInfrastructureType: STANDALONE\n",
       "      jobType: DEFAULT\n",
       "      logGroupId: ocid1.loggroup.oc1.eu-milan-1.amaaaaaangencdya37xpdas7cenw3thhfetpb5qe75ymyymoo2b4w42pbrsq\n",
       "      logId: ocid1.log.oc1.eu-milan-1.amaaaaaangencdyaspdct6j6xl4umonzqwvvhrysal7lcxi2gcj6vt7doqaa\n",
       "      projectId: ocid1.datascienceproject.oc1.eu-milan-1.amaaaaaangencdyageryq6wvsxw6rjdjwagoym3h7hnncszqqnq34g3aakoq\n",
       "      shapeName: VM.Standard2.4\n",
       "      subnetId: ocid1.subnet.oc1.eu-milan-1.aaaaaaaajiptbm2u4svnhnnk7uvb7owx7iii2fqb52n2oz7ura43mizniskq\n",
       "    type: dataScienceJob\n",
       "  name: job_test-run-2023-03-22-14:13.06\n",
       "  runtime:\n",
       "    kind: runtime\n",
       "    spec:\n",
       "      conda:\n",
       "        slug: generalml_p37_cpu_v1\n",
       "        type: service\n",
       "      entrypoint: test.py\n",
       "      scriptPathURI: test.tar.gz\n",
       "    type: script"
      ]
     },
     "execution_count": 10,
     "metadata": {},
     "output_type": "execute_result"
    }
   ],
   "source": [
    "# watch and stream the job run outputs\n",
    "job_run.watch()"
   ]
  },
  {
   "cell_type": "code",
   "execution_count": null,
   "id": "c1f0a5a4",
   "metadata": {},
   "outputs": [],
   "source": []
  }
 ],
 "metadata": {
  "kernelspec": {
   "display_name": "Python [conda env:mygeneralml_p38_cpu_v1_0]",
   "language": "python",
   "name": "conda-env-mygeneralml_p38_cpu_v1_0-py"
  },
  "language_info": {
   "codemirror_mode": {
    "name": "ipython",
    "version": 3
   },
   "file_extension": ".py",
   "mimetype": "text/x-python",
   "name": "python",
   "nbconvert_exporter": "python",
   "pygments_lexer": "ipython3",
   "version": "3.8.13"
  }
 },
 "nbformat": 4,
 "nbformat_minor": 5
}
