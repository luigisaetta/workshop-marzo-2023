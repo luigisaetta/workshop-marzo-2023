{
 "cells": [
  {
   "cell_type": "markdown",
   "id": "61035930",
   "metadata": {},
   "source": [
    "### AutoML"
   ]
  },
  {
   "cell_type": "code",
   "execution_count": 1,
   "id": "ae4bbbed",
   "metadata": {},
   "outputs": [],
   "source": [
    "import pandas as pd\n",
    "from sklearn.model_selection import train_test_split\n",
    "\n",
    "from sklearn.metrics import classification_report\n",
    "from sklearn.metrics import roc_auc_score, accuracy_score, confusion_matrix, ConfusionMatrixDisplay\n",
    "from utils import plot_cm\n",
    "\n",
    "# AutoML\n",
    "import automl\n",
    "from automl import init"
   ]
  },
  {
   "cell_type": "code",
   "execution_count": 2,
   "id": "80a395ee",
   "metadata": {},
   "outputs": [
    {
     "data": {
      "text/html": [
       "<div>\n",
       "<style scoped>\n",
       "    .dataframe tbody tr th:only-of-type {\n",
       "        vertical-align: middle;\n",
       "    }\n",
       "\n",
       "    .dataframe tbody tr th {\n",
       "        vertical-align: top;\n",
       "    }\n",
       "\n",
       "    .dataframe thead th {\n",
       "        text-align: right;\n",
       "    }\n",
       "</style>\n",
       "<table border=\"1\" class=\"dataframe\">\n",
       "  <thead>\n",
       "    <tr style=\"text-align: right;\">\n",
       "      <th></th>\n",
       "      <th>customerID</th>\n",
       "      <th>gender</th>\n",
       "      <th>SeniorCitizen</th>\n",
       "      <th>Partner</th>\n",
       "      <th>Dependents</th>\n",
       "      <th>tenure</th>\n",
       "      <th>PhoneService</th>\n",
       "      <th>MultipleLines</th>\n",
       "      <th>InternetService</th>\n",
       "      <th>OnlineSecurity</th>\n",
       "      <th>...</th>\n",
       "      <th>DeviceProtection</th>\n",
       "      <th>TechSupport</th>\n",
       "      <th>StreamingTV</th>\n",
       "      <th>StreamingMovies</th>\n",
       "      <th>Contract</th>\n",
       "      <th>PaperlessBilling</th>\n",
       "      <th>PaymentMethod</th>\n",
       "      <th>MonthlyCharges</th>\n",
       "      <th>TotalCharges</th>\n",
       "      <th>Churn</th>\n",
       "    </tr>\n",
       "  </thead>\n",
       "  <tbody>\n",
       "    <tr>\n",
       "      <th>0</th>\n",
       "      <td>7590-VHVEG</td>\n",
       "      <td>Female</td>\n",
       "      <td>0</td>\n",
       "      <td>Yes</td>\n",
       "      <td>No</td>\n",
       "      <td>1</td>\n",
       "      <td>No</td>\n",
       "      <td>No phone service</td>\n",
       "      <td>DSL</td>\n",
       "      <td>No</td>\n",
       "      <td>...</td>\n",
       "      <td>No</td>\n",
       "      <td>No</td>\n",
       "      <td>No</td>\n",
       "      <td>No</td>\n",
       "      <td>Month-to-month</td>\n",
       "      <td>Yes</td>\n",
       "      <td>Electronic check</td>\n",
       "      <td>29.85</td>\n",
       "      <td>29.85</td>\n",
       "      <td>No</td>\n",
       "    </tr>\n",
       "    <tr>\n",
       "      <th>1</th>\n",
       "      <td>5575-GNVDE</td>\n",
       "      <td>Male</td>\n",
       "      <td>0</td>\n",
       "      <td>No</td>\n",
       "      <td>No</td>\n",
       "      <td>34</td>\n",
       "      <td>Yes</td>\n",
       "      <td>No</td>\n",
       "      <td>DSL</td>\n",
       "      <td>Yes</td>\n",
       "      <td>...</td>\n",
       "      <td>Yes</td>\n",
       "      <td>No</td>\n",
       "      <td>No</td>\n",
       "      <td>No</td>\n",
       "      <td>One year</td>\n",
       "      <td>No</td>\n",
       "      <td>Mailed check</td>\n",
       "      <td>56.95</td>\n",
       "      <td>1889.5</td>\n",
       "      <td>No</td>\n",
       "    </tr>\n",
       "    <tr>\n",
       "      <th>2</th>\n",
       "      <td>3668-QPYBK</td>\n",
       "      <td>Male</td>\n",
       "      <td>0</td>\n",
       "      <td>No</td>\n",
       "      <td>No</td>\n",
       "      <td>2</td>\n",
       "      <td>Yes</td>\n",
       "      <td>No</td>\n",
       "      <td>DSL</td>\n",
       "      <td>Yes</td>\n",
       "      <td>...</td>\n",
       "      <td>No</td>\n",
       "      <td>No</td>\n",
       "      <td>No</td>\n",
       "      <td>No</td>\n",
       "      <td>Month-to-month</td>\n",
       "      <td>Yes</td>\n",
       "      <td>Mailed check</td>\n",
       "      <td>53.85</td>\n",
       "      <td>108.15</td>\n",
       "      <td>Yes</td>\n",
       "    </tr>\n",
       "    <tr>\n",
       "      <th>3</th>\n",
       "      <td>7795-CFOCW</td>\n",
       "      <td>Male</td>\n",
       "      <td>0</td>\n",
       "      <td>No</td>\n",
       "      <td>No</td>\n",
       "      <td>45</td>\n",
       "      <td>No</td>\n",
       "      <td>No phone service</td>\n",
       "      <td>DSL</td>\n",
       "      <td>Yes</td>\n",
       "      <td>...</td>\n",
       "      <td>Yes</td>\n",
       "      <td>Yes</td>\n",
       "      <td>No</td>\n",
       "      <td>No</td>\n",
       "      <td>One year</td>\n",
       "      <td>No</td>\n",
       "      <td>Bank transfer (automatic)</td>\n",
       "      <td>42.30</td>\n",
       "      <td>1840.75</td>\n",
       "      <td>No</td>\n",
       "    </tr>\n",
       "    <tr>\n",
       "      <th>4</th>\n",
       "      <td>9237-HQITU</td>\n",
       "      <td>Female</td>\n",
       "      <td>0</td>\n",
       "      <td>No</td>\n",
       "      <td>No</td>\n",
       "      <td>2</td>\n",
       "      <td>Yes</td>\n",
       "      <td>No</td>\n",
       "      <td>Fiber optic</td>\n",
       "      <td>No</td>\n",
       "      <td>...</td>\n",
       "      <td>No</td>\n",
       "      <td>No</td>\n",
       "      <td>No</td>\n",
       "      <td>No</td>\n",
       "      <td>Month-to-month</td>\n",
       "      <td>Yes</td>\n",
       "      <td>Electronic check</td>\n",
       "      <td>70.70</td>\n",
       "      <td>151.65</td>\n",
       "      <td>Yes</td>\n",
       "    </tr>\n",
       "  </tbody>\n",
       "</table>\n",
       "<p>5 rows × 21 columns</p>\n",
       "</div>"
      ],
      "text/plain": [
       "   customerID  gender  SeniorCitizen Partner Dependents  tenure PhoneService  \\\n",
       "0  7590-VHVEG  Female              0     Yes         No       1           No   \n",
       "1  5575-GNVDE    Male              0      No         No      34          Yes   \n",
       "2  3668-QPYBK    Male              0      No         No       2          Yes   \n",
       "3  7795-CFOCW    Male              0      No         No      45           No   \n",
       "4  9237-HQITU  Female              0      No         No       2          Yes   \n",
       "\n",
       "      MultipleLines InternetService OnlineSecurity  ... DeviceProtection  \\\n",
       "0  No phone service             DSL             No  ...               No   \n",
       "1                No             DSL            Yes  ...              Yes   \n",
       "2                No             DSL            Yes  ...               No   \n",
       "3  No phone service             DSL            Yes  ...              Yes   \n",
       "4                No     Fiber optic             No  ...               No   \n",
       "\n",
       "  TechSupport StreamingTV StreamingMovies        Contract PaperlessBilling  \\\n",
       "0          No          No              No  Month-to-month              Yes   \n",
       "1          No          No              No        One year               No   \n",
       "2          No          No              No  Month-to-month              Yes   \n",
       "3         Yes          No              No        One year               No   \n",
       "4          No          No              No  Month-to-month              Yes   \n",
       "\n",
       "               PaymentMethod MonthlyCharges  TotalCharges Churn  \n",
       "0           Electronic check          29.85         29.85    No  \n",
       "1               Mailed check          56.95        1889.5    No  \n",
       "2               Mailed check          53.85        108.15   Yes  \n",
       "3  Bank transfer (automatic)          42.30       1840.75    No  \n",
       "4           Electronic check          70.70        151.65   Yes  \n",
       "\n",
       "[5 rows x 21 columns]"
      ]
     },
     "execution_count": 2,
     "metadata": {},
     "output_type": "execute_result"
    }
   ],
   "source": [
    "SEED = 42\n",
    "TRAIN_FRAC = 0.8\n",
    "TARGET = \"Churn\"\n",
    "\n",
    "NAMESPACE = \"frqap2zhtzbe\"\n",
    "BUCKET = \"WORKSHOP\"\n",
    "NOME_FILE = \"customer_churn_data.csv\"\n",
    "\n",
    "URL = f\"oci://{BUCKET}@{NAMESPACE}/{NOME_FILE}\"\n",
    "\n",
    "orig_df = pd.read_csv(URL)\n",
    "\n",
    "orig_df.head()"
   ]
  },
  {
   "cell_type": "code",
   "execution_count": 3,
   "id": "be1abd96",
   "metadata": {},
   "outputs": [],
   "source": [
    "df = orig_df.copy()\n",
    "\n",
    "y = pd.Series(df[TARGET])\n",
    "\n",
    "df_x = df.drop(columns=[TARGET])"
   ]
  },
  {
   "cell_type": "code",
   "execution_count": 4,
   "id": "0efe553b",
   "metadata": {},
   "outputs": [
    {
     "name": "stdout",
     "output_type": "stream",
     "text": [
      "We have 5634 samples in train dataset\n",
      "We have 1409 samples in test dataset\n"
     ]
    }
   ],
   "source": [
    "X_train, X_test, y_train, y_test = train_test_split(df_x, y,\n",
    "                                                    train_size=TRAIN_FRAC ,\n",
    "                                                    random_state=SEED)\n",
    "\n",
    "print(f\"We have {X_train.shape[0]} samples in train dataset\")\n",
    "print(f\"We have {X_test.shape[0]} samples in test dataset\")"
   ]
  },
  {
   "cell_type": "markdown",
   "id": "33a1f50b",
   "metadata": {},
   "source": [
    "#### Auto ML session"
   ]
  },
  {
   "cell_type": "code",
   "execution_count": 5,
   "id": "19751c0a",
   "metadata": {},
   "outputs": [
    {
     "name": "stdout",
     "output_type": "stream",
     "text": [
      "[2023-03-22 10:03:17,516] [automl.xengine] Local ProcessPool execution (n_jobs=8)\n"
     ]
    }
   ],
   "source": [
    "automl.init(engine='local')"
   ]
  },
  {
   "cell_type": "code",
   "execution_count": 6,
   "id": "c6014b0e",
   "metadata": {},
   "outputs": [
    {
     "name": "stdout",
     "output_type": "stream",
     "text": [
      "[2023-03-22 10:03:18,153] [automl.pipeline] Random state (42) is used for model builds\n"
     ]
    }
   ],
   "source": [
    "MODEL_LIST = ['LGBMClassifier', 'XGBClassifier', 'RandomForestClassifier', 'LogisticRegression']\n",
    "\n",
    "est = automl.Pipeline(task='classification', model_list = MODEL_LIST, \n",
    "                      n_algos_tuned = len(MODEL_LIST), \n",
    "                      min_features = 20,\n",
    "                      score_metric = ['accuracy'], random_state=SEED)"
   ]
  },
  {
   "cell_type": "code",
   "execution_count": 7,
   "id": "d172807e",
   "metadata": {},
   "outputs": [
    {
     "name": "stdout",
     "output_type": "stream",
     "text": [
      "[2023-03-22 10:03:19,186] [automl.pipeline] Dataset shape: (5634, 20)\n",
      "[2023-03-22 10:03:19,217] [automl.pipeline] Running Auto-Preprocessing\n",
      "[2023-03-22 10:03:19,487] [automl.pipeline] Preprocessing completed. Updated Dataset shape: (5634, 44), cv: 5\n",
      "[2023-03-22 10:03:19,585] [automl.pipeline] Running Model Selection\n",
      "[2023-03-22 10:03:24,933] [automl.pipeline] Model Selection completed. Selected model: ['XGBClassifier', 'RandomForestClassifier', 'LGBMClassifier', 'LogisticRegression']\n",
      "[2023-03-22 10:03:24,934] [automl.pipeline] Running Adaptive Sampling. Dataset Shape: (5634, 44), Valid Shape: None, CV: 5, Class counts: [4138 1496]\n",
      "[2023-03-22 10:03:26,983] [automl.pipeline] Adaptive Sampling Completed. Updated Dataset Shape: (5634, 44), Valid Shape: None, CV: [(2811, 1127), (2811, 1127), (2811, 1127), (2810, 1127), (2811, 1126)], Class counts: [4138 1496]\n",
      "[2023-03-22 10:03:26,985] [automl.pipeline] Starting Feature Selection 0. Dataset Shape: (5634, 44)\n",
      "[2023-03-22 10:03:43,545] [automl.pipeline] Feature Selection 0 completed. Updated Dataset shape: (5634, 30)\n",
      "[2023-03-22 10:03:43,565] [automl.pipeline] Tuning XGBClassifier\n",
      "[2023-03-22 10:04:15,475] [automl.pipeline] Tuning completed. Best params: {'booster': 'gbtree', 'learning_rate': 0.1, 'max_depth': 3, 'min_child_weight': 2, 'n_estimators': 100, 'reg_alpha': 0, 'reg_lambda': 1}\n",
      "[2023-03-22 10:04:15,508] [automl.pipeline] Starting Feature Selection 1. Dataset Shape: (5634, 44)\n",
      "[2023-03-22 10:04:51,798] [automl.pipeline] Feature Selection 1 completed. Updated Dataset shape: (5634, 28)\n",
      "[2023-03-22 10:04:51,812] [automl.pipeline] Tuning RandomForestClassifier\n",
      "[2023-03-22 10:05:30,748] [automl.pipeline] Tuning completed. Best params: {'class_weight': None, 'max_features': 0.777777778, 'min_samples_leaf': 0.000625, 'min_samples_split': 0.033410449352570794, 'n_estimators': 100}\n",
      "[2023-03-22 10:05:30,773] [automl.pipeline] Starting Feature Selection 2. Dataset Shape: (5634, 44)\n",
      "[2023-03-22 10:05:41,107] [automl.pipeline] Feature Selection 2 completed. Updated Dataset shape: (5634, 23)\n",
      "[2023-03-22 10:05:41,124] [automl.pipeline] Tuning LGBMClassifier\n",
      "[2023-03-22 10:05:56,268] [automl.pipeline] Tuning completed. Best params: {'boosting_type': 'gbdt', 'class_weight': None, 'learning_rate': 0.1, 'max_depth': -1, 'min_child_weight': 0.001, 'n_estimators': 6, 'num_leaves': 31, 'reg_alpha': 0, 'reg_lambda': 0.018783319485647054}\n",
      "[2023-03-22 10:05:56,308] [automl.pipeline] Starting Feature Selection 3. Dataset Shape: (5634, 44)\n",
      "[2023-03-22 10:06:00,966] [automl.pipeline] Feature Selection 3 completed. Updated Dataset shape: (5634, 35)\n",
      "[2023-03-22 10:06:00,980] [automl.pipeline] Tuning LogisticRegression\n",
      "[2023-03-22 10:06:03,105] [automl.pipeline] Tuning completed. Best params: {'C': 0.03125, 'class_weight': None, 'solver': 'lbfgs'}\n",
      "[2023-03-22 10:06:04,296] [automl.pipeline] (Re)fitting Pipeline\n",
      "[2023-03-22 10:06:06,819] [automl.xengine] Local ProcessPool execution (n_jobs=8)\n",
      "[2023-03-22 10:06:07,879] [automl.pipeline] AutoML completed. Time taken - 166.334 sec\n"
     ]
    },
    {
     "data": {
      "text/html": [
       "<style>#sk-container-id-1 {color: black;background-color: white;}#sk-container-id-1 pre{padding: 0;}#sk-container-id-1 div.sk-toggleable {background-color: white;}#sk-container-id-1 label.sk-toggleable__label {cursor: pointer;display: block;width: 100%;margin-bottom: 0;padding: 0.3em;box-sizing: border-box;text-align: center;}#sk-container-id-1 label.sk-toggleable__label-arrow:before {content: \"▸\";float: left;margin-right: 0.25em;color: #696969;}#sk-container-id-1 label.sk-toggleable__label-arrow:hover:before {color: black;}#sk-container-id-1 div.sk-estimator:hover label.sk-toggleable__label-arrow:before {color: black;}#sk-container-id-1 div.sk-toggleable__content {max-height: 0;max-width: 0;overflow: hidden;text-align: left;background-color: #f0f8ff;}#sk-container-id-1 div.sk-toggleable__content pre {margin: 0.2em;color: black;border-radius: 0.25em;background-color: #f0f8ff;}#sk-container-id-1 input.sk-toggleable__control:checked~div.sk-toggleable__content {max-height: 200px;max-width: 100%;overflow: auto;}#sk-container-id-1 input.sk-toggleable__control:checked~label.sk-toggleable__label-arrow:before {content: \"▾\";}#sk-container-id-1 div.sk-estimator input.sk-toggleable__control:checked~label.sk-toggleable__label {background-color: #d4ebff;}#sk-container-id-1 div.sk-label input.sk-toggleable__control:checked~label.sk-toggleable__label {background-color: #d4ebff;}#sk-container-id-1 input.sk-hidden--visually {border: 0;clip: rect(1px 1px 1px 1px);clip: rect(1px, 1px, 1px, 1px);height: 1px;margin: -1px;overflow: hidden;padding: 0;position: absolute;width: 1px;}#sk-container-id-1 div.sk-estimator {font-family: monospace;background-color: #f0f8ff;border: 1px dotted black;border-radius: 0.25em;box-sizing: border-box;margin-bottom: 0.5em;}#sk-container-id-1 div.sk-estimator:hover {background-color: #d4ebff;}#sk-container-id-1 div.sk-parallel-item::after {content: \"\";width: 100%;border-bottom: 1px solid gray;flex-grow: 1;}#sk-container-id-1 div.sk-label:hover label.sk-toggleable__label {background-color: #d4ebff;}#sk-container-id-1 div.sk-serial::before {content: \"\";position: absolute;border-left: 1px solid gray;box-sizing: border-box;top: 0;bottom: 0;left: 50%;z-index: 0;}#sk-container-id-1 div.sk-serial {display: flex;flex-direction: column;align-items: center;background-color: white;padding-right: 0.2em;padding-left: 0.2em;position: relative;}#sk-container-id-1 div.sk-item {position: relative;z-index: 1;}#sk-container-id-1 div.sk-parallel {display: flex;align-items: stretch;justify-content: center;background-color: white;position: relative;}#sk-container-id-1 div.sk-item::before, #sk-container-id-1 div.sk-parallel-item::before {content: \"\";position: absolute;border-left: 1px solid gray;box-sizing: border-box;top: 0;bottom: 0;left: 50%;z-index: -1;}#sk-container-id-1 div.sk-parallel-item {display: flex;flex-direction: column;z-index: 1;position: relative;background-color: white;}#sk-container-id-1 div.sk-parallel-item:first-child::after {align-self: flex-end;width: 50%;}#sk-container-id-1 div.sk-parallel-item:last-child::after {align-self: flex-start;width: 50%;}#sk-container-id-1 div.sk-parallel-item:only-child::after {width: 0;}#sk-container-id-1 div.sk-dashed-wrapped {border: 1px dashed gray;margin: 0 0.4em 0.5em 0.4em;box-sizing: border-box;padding-bottom: 0.4em;background-color: white;}#sk-container-id-1 div.sk-label label {font-family: monospace;font-weight: bold;display: inline-block;line-height: 1.2em;}#sk-container-id-1 div.sk-label-container {text-align: center;}#sk-container-id-1 div.sk-container {/* jupyter's `normalize.less` sets `[hidden] { display: none; }` but bootstrap.min.css set `[hidden] { display: none !important; }` so we also need the `!important` here to be able to override the default hidden behavior on the sphinx rendered scikit-learn.org. See: https://github.com/scikit-learn/scikit-learn/issues/21755 */display: inline-block !important;position: relative;}#sk-container-id-1 div.sk-text-repr-fallback {display: none;}</style><div id=\"sk-container-id-1\" class=\"sk-top-container\"><div class=\"sk-text-repr-fallback\"><pre>Pipeline(min_features=20,\n",
       "         model_list=[&#x27;LGBMClassifier&#x27;, &#x27;XGBClassifier&#x27;,\n",
       "                     &#x27;RandomForestClassifier&#x27;, &#x27;LogisticRegression&#x27;],\n",
       "         random_state=42)</pre><b>In a Jupyter environment, please rerun this cell to show the HTML representation or trust the notebook. <br />On GitHub, the HTML representation is unable to render, please try loading this page with nbviewer.org.</b></div><div class=\"sk-container\" hidden><div class=\"sk-item\"><div class=\"sk-estimator sk-toggleable\"><input class=\"sk-toggleable__control sk-hidden--visually\" id=\"sk-estimator-id-1\" type=\"checkbox\" checked><label for=\"sk-estimator-id-1\" class=\"sk-toggleable__label sk-toggleable__label-arrow\">Pipeline</label><div class=\"sk-toggleable__content\"><pre>Pipeline(min_features=20,\n",
       "         model_list=[&#x27;LGBMClassifier&#x27;, &#x27;XGBClassifier&#x27;,\n",
       "                     &#x27;RandomForestClassifier&#x27;, &#x27;LogisticRegression&#x27;],\n",
       "         random_state=42)</pre></div></div></div></div></div>"
      ],
      "text/plain": [
       "Pipeline(min_features=20,\n",
       "         model_list=['LGBMClassifier', 'XGBClassifier',\n",
       "                     'RandomForestClassifier', 'LogisticRegression'],\n",
       "         random_state=42)"
      ]
     },
     "execution_count": 7,
     "metadata": {},
     "output_type": "execute_result"
    }
   ],
   "source": [
    "est.fit(X_train, y_train, cv=5, time_budget=900)"
   ]
  },
  {
   "cell_type": "code",
   "execution_count": 8,
   "id": "58188bcd",
   "metadata": {},
   "outputs": [
    {
     "data": {
      "text/html": [
       "<table border=\"1\" class=\"dataframe\">\n",
       "  <tbody>\n",
       "    <tr>\n",
       "      <td>Training Dataset size</td>\n",
       "      <td>(5634, 20)</td>\n",
       "    </tr>\n",
       "    <tr>\n",
       "      <td>Validation Dataset size</td>\n",
       "      <td>None</td>\n",
       "    </tr>\n",
       "    <tr>\n",
       "      <td>CV</td>\n",
       "      <td>5</td>\n",
       "    </tr>\n",
       "    <tr>\n",
       "      <td>Optimization Metric</td>\n",
       "      <td>accuracy</td>\n",
       "    </tr>\n",
       "    <tr>\n",
       "      <td>Selected Features</td>\n",
       "      <td>Index(['gender_1', 'gender_2', 'SeniorCitizen', 'Partner_1', 'Partner_2',\n",
       "       'tenure', 'MultipleLines_1', 'MultipleLines_3', 'InternetService_2',\n",
       "       'OnlineSecurity_1', 'OnlineSecurity_3', 'OnlineBackup_1',\n",
       "       'DeviceProtection_1', 'TechSupport_1', 'Contract_1', 'Contract_2',\n",
       "       'Contract_3', 'PaperlessBilling_1', 'PaperlessBilling_2',\n",
       "       'PaymentMethod_1', 'PaymentMethod_2', 'PaymentMethod_3',\n",
       "       'MonthlyCharges'],\n",
       "      dtype='object')</td>\n",
       "    </tr>\n",
       "    <tr>\n",
       "      <td>Selected Algorithm</td>\n",
       "      <td>LGBMClassifier</td>\n",
       "    </tr>\n",
       "    <tr>\n",
       "      <td>Time taken</td>\n",
       "      <td>163.9388</td>\n",
       "    </tr>\n",
       "    <tr>\n",
       "      <td>Selected Hyperparameters</td>\n",
       "      <td>{'boosting_type': 'gbdt', 'class_weight': None, 'colsample_bytree': 1.0, 'importance_type': 'split', 'learning_rate': 0.1, 'max_depth': -1, 'min_child_samples': 20, 'min_child_weight': 0.001, 'min_split_gain': 0.0, 'n_estimators': 6, 'n_jobs': 16, 'num_leaves': 31, 'objective': None, 'random_state': 42, 'reg_alpha': 0, 'reg_lambda': 0.018783319485647054, 'silent': 'warn', 'subsample': 1.0, 'subsample_for_bin': 200000, 'subsample_freq': 0}</td>\n",
       "    </tr>\n",
       "    <tr>\n",
       "      <td>AutoML version</td>\n",
       "      <td>23.1.1</td>\n",
       "    </tr>\n",
       "    <tr>\n",
       "      <td>Python version</td>\n",
       "      <td>3.8.16 (default, Mar  2 2023, 03:21:46) \\n[GCC 11.2.0]</td>\n",
       "    </tr>\n",
       "  </tbody>\n",
       "</table>"
      ],
      "text/plain": [
       "<IPython.core.display.HTML object>"
      ]
     },
     "metadata": {},
     "output_type": "display_data"
    },
    {
     "data": {
      "text/html": [
       "<table border=\"1\" class=\"dataframe\">\n",
       "  <thead>\n",
       "    <tr style=\"text-align: right;\">\n",
       "      <th>Algorithm</th>\n",
       "      <th>#Samples</th>\n",
       "      <th>#Features</th>\n",
       "      <th>Mean Validation Score</th>\n",
       "      <th>Hyperparameters</th>\n",
       "      <th>CPU Time</th>\n",
       "      <th>Memory Usage (GB)</th>\n",
       "    </tr>\n",
       "  </thead>\n",
       "  <tbody>\n",
       "    <tr>\n",
       "      <td>XGBClassifier_AS</td>\n",
       "      <td>5000</td>\n",
       "      <td>44</td>\n",
       "      <td>0.7993</td>\n",
       "      <td>{'booster': 'gbtree', 'learning_rate': 0.1, 'max_depth': 3, 'min_child_weight': 1, 'n_estimators': 100, 'reg_alpha': 0, 'reg_lambda': 1}</td>\n",
       "      <td>3.1522</td>\n",
       "      <td>0.0</td>\n",
       "    </tr>\n",
       "    <tr>\n",
       "      <td>LGBMClassifier_HT</td>\n",
       "      <td>5634</td>\n",
       "      <td>23</td>\n",
       "      <td>0.7879</td>\n",
       "      <td>{'boosting_type': 'gbdt', 'class_weight': None, 'learning_rate': 0.1, 'max_depth': -1, 'min_child_weight': 0.001, 'n_estimators': 6, 'num_leaves': 31, 'reg_alpha': 0, 'reg_lambda': 0.018783319485647054}</td>\n",
       "      <td>0.1814</td>\n",
       "      <td>(0.0, None)</td>\n",
       "    </tr>\n",
       "    <tr>\n",
       "      <td>LGBMClassifier_HT</td>\n",
       "      <td>5634</td>\n",
       "      <td>23</td>\n",
       "      <td>0.7879</td>\n",
       "      <td>{'boosting_type': 'dart', 'class_weight': None, 'learning_rate': 0.1, 'max_depth': -1, 'min_child_weight': 0.001, 'n_estimators': 6, 'num_leaves': 31, 'reg_alpha': 0, 'reg_lambda': 0.018783319485647054}</td>\n",
       "      <td>0.1360</td>\n",
       "      <td>(0.0, None)</td>\n",
       "    </tr>\n",
       "    <tr>\n",
       "      <td>LGBMClassifier_HT</td>\n",
       "      <td>5634</td>\n",
       "      <td>23</td>\n",
       "      <td>0.7879</td>\n",
       "      <td>{'boosting_type': 'goss', 'class_weight': None, 'learning_rate': 0.1, 'max_depth': -1, 'min_child_weight': 0.001, 'n_estimators': 6, 'num_leaves': 31, 'reg_alpha': 0, 'reg_lambda': 0.018783319485647054}</td>\n",
       "      <td>0.1410</td>\n",
       "      <td>(0.0, None)</td>\n",
       "    </tr>\n",
       "    <tr>\n",
       "      <td>LGBMClassifier_HT</td>\n",
       "      <td>5634</td>\n",
       "      <td>23</td>\n",
       "      <td>0.7863</td>\n",
       "      <td>{'boosting_type': 'dart', 'class_weight': None, 'learning_rate': 0.1, 'max_depth': -1, 'min_child_weight': 0.001, 'n_estimators': 7, 'num_leaves': 31, 'reg_alpha': 0, 'reg_lambda': 1}</td>\n",
       "      <td>0.1584</td>\n",
       "      <td>(0.0, None)</td>\n",
       "    </tr>\n",
       "    <tr>\n",
       "      <td>...</td>\n",
       "      <td>...</td>\n",
       "      <td>...</td>\n",
       "      <td>...</td>\n",
       "      <td>...</td>\n",
       "      <td>...</td>\n",
       "      <td>...</td>\n",
       "    </tr>\n",
       "    <tr>\n",
       "      <td>LGBMClassifier_HT</td>\n",
       "      <td>5634</td>\n",
       "      <td>23</td>\n",
       "      <td>0.6541</td>\n",
       "      <td>{'boosting_type': 'dart', 'class_weight': 'balanced', 'learning_rate': 0.0001, 'max_depth': 1, 'min_child_weight': 0.0, 'n_estimators': 5, 'num_leaves': 3, 'reg_alpha': 1e-10, 'reg_lambda': 0.0031722934713580386}</td>\n",
       "      <td>0.1193</td>\n",
       "      <td>(0.0, None)</td>\n",
       "    </tr>\n",
       "    <tr>\n",
       "      <td>LGBMClassifier_HT</td>\n",
       "      <td>5634</td>\n",
       "      <td>23</td>\n",
       "      <td>0.6541</td>\n",
       "      <td>{'boosting_type': 'dart', 'class_weight': 'balanced', 'learning_rate': 0.0001, 'max_depth': 1, 'min_child_weight': 0.0, 'n_estimators': 5, 'num_leaves': 3, 'reg_alpha': 1e-10, 'reg_lambda': 0.999990000000001}</td>\n",
       "      <td>0.1120</td>\n",
       "      <td>(0.0, None)</td>\n",
       "    </tr>\n",
       "    <tr>\n",
       "      <td>LGBMClassifier_HT</td>\n",
       "      <td>5634</td>\n",
       "      <td>23</td>\n",
       "      <td>0.6541</td>\n",
       "      <td>{'boosting_type': 'dart', 'class_weight': 'balanced', 'learning_rate': 0.0001, 'max_depth': 1, 'min_child_weight': 0.0, 'n_estimators': 5, 'num_leaves': 3, 'reg_alpha': 1e-10, 'reg_lambda': 1}</td>\n",
       "      <td>0.1005</td>\n",
       "      <td>(0.0, None)</td>\n",
       "    </tr>\n",
       "    <tr>\n",
       "      <td>LGBMClassifier_HT</td>\n",
       "      <td>5634</td>\n",
       "      <td>23</td>\n",
       "      <td>0.6541</td>\n",
       "      <td>{'boosting_type': 'dart', 'class_weight': 'balanced', 'learning_rate': 0.0001, 'max_depth': 1, 'min_child_weight': 0.0, 'n_estimators': 6, 'num_leaves': 3, 'reg_alpha': 1e-10, 'reg_lambda': 1e-10}</td>\n",
       "      <td>0.1048</td>\n",
       "      <td>(0.0, None)</td>\n",
       "    </tr>\n",
       "    <tr>\n",
       "      <td>LGBMClassifier_HT</td>\n",
       "      <td>5634</td>\n",
       "      <td>23</td>\n",
       "      <td>0.6541</td>\n",
       "      <td>{'boosting_type': 'dart', 'class_weight': 'balanced', 'learning_rate': 0.0001, 'max_depth': 1, 'min_child_weight': 0.0, 'n_estimators': 101, 'num_leaves': 3, 'reg_alpha': 1e-10, 'reg_lambda': 1e-10}</td>\n",
       "      <td>0.4236</td>\n",
       "      <td>(0.0, None)</td>\n",
       "    </tr>\n",
       "  </tbody>\n",
       "</table>"
      ],
      "text/plain": [
       "<IPython.core.display.HTML object>"
      ]
     },
     "metadata": {},
     "output_type": "display_data"
    }
   ],
   "source": [
    "est.print_summary()"
   ]
  },
  {
   "cell_type": "markdown",
   "id": "445ba38c",
   "metadata": {},
   "source": [
    "#### Evaluation"
   ]
  },
  {
   "cell_type": "code",
   "execution_count": 11,
   "id": "efeea691",
   "metadata": {},
   "outputs": [
    {
     "name": "stdout",
     "output_type": "stream",
     "text": [
      "Test set result:\n",
      "{'accuracy': 0.7786, 'roc_auc': 0.8574}\n"
     ]
    }
   ],
   "source": [
    "test_pred = est.predict(X_test)\n",
    "test_probas = est.predict_proba(X_test)\n",
    "\n",
    "print('Test set result:')\n",
    "\n",
    "roc_auc = round(roc_auc_score(y_test, test_probas[:,1]), 4)\n",
    "acc = round(accuracy_score(y_test, test_pred), 4)\n",
    "\n",
    "# this is the Object that can be saved in the Model Catalog\n",
    "metrics = {\n",
    "    \"accuracy\" : acc,\n",
    "    \"roc_auc\" : roc_auc\n",
    "}\n",
    "\n",
    "print(str(metrics))"
   ]
  },
  {
   "cell_type": "code",
   "execution_count": 12,
   "id": "ce41170b",
   "metadata": {},
   "outputs": [
    {
     "data": {
      "image/png": "[encoded data removed]",
      "text/plain": [
       "<Figure size 640x480 with 2 Axes>"
      ]
     },
     "metadata": {},
     "output_type": "display_data"
    }
   ],
   "source": [
    "plot_cm(est, X_test, y_test)"
   ]
  },
  {
   "cell_type": "markdown",
   "id": "2bc0a767",
   "metadata": {},
   "source": [
    "### Si può vedere che il modello funziona particolarmente male sui positivi (troppi FN)"
   ]
  },
  {
   "cell_type": "code",
   "execution_count": null,
   "id": "d07a47a4",
   "metadata": {},
   "outputs": [],
   "source": []
  }
 ],
 "metadata": {
  "kernelspec": {
   "display_name": "Python [conda env:automlx_p38_cpu_v2]",
   "language": "python",
   "name": "conda-env-automlx_p38_cpu_v2-py"
  },
  "language_info": {
   "codemirror_mode": {
    "name": "ipython",
    "version": 3
   },
   "file_extension": ".py",
   "mimetype": "text/x-python",
   "name": "python",
   "nbconvert_exporter": "python",
   "pygments_lexer": "ipython3",
   "version": "3.8.16"
  }
 },
 "nbformat": 4,
 "nbformat_minor": 5
}
