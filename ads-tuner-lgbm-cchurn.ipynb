{
 "cells": [
  {
   "cell_type": "markdown",
   "id": "27381ecf",
   "metadata": {},
   "source": [
    "### Train and tune LGBM using ADS ADSTuner\n",
    "\n",
    "see: https://accelerated-data-science.readthedocs.io/en/latest/user_guide/model_training/ads_tuner.html#\n",
    "\n",
    "* https://lightgbm.readthedocs.io/en/v3.3.2/\n",
    "* applicato al caso **customer churn**\n",
    "* usa: generalml_ come ambiente conda\n",
    "* (23/03): switched to p38"
   ]
  },
  {
   "cell_type": "code",
   "execution_count": 1,
   "id": "a8e19ae2",
   "metadata": {},
   "outputs": [],
   "source": [
    "import pandas as pd\n",
    "import matplotlib.pyplot as plt\n",
    "import lightgbm as lgb\n",
    "import imblearn\n",
    "\n",
    "from sklearn.metrics import classification_report\n",
    "from sklearn.metrics import (get_scorer, make_scorer, f1_score, roc_auc_score, accuracy_score, \n",
    "                             confusion_matrix, ConfusionMatrixDisplay)\n",
    "from sklearn.model_selection import train_test_split\n",
    "from sklearn.preprocessing import OrdinalEncoder, LabelEncoder\n",
    "\n",
    "# ADS tuner\n",
    "from ads.hpo.distributions import *\n",
    "from ads.hpo.search_cv import ADSTuner\n",
    "from ads.hpo.stopping_criterion import *\n",
    "\n",
    "# to rebalance\n",
    "from imblearn.over_sampling import RandomOverSampler\n",
    "\n",
    "from utils import (cat_cols_selector,\n",
    "                  num_cols_selector,\n",
    "                  plot_cm,\n",
    "                  evaluate_metrics)\n",
    "\n",
    "%matplotlib inline"
   ]
  },
  {
   "cell_type": "markdown",
   "id": "0b9538d6",
   "metadata": {},
   "source": [
    "#### Legge i dati dall'Object Storage"
   ]
  },
  {
   "cell_type": "code",
   "execution_count": 2,
   "id": "2c2b2cba",
   "metadata": {},
   "outputs": [
    {
     "data": {
      "text/html": [
       "<div>\n",
       "<style scoped>\n",
       "    .dataframe tbody tr th:only-of-type {\n",
       "        vertical-align: middle;\n",
       "    }\n",
       "\n",
       "    .dataframe tbody tr th {\n",
       "        vertical-align: top;\n",
       "    }\n",
       "\n",
       "    .dataframe thead th {\n",
       "        text-align: right;\n",
       "    }\n",
       "</style>\n",
       "<table border=\"1\" class=\"dataframe\">\n",
       "  <thead>\n",
       "    <tr style=\"text-align: right;\">\n",
       "      <th></th>\n",
       "      <th>customerID</th>\n",
       "      <th>gender</th>\n",
       "      <th>SeniorCitizen</th>\n",
       "      <th>Partner</th>\n",
       "      <th>Dependents</th>\n",
       "      <th>tenure</th>\n",
       "      <th>PhoneService</th>\n",
       "      <th>MultipleLines</th>\n",
       "      <th>InternetService</th>\n",
       "      <th>OnlineSecurity</th>\n",
       "      <th>...</th>\n",
       "      <th>DeviceProtection</th>\n",
       "      <th>TechSupport</th>\n",
       "      <th>StreamingTV</th>\n",
       "      <th>StreamingMovies</th>\n",
       "      <th>Contract</th>\n",
       "      <th>PaperlessBilling</th>\n",
       "      <th>PaymentMethod</th>\n",
       "      <th>MonthlyCharges</th>\n",
       "      <th>TotalCharges</th>\n",
       "      <th>Churn</th>\n",
       "    </tr>\n",
       "  </thead>\n",
       "  <tbody>\n",
       "    <tr>\n",
       "      <th>0</th>\n",
       "      <td>7590-VHVEG</td>\n",
       "      <td>Female</td>\n",
       "      <td>0</td>\n",
       "      <td>Yes</td>\n",
       "      <td>No</td>\n",
       "      <td>1</td>\n",
       "      <td>No</td>\n",
       "      <td>No phone service</td>\n",
       "      <td>DSL</td>\n",
       "      <td>No</td>\n",
       "      <td>...</td>\n",
       "      <td>No</td>\n",
       "      <td>No</td>\n",
       "      <td>No</td>\n",
       "      <td>No</td>\n",
       "      <td>Month-to-month</td>\n",
       "      <td>Yes</td>\n",
       "      <td>Electronic check</td>\n",
       "      <td>29.85</td>\n",
       "      <td>29.85</td>\n",
       "      <td>No</td>\n",
       "    </tr>\n",
       "    <tr>\n",
       "      <th>1</th>\n",
       "      <td>5575-GNVDE</td>\n",
       "      <td>Male</td>\n",
       "      <td>0</td>\n",
       "      <td>No</td>\n",
       "      <td>No</td>\n",
       "      <td>34</td>\n",
       "      <td>Yes</td>\n",
       "      <td>No</td>\n",
       "      <td>DSL</td>\n",
       "      <td>Yes</td>\n",
       "      <td>...</td>\n",
       "      <td>Yes</td>\n",
       "      <td>No</td>\n",
       "      <td>No</td>\n",
       "      <td>No</td>\n",
       "      <td>One year</td>\n",
       "      <td>No</td>\n",
       "      <td>Mailed check</td>\n",
       "      <td>56.95</td>\n",
       "      <td>1889.5</td>\n",
       "      <td>No</td>\n",
       "    </tr>\n",
       "    <tr>\n",
       "      <th>2</th>\n",
       "      <td>3668-QPYBK</td>\n",
       "      <td>Male</td>\n",
       "      <td>0</td>\n",
       "      <td>No</td>\n",
       "      <td>No</td>\n",
       "      <td>2</td>\n",
       "      <td>Yes</td>\n",
       "      <td>No</td>\n",
       "      <td>DSL</td>\n",
       "      <td>Yes</td>\n",
       "      <td>...</td>\n",
       "      <td>No</td>\n",
       "      <td>No</td>\n",
       "      <td>No</td>\n",
       "      <td>No</td>\n",
       "      <td>Month-to-month</td>\n",
       "      <td>Yes</td>\n",
       "      <td>Mailed check</td>\n",
       "      <td>53.85</td>\n",
       "      <td>108.15</td>\n",
       "      <td>Yes</td>\n",
       "    </tr>\n",
       "    <tr>\n",
       "      <th>3</th>\n",
       "      <td>7795-CFOCW</td>\n",
       "      <td>Male</td>\n",
       "      <td>0</td>\n",
       "      <td>No</td>\n",
       "      <td>No</td>\n",
       "      <td>45</td>\n",
       "      <td>No</td>\n",
       "      <td>No phone service</td>\n",
       "      <td>DSL</td>\n",
       "      <td>Yes</td>\n",
       "      <td>...</td>\n",
       "      <td>Yes</td>\n",
       "      <td>Yes</td>\n",
       "      <td>No</td>\n",
       "      <td>No</td>\n",
       "      <td>One year</td>\n",
       "      <td>No</td>\n",
       "      <td>Bank transfer (automatic)</td>\n",
       "      <td>42.30</td>\n",
       "      <td>1840.75</td>\n",
       "      <td>No</td>\n",
       "    </tr>\n",
       "    <tr>\n",
       "      <th>4</th>\n",
       "      <td>9237-HQITU</td>\n",
       "      <td>Female</td>\n",
       "      <td>0</td>\n",
       "      <td>No</td>\n",
       "      <td>No</td>\n",
       "      <td>2</td>\n",
       "      <td>Yes</td>\n",
       "      <td>No</td>\n",
       "      <td>Fiber optic</td>\n",
       "      <td>No</td>\n",
       "      <td>...</td>\n",
       "      <td>No</td>\n",
       "      <td>No</td>\n",
       "      <td>No</td>\n",
       "      <td>No</td>\n",
       "      <td>Month-to-month</td>\n",
       "      <td>Yes</td>\n",
       "      <td>Electronic check</td>\n",
       "      <td>70.70</td>\n",
       "      <td>151.65</td>\n",
       "      <td>Yes</td>\n",
       "    </tr>\n",
       "  </tbody>\n",
       "</table>\n",
       "<p>5 rows × 21 columns</p>\n",
       "</div>"
      ],
      "text/plain": [
       "   customerID  gender  SeniorCitizen Partner Dependents  tenure PhoneService  \\\n",
       "0  7590-VHVEG  Female              0     Yes         No       1           No   \n",
       "1  5575-GNVDE    Male              0      No         No      34          Yes   \n",
       "2  3668-QPYBK    Male              0      No         No       2          Yes   \n",
       "3  7795-CFOCW    Male              0      No         No      45           No   \n",
       "4  9237-HQITU  Female              0      No         No       2          Yes   \n",
       "\n",
       "      MultipleLines InternetService OnlineSecurity  ... DeviceProtection  \\\n",
       "0  No phone service             DSL             No  ...               No   \n",
       "1                No             DSL            Yes  ...              Yes   \n",
       "2                No             DSL            Yes  ...               No   \n",
       "3  No phone service             DSL            Yes  ...              Yes   \n",
       "4                No     Fiber optic             No  ...               No   \n",
       "\n",
       "  TechSupport StreamingTV StreamingMovies        Contract PaperlessBilling  \\\n",
       "0          No          No              No  Month-to-month              Yes   \n",
       "1          No          No              No        One year               No   \n",
       "2          No          No              No  Month-to-month              Yes   \n",
       "3         Yes          No              No        One year               No   \n",
       "4          No          No              No  Month-to-month              Yes   \n",
       "\n",
       "               PaymentMethod MonthlyCharges  TotalCharges Churn  \n",
       "0           Electronic check          29.85         29.85    No  \n",
       "1               Mailed check          56.95        1889.5    No  \n",
       "2               Mailed check          53.85        108.15   Yes  \n",
       "3  Bank transfer (automatic)          42.30       1840.75    No  \n",
       "4           Electronic check          70.70        151.65   Yes  \n",
       "\n",
       "[5 rows x 21 columns]"
      ]
     },
     "execution_count": 2,
     "metadata": {},
     "output_type": "execute_result"
    }
   ],
   "source": [
    "NAMESPACE = \"frqap2zhtzbe\"\n",
    "BUCKET = \"WORKSHOP\"\n",
    "NOME_FILE = \"customer_churn_data.csv\"\n",
    "\n",
    "URL = f\"oci://{BUCKET}@{NAMESPACE}/{NOME_FILE}\"\n",
    "\n",
    "orig_df = pd.read_csv(URL)\n",
    "\n",
    "orig_df.head()"
   ]
  },
  {
   "cell_type": "markdown",
   "id": "346ed76f",
   "metadata": {},
   "source": [
    "#### Data Preparation, Feature Engineering"
   ]
  },
  {
   "cell_type": "code",
   "execution_count": 3,
   "id": "83c16edc",
   "metadata": {},
   "outputs": [],
   "source": [
    "# get rid of some columns\n",
    "cols_to_drop = ['customerID', 'TotalCharges']\n",
    "\n",
    "df = orig_df.drop(columns=cols_to_drop)\n",
    "\n",
    "TARGET = \"Churn\"\n",
    "features = list(set(df.columns) - set([TARGET]))"
   ]
  },
  {
   "cell_type": "code",
   "execution_count": 4,
   "id": "088132e3",
   "metadata": {},
   "outputs": [],
   "source": [
    "# identify categorical and continuous\n",
    "cat_cols = cat_cols_selector(df, TARGET)\n",
    "num_cols = num_cols_selector(df, TARGET)"
   ]
  },
  {
   "cell_type": "code",
   "execution_count": 5,
   "id": "a4b2a8f9",
   "metadata": {},
   "outputs": [],
   "source": [
    "# code categorical as integer for LightGBM\n",
    "enc = OrdinalEncoder()\n",
    "enc.fit(df[cat_cols])\n",
    "\n",
    "df[cat_cols] = enc.transform(df[cat_cols])\n",
    "\n",
    "for col in cat_cols:\n",
    "    df[col] = df[col].astype(\"category\")"
   ]
  },
  {
   "cell_type": "code",
   "execution_count": 6,
   "id": "8db8ee75",
   "metadata": {},
   "outputs": [
    {
     "name": "stdout",
     "output_type": "stream",
     "text": [
      "<class 'pandas.core.frame.DataFrame'>\n",
      "RangeIndex: 7043 entries, 0 to 7042\n",
      "Data columns (total 19 columns):\n",
      " #   Column            Non-Null Count  Dtype   \n",
      "---  ------            --------------  -----   \n",
      " 0   gender            7043 non-null   category\n",
      " 1   SeniorCitizen     7043 non-null   category\n",
      " 2   Partner           7043 non-null   category\n",
      " 3   Dependents        7043 non-null   category\n",
      " 4   tenure            7043 non-null   int64   \n",
      " 5   PhoneService      7043 non-null   category\n",
      " 6   MultipleLines     7043 non-null   category\n",
      " 7   InternetService   7043 non-null   category\n",
      " 8   OnlineSecurity    7043 non-null   category\n",
      " 9   OnlineBackup      7043 non-null   category\n",
      " 10  DeviceProtection  7043 non-null   category\n",
      " 11  TechSupport       7043 non-null   category\n",
      " 12  StreamingTV       7043 non-null   category\n",
      " 13  StreamingMovies   7043 non-null   category\n",
      " 14  Contract          7043 non-null   category\n",
      " 15  PaperlessBilling  7043 non-null   category\n",
      " 16  PaymentMethod     7043 non-null   category\n",
      " 17  MonthlyCharges    7043 non-null   float64 \n",
      " 18  Churn             7043 non-null   object  \n",
      "dtypes: category(16), float64(1), int64(1), object(1)\n",
      "memory usage: 277.3+ KB\n"
     ]
    }
   ],
   "source": [
    "df.info()"
   ]
  },
  {
   "cell_type": "code",
   "execution_count": 7,
   "id": "9b94063c",
   "metadata": {},
   "outputs": [
    {
     "data": {
      "text/html": [
       "<div>\n",
       "<style scoped>\n",
       "    .dataframe tbody tr th:only-of-type {\n",
       "        vertical-align: middle;\n",
       "    }\n",
       "\n",
       "    .dataframe tbody tr th {\n",
       "        vertical-align: top;\n",
       "    }\n",
       "\n",
       "    .dataframe thead th {\n",
       "        text-align: right;\n",
       "    }\n",
       "</style>\n",
       "<table border=\"1\" class=\"dataframe\">\n",
       "  <thead>\n",
       "    <tr style=\"text-align: right;\">\n",
       "      <th></th>\n",
       "      <th>gender</th>\n",
       "      <th>SeniorCitizen</th>\n",
       "      <th>Partner</th>\n",
       "      <th>Dependents</th>\n",
       "      <th>tenure</th>\n",
       "      <th>PhoneService</th>\n",
       "      <th>MultipleLines</th>\n",
       "      <th>InternetService</th>\n",
       "      <th>OnlineSecurity</th>\n",
       "      <th>OnlineBackup</th>\n",
       "      <th>DeviceProtection</th>\n",
       "      <th>TechSupport</th>\n",
       "      <th>StreamingTV</th>\n",
       "      <th>StreamingMovies</th>\n",
       "      <th>Contract</th>\n",
       "      <th>PaperlessBilling</th>\n",
       "      <th>PaymentMethod</th>\n",
       "      <th>MonthlyCharges</th>\n",
       "      <th>Churn</th>\n",
       "    </tr>\n",
       "  </thead>\n",
       "  <tbody>\n",
       "    <tr>\n",
       "      <th>0</th>\n",
       "      <td>0.0</td>\n",
       "      <td>0.0</td>\n",
       "      <td>1.0</td>\n",
       "      <td>0.0</td>\n",
       "      <td>1</td>\n",
       "      <td>0.0</td>\n",
       "      <td>1.0</td>\n",
       "      <td>0.0</td>\n",
       "      <td>0.0</td>\n",
       "      <td>2.0</td>\n",
       "      <td>0.0</td>\n",
       "      <td>0.0</td>\n",
       "      <td>0.0</td>\n",
       "      <td>0.0</td>\n",
       "      <td>0.0</td>\n",
       "      <td>1.0</td>\n",
       "      <td>2.0</td>\n",
       "      <td>29.85</td>\n",
       "      <td>No</td>\n",
       "    </tr>\n",
       "    <tr>\n",
       "      <th>1</th>\n",
       "      <td>1.0</td>\n",
       "      <td>0.0</td>\n",
       "      <td>0.0</td>\n",
       "      <td>0.0</td>\n",
       "      <td>34</td>\n",
       "      <td>1.0</td>\n",
       "      <td>0.0</td>\n",
       "      <td>0.0</td>\n",
       "      <td>2.0</td>\n",
       "      <td>0.0</td>\n",
       "      <td>2.0</td>\n",
       "      <td>0.0</td>\n",
       "      <td>0.0</td>\n",
       "      <td>0.0</td>\n",
       "      <td>1.0</td>\n",
       "      <td>0.0</td>\n",
       "      <td>3.0</td>\n",
       "      <td>56.95</td>\n",
       "      <td>No</td>\n",
       "    </tr>\n",
       "    <tr>\n",
       "      <th>2</th>\n",
       "      <td>1.0</td>\n",
       "      <td>0.0</td>\n",
       "      <td>0.0</td>\n",
       "      <td>0.0</td>\n",
       "      <td>2</td>\n",
       "      <td>1.0</td>\n",
       "      <td>0.0</td>\n",
       "      <td>0.0</td>\n",
       "      <td>2.0</td>\n",
       "      <td>2.0</td>\n",
       "      <td>0.0</td>\n",
       "      <td>0.0</td>\n",
       "      <td>0.0</td>\n",
       "      <td>0.0</td>\n",
       "      <td>0.0</td>\n",
       "      <td>1.0</td>\n",
       "      <td>3.0</td>\n",
       "      <td>53.85</td>\n",
       "      <td>Yes</td>\n",
       "    </tr>\n",
       "    <tr>\n",
       "      <th>3</th>\n",
       "      <td>1.0</td>\n",
       "      <td>0.0</td>\n",
       "      <td>0.0</td>\n",
       "      <td>0.0</td>\n",
       "      <td>45</td>\n",
       "      <td>0.0</td>\n",
       "      <td>1.0</td>\n",
       "      <td>0.0</td>\n",
       "      <td>2.0</td>\n",
       "      <td>0.0</td>\n",
       "      <td>2.0</td>\n",
       "      <td>2.0</td>\n",
       "      <td>0.0</td>\n",
       "      <td>0.0</td>\n",
       "      <td>1.0</td>\n",
       "      <td>0.0</td>\n",
       "      <td>0.0</td>\n",
       "      <td>42.30</td>\n",
       "      <td>No</td>\n",
       "    </tr>\n",
       "    <tr>\n",
       "      <th>4</th>\n",
       "      <td>0.0</td>\n",
       "      <td>0.0</td>\n",
       "      <td>0.0</td>\n",
       "      <td>0.0</td>\n",
       "      <td>2</td>\n",
       "      <td>1.0</td>\n",
       "      <td>0.0</td>\n",
       "      <td>1.0</td>\n",
       "      <td>0.0</td>\n",
       "      <td>0.0</td>\n",
       "      <td>0.0</td>\n",
       "      <td>0.0</td>\n",
       "      <td>0.0</td>\n",
       "      <td>0.0</td>\n",
       "      <td>0.0</td>\n",
       "      <td>1.0</td>\n",
       "      <td>2.0</td>\n",
       "      <td>70.70</td>\n",
       "      <td>Yes</td>\n",
       "    </tr>\n",
       "  </tbody>\n",
       "</table>\n",
       "</div>"
      ],
      "text/plain": [
       "  gender SeniorCitizen Partner Dependents  tenure PhoneService MultipleLines  \\\n",
       "0    0.0           0.0     1.0        0.0       1          0.0           1.0   \n",
       "1    1.0           0.0     0.0        0.0      34          1.0           0.0   \n",
       "2    1.0           0.0     0.0        0.0       2          1.0           0.0   \n",
       "3    1.0           0.0     0.0        0.0      45          0.0           1.0   \n",
       "4    0.0           0.0     0.0        0.0       2          1.0           0.0   \n",
       "\n",
       "  InternetService OnlineSecurity OnlineBackup DeviceProtection TechSupport  \\\n",
       "0             0.0            0.0          2.0              0.0         0.0   \n",
       "1             0.0            2.0          0.0              2.0         0.0   \n",
       "2             0.0            2.0          2.0              0.0         0.0   \n",
       "3             0.0            2.0          0.0              2.0         2.0   \n",
       "4             1.0            0.0          0.0              0.0         0.0   \n",
       "\n",
       "  StreamingTV StreamingMovies Contract PaperlessBilling PaymentMethod  \\\n",
       "0         0.0             0.0      0.0              1.0           2.0   \n",
       "1         0.0             0.0      1.0              0.0           3.0   \n",
       "2         0.0             0.0      0.0              1.0           3.0   \n",
       "3         0.0             0.0      1.0              0.0           0.0   \n",
       "4         0.0             0.0      0.0              1.0           2.0   \n",
       "\n",
       "   MonthlyCharges Churn  \n",
       "0           29.85    No  \n",
       "1           56.95    No  \n",
       "2           53.85   Yes  \n",
       "3           42.30    No  \n",
       "4           70.70   Yes  "
      ]
     },
     "execution_count": 7,
     "metadata": {},
     "output_type": "execute_result"
    }
   ],
   "source": [
    "df.head()"
   ]
  },
  {
   "cell_type": "markdown",
   "id": "354e5753",
   "metadata": {},
   "source": [
    "#### Train/test split"
   ]
  },
  {
   "cell_type": "code",
   "execution_count": 8,
   "id": "2de23421",
   "metadata": {},
   "outputs": [
    {
     "name": "stdout",
     "output_type": "stream",
     "text": [
      "\n",
      "Summary on train/test dataset:\n",
      "\n",
      "# of samples in train set 5634\n",
      "# of samples in test set 1409\n",
      "\n",
      "Numerical columns: ['tenure', 'MonthlyCharges'] (2)\n",
      "\n",
      "Categorical columns: ['gender', 'SeniorCitizen', 'Partner', 'Dependents', 'PhoneService', 'MultipleLines', 'InternetService', 'OnlineSecurity', 'OnlineBackup', 'DeviceProtection', 'TechSupport', 'StreamingTV', 'StreamingMovies', 'Contract', 'PaperlessBilling', 'PaymentMethod'] (16)\n"
     ]
    }
   ],
   "source": [
    "# train, test split (lo faccio direttamente sui dataframe)\n",
    "SEED = 42\n",
    "\n",
    "TEST_FRAC = 0.2\n",
    "\n",
    "df_train, df_test = train_test_split(df, shuffle=True, test_size=TEST_FRAC, \n",
    "                                     random_state = SEED)\n",
    "\n",
    "X_train, y_train = df_train.drop([TARGET], axis=1), df_train[TARGET]\n",
    "X_test, y_test = df_test.drop([TARGET], axis=1), df_test[TARGET]\n",
    "\n",
    "print()\n",
    "print(\"Summary on train/test dataset:\")\n",
    "print()\n",
    "print(\"# of samples in train set\", df_train.shape[0])\n",
    "print(\"# of samples in test set\", df_test.shape[0])\n",
    "print()\n",
    "print(f'Numerical columns: {num_cols} ({len(num_cols)})')\n",
    "print()\n",
    "print(f'Categorical columns: {cat_cols} ({len(cat_cols)})')"
   ]
  },
  {
   "cell_type": "markdown",
   "id": "ef432565",
   "metadata": {},
   "source": [
    "#### HPO sul dataset non bilanciato"
   ]
  },
  {
   "cell_type": "code",
   "execution_count": 9,
   "id": "23e9295e",
   "metadata": {},
   "outputs": [],
   "source": [
    "#\n",
    "# definisco la pipeline completa\n",
    "#\n",
    "N_TRIALS = 50\n",
    "\n",
    "# metrics on which to optimize\n",
    "scorer = make_scorer(accuracy_score)\n",
    "\n",
    "# i parametri che vogliamo fissare\n",
    "params = {\n",
    "    # info\n",
    "    \"verbose\" : 0,\n",
    "}\n",
    "\n",
    "# qui definisco la strategia per HPO\n",
    "strategy = {\"num_leaves\" : IntUniformDistribution(5, 24, 1),\n",
    "           'max_depth': IntUniformDistribution(2, 10, 1),\n",
    "            'n_estimators': IntUniformDistribution(50, 200, 10),\n",
    "            'learning_rate' : LogUniformDistribution(low=1e-03, high=1e-1),\n",
    "            }\n",
    "\n",
    "# non abbiamo bisogno di scalare perchè è un GBM\n",
    "model = lgb.LGBMClassifier(**params)"
   ]
  },
  {
   "cell_type": "code",
   "execution_count": 10,
   "id": "37157568",
   "metadata": {},
   "outputs": [
    {
     "name": "stderr",
     "output_type": "stream",
     "text": [
      "\u001b[32m[I 2023-03-23 10:35:22,376]\u001b[0m A new study created in RDB with name: hpo_7ee7e7cc-cad5-4cf5-9280-f1646b46795c\u001b[0m\n"
     ]
    }
   ],
   "source": [
    "tuner = ADSTuner(model, cv=5, n_jobs=2, strategy=strategy, scoring=scorer, random_state=SEED)\n",
    "\n",
    "tuner.tune(X_train, y_train, exit_criterion=[NTrials(N_TRIALS)])"
   ]
  },
  {
   "cell_type": "code",
   "execution_count": 27,
   "id": "369d88b0",
   "metadata": {},
   "outputs": [
    {
     "name": "stdout",
     "output_type": "stream",
     "text": [
      "Number of trials launched: 50\n"
     ]
    }
   ],
   "source": [
    "print(f\"Number of trials launched: {len(tuner.trials)}\")"
   ]
  },
  {
   "cell_type": "code",
   "execution_count": 26,
   "id": "30f4b324",
   "metadata": {},
   "outputs": [
    {
     "data": {
      "text/html": [
       "<div>\n",
       "<style scoped>\n",
       "    .dataframe tbody tr th:only-of-type {\n",
       "        vertical-align: middle;\n",
       "    }\n",
       "\n",
       "    .dataframe tbody tr th {\n",
       "        vertical-align: top;\n",
       "    }\n",
       "\n",
       "    .dataframe thead th {\n",
       "        text-align: right;\n",
       "    }\n",
       "</style>\n",
       "<table border=\"1\" class=\"dataframe\">\n",
       "  <thead>\n",
       "    <tr style=\"text-align: right;\">\n",
       "      <th></th>\n",
       "      <th>number</th>\n",
       "      <th>value</th>\n",
       "      <th>datetime_start</th>\n",
       "      <th>datetime_complete</th>\n",
       "      <th>duration</th>\n",
       "      <th>params_learning_rate</th>\n",
       "      <th>params_max_depth</th>\n",
       "      <th>params_n_estimators</th>\n",
       "      <th>params_num_leaves</th>\n",
       "      <th>user_attrs_mean_fit_time</th>\n",
       "      <th>...</th>\n",
       "      <th>user_attrs_metric</th>\n",
       "      <th>user_attrs_split0_test_score</th>\n",
       "      <th>user_attrs_split1_test_score</th>\n",
       "      <th>user_attrs_split2_test_score</th>\n",
       "      <th>user_attrs_split3_test_score</th>\n",
       "      <th>user_attrs_split4_test_score</th>\n",
       "      <th>user_attrs_std_fit_time</th>\n",
       "      <th>user_attrs_std_score_time</th>\n",
       "      <th>user_attrs_std_test_score</th>\n",
       "      <th>state</th>\n",
       "    </tr>\n",
       "  </thead>\n",
       "  <tbody>\n",
       "    <tr>\n",
       "      <th>29</th>\n",
       "      <td>29</td>\n",
       "      <td>0.803691</td>\n",
       "      <td>2023-03-23 10:36:53.174307</td>\n",
       "      <td>2023-03-23 10:36:59.142035</td>\n",
       "      <td>0 days 00:00:05.967728</td>\n",
       "      <td>0.033484</td>\n",
       "      <td>4</td>\n",
       "      <td>90</td>\n",
       "      <td>23</td>\n",
       "      <td>1.127427</td>\n",
       "      <td>...</td>\n",
       "      <td>accuracy_score</td>\n",
       "      <td>0.814552</td>\n",
       "      <td>0.810115</td>\n",
       "      <td>0.797693</td>\n",
       "      <td>0.796806</td>\n",
       "      <td>0.799290</td>\n",
       "      <td>0.007376</td>\n",
       "      <td>0.003013</td>\n",
       "      <td>0.007239</td>\n",
       "      <td>COMPLETE</td>\n",
       "    </tr>\n",
       "    <tr>\n",
       "      <th>17</th>\n",
       "      <td>17</td>\n",
       "      <td>0.803158</td>\n",
       "      <td>2023-03-23 10:36:16.439860</td>\n",
       "      <td>2023-03-23 10:36:21.889128</td>\n",
       "      <td>0 days 00:00:05.449268</td>\n",
       "      <td>0.041221</td>\n",
       "      <td>4</td>\n",
       "      <td>80</td>\n",
       "      <td>21</td>\n",
       "      <td>1.027936</td>\n",
       "      <td>...</td>\n",
       "      <td>accuracy_score</td>\n",
       "      <td>0.813665</td>\n",
       "      <td>0.809228</td>\n",
       "      <td>0.802130</td>\n",
       "      <td>0.794144</td>\n",
       "      <td>0.796625</td>\n",
       "      <td>0.010378</td>\n",
       "      <td>0.001448</td>\n",
       "      <td>0.007379</td>\n",
       "      <td>COMPLETE</td>\n",
       "    </tr>\n",
       "    <tr>\n",
       "      <th>18</th>\n",
       "      <td>18</td>\n",
       "      <td>0.802804</td>\n",
       "      <td>2023-03-23 10:36:21.906293</td>\n",
       "      <td>2023-03-23 10:36:26.653979</td>\n",
       "      <td>0 days 00:00:04.747686</td>\n",
       "      <td>0.034418</td>\n",
       "      <td>4</td>\n",
       "      <td>70</td>\n",
       "      <td>21</td>\n",
       "      <td>0.891400</td>\n",
       "      <td>...</td>\n",
       "      <td>accuracy_score</td>\n",
       "      <td>0.813665</td>\n",
       "      <td>0.808341</td>\n",
       "      <td>0.795031</td>\n",
       "      <td>0.795031</td>\n",
       "      <td>0.801954</td>\n",
       "      <td>0.007531</td>\n",
       "      <td>0.002326</td>\n",
       "      <td>0.007351</td>\n",
       "      <td>COMPLETE</td>\n",
       "    </tr>\n",
       "    <tr>\n",
       "      <th>32</th>\n",
       "      <td>32</td>\n",
       "      <td>0.802804</td>\n",
       "      <td>2023-03-23 10:37:03.870810</td>\n",
       "      <td>2023-03-23 10:37:09.298028</td>\n",
       "      <td>0 days 00:00:05.427218</td>\n",
       "      <td>0.034016</td>\n",
       "      <td>4</td>\n",
       "      <td>80</td>\n",
       "      <td>24</td>\n",
       "      <td>1.029777</td>\n",
       "      <td>...</td>\n",
       "      <td>accuracy_score</td>\n",
       "      <td>0.814552</td>\n",
       "      <td>0.810115</td>\n",
       "      <td>0.794144</td>\n",
       "      <td>0.795918</td>\n",
       "      <td>0.799290</td>\n",
       "      <td>0.025967</td>\n",
       "      <td>0.002569</td>\n",
       "      <td>0.008078</td>\n",
       "      <td>COMPLETE</td>\n",
       "    </tr>\n",
       "    <tr>\n",
       "      <th>46</th>\n",
       "      <td>46</td>\n",
       "      <td>0.802803</td>\n",
       "      <td>2023-03-23 10:37:47.265164</td>\n",
       "      <td>2023-03-23 10:37:49.429748</td>\n",
       "      <td>0 days 00:00:02.164584</td>\n",
       "      <td>0.073852</td>\n",
       "      <td>2</td>\n",
       "      <td>90</td>\n",
       "      <td>22</td>\n",
       "      <td>0.372319</td>\n",
       "      <td>...</td>\n",
       "      <td>accuracy_score</td>\n",
       "      <td>0.816327</td>\n",
       "      <td>0.811003</td>\n",
       "      <td>0.794144</td>\n",
       "      <td>0.795031</td>\n",
       "      <td>0.797513</td>\n",
       "      <td>0.007321</td>\n",
       "      <td>0.002488</td>\n",
       "      <td>0.009094</td>\n",
       "      <td>COMPLETE</td>\n",
       "    </tr>\n",
       "  </tbody>\n",
       "</table>\n",
       "<p>5 rows × 22 columns</p>\n",
       "</div>"
      ],
      "text/plain": [
       "    number     value             datetime_start          datetime_complete  \\\n",
       "29      29  0.803691 2023-03-23 10:36:53.174307 2023-03-23 10:36:59.142035   \n",
       "17      17  0.803158 2023-03-23 10:36:16.439860 2023-03-23 10:36:21.889128   \n",
       "18      18  0.802804 2023-03-23 10:36:21.906293 2023-03-23 10:36:26.653979   \n",
       "32      32  0.802804 2023-03-23 10:37:03.870810 2023-03-23 10:37:09.298028   \n",
       "46      46  0.802803 2023-03-23 10:37:47.265164 2023-03-23 10:37:49.429748   \n",
       "\n",
       "                 duration  params_learning_rate  params_max_depth  \\\n",
       "29 0 days 00:00:05.967728              0.033484                 4   \n",
       "17 0 days 00:00:05.449268              0.041221                 4   \n",
       "18 0 days 00:00:04.747686              0.034418                 4   \n",
       "32 0 days 00:00:05.427218              0.034016                 4   \n",
       "46 0 days 00:00:02.164584              0.073852                 2   \n",
       "\n",
       "    params_n_estimators  params_num_leaves  user_attrs_mean_fit_time  ...  \\\n",
       "29                   90                 23                  1.127427  ...   \n",
       "17                   80                 21                  1.027936  ...   \n",
       "18                   70                 21                  0.891400  ...   \n",
       "32                   80                 24                  1.029777  ...   \n",
       "46                   90                 22                  0.372319  ...   \n",
       "\n",
       "    user_attrs_metric  user_attrs_split0_test_score  \\\n",
       "29     accuracy_score                      0.814552   \n",
       "17     accuracy_score                      0.813665   \n",
       "18     accuracy_score                      0.813665   \n",
       "32     accuracy_score                      0.814552   \n",
       "46     accuracy_score                      0.816327   \n",
       "\n",
       "   user_attrs_split1_test_score  user_attrs_split2_test_score  \\\n",
       "29                     0.810115                      0.797693   \n",
       "17                     0.809228                      0.802130   \n",
       "18                     0.808341                      0.795031   \n",
       "32                     0.810115                      0.794144   \n",
       "46                     0.811003                      0.794144   \n",
       "\n",
       "    user_attrs_split3_test_score  user_attrs_split4_test_score  \\\n",
       "29                      0.796806                      0.799290   \n",
       "17                      0.794144                      0.796625   \n",
       "18                      0.795031                      0.801954   \n",
       "32                      0.795918                      0.799290   \n",
       "46                      0.795031                      0.797513   \n",
       "\n",
       "    user_attrs_std_fit_time  user_attrs_std_score_time  \\\n",
       "29                 0.007376                   0.003013   \n",
       "17                 0.010378                   0.001448   \n",
       "18                 0.007531                   0.002326   \n",
       "32                 0.025967                   0.002569   \n",
       "46                 0.007321                   0.002488   \n",
       "\n",
       "    user_attrs_std_test_score     state  \n",
       "29                   0.007239  COMPLETE  \n",
       "17                   0.007379  COMPLETE  \n",
       "18                   0.007351  COMPLETE  \n",
       "32                   0.008078  COMPLETE  \n",
       "46                   0.009094  COMPLETE  \n",
       "\n",
       "[5 rows x 22 columns]"
      ]
     },
     "execution_count": 26,
     "metadata": {},
     "output_type": "execute_result"
    }
   ],
   "source": [
    "tuner.trials.sort_values(by=[\"value\"], ascending=False).head()"
   ]
  },
  {
   "cell_type": "code",
   "execution_count": 28,
   "id": "ab82a112",
   "metadata": {},
   "outputs": [
    {
     "data": {
      "text/plain": [
       "<State.COMPLETED: 5>"
      ]
     },
     "execution_count": 28,
     "metadata": {},
     "output_type": "execute_result"
    }
   ],
   "source": [
    "tuner.status"
   ]
  },
  {
   "cell_type": "code",
   "execution_count": 29,
   "id": "9c89a512",
   "metadata": {},
   "outputs": [
    {
     "data": {
      "text/plain": [
       "{'learning_rate': 0.03348447566292928,\n",
       " 'max_depth': 4,\n",
       " 'n_estimators': 90,\n",
       " 'num_leaves': 23}"
      ]
     },
     "execution_count": 29,
     "metadata": {},
     "output_type": "execute_result"
    }
   ],
   "source": [
    "tuner.best_params"
   ]
  },
  {
   "cell_type": "markdown",
   "id": "e77bcdbf",
   "metadata": {},
   "source": [
    "#### Addestriamo il modello con i best params"
   ]
  },
  {
   "cell_type": "code",
   "execution_count": 30,
   "id": "ee92e25c",
   "metadata": {},
   "outputs": [],
   "source": [
    "params = tuner.best_params\n",
    "\n",
    "model = lgb.LGBMClassifier(**params)"
   ]
  },
  {
   "cell_type": "code",
   "execution_count": 31,
   "id": "37afe1d4",
   "metadata": {},
   "outputs": [
    {
     "data": {
      "text/html": [
       "<style>#sk-container-id-1 {color: black;background-color: white;}#sk-container-id-1 pre{padding: 0;}#sk-container-id-1 div.sk-toggleable {background-color: white;}#sk-container-id-1 label.sk-toggleable__label {cursor: pointer;display: block;width: 100%;margin-bottom: 0;padding: 0.3em;box-sizing: border-box;text-align: center;}#sk-container-id-1 label.sk-toggleable__label-arrow:before {content: \"▸\";float: left;margin-right: 0.25em;color: #696969;}#sk-container-id-1 label.sk-toggleable__label-arrow:hover:before {color: black;}#sk-container-id-1 div.sk-estimator:hover label.sk-toggleable__label-arrow:before {color: black;}#sk-container-id-1 div.sk-toggleable__content {max-height: 0;max-width: 0;overflow: hidden;text-align: left;background-color: #f0f8ff;}#sk-container-id-1 div.sk-toggleable__content pre {margin: 0.2em;color: black;border-radius: 0.25em;background-color: #f0f8ff;}#sk-container-id-1 input.sk-toggleable__control:checked~div.sk-toggleable__content {max-height: 200px;max-width: 100%;overflow: auto;}#sk-container-id-1 input.sk-toggleable__control:checked~label.sk-toggleable__label-arrow:before {content: \"▾\";}#sk-container-id-1 div.sk-estimator input.sk-toggleable__control:checked~label.sk-toggleable__label {background-color: #d4ebff;}#sk-container-id-1 div.sk-label input.sk-toggleable__control:checked~label.sk-toggleable__label {background-color: #d4ebff;}#sk-container-id-1 input.sk-hidden--visually {border: 0;clip: rect(1px 1px 1px 1px);clip: rect(1px, 1px, 1px, 1px);height: 1px;margin: -1px;overflow: hidden;padding: 0;position: absolute;width: 1px;}#sk-container-id-1 div.sk-estimator {font-family: monospace;background-color: #f0f8ff;border: 1px dotted black;border-radius: 0.25em;box-sizing: border-box;margin-bottom: 0.5em;}#sk-container-id-1 div.sk-estimator:hover {background-color: #d4ebff;}#sk-container-id-1 div.sk-parallel-item::after {content: \"\";width: 100%;border-bottom: 1px solid gray;flex-grow: 1;}#sk-container-id-1 div.sk-label:hover label.sk-toggleable__label {background-color: #d4ebff;}#sk-container-id-1 div.sk-serial::before {content: \"\";position: absolute;border-left: 1px solid gray;box-sizing: border-box;top: 0;bottom: 0;left: 50%;z-index: 0;}#sk-container-id-1 div.sk-serial {display: flex;flex-direction: column;align-items: center;background-color: white;padding-right: 0.2em;padding-left: 0.2em;position: relative;}#sk-container-id-1 div.sk-item {position: relative;z-index: 1;}#sk-container-id-1 div.sk-parallel {display: flex;align-items: stretch;justify-content: center;background-color: white;position: relative;}#sk-container-id-1 div.sk-item::before, #sk-container-id-1 div.sk-parallel-item::before {content: \"\";position: absolute;border-left: 1px solid gray;box-sizing: border-box;top: 0;bottom: 0;left: 50%;z-index: -1;}#sk-container-id-1 div.sk-parallel-item {display: flex;flex-direction: column;z-index: 1;position: relative;background-color: white;}#sk-container-id-1 div.sk-parallel-item:first-child::after {align-self: flex-end;width: 50%;}#sk-container-id-1 div.sk-parallel-item:last-child::after {align-self: flex-start;width: 50%;}#sk-container-id-1 div.sk-parallel-item:only-child::after {width: 0;}#sk-container-id-1 div.sk-dashed-wrapped {border: 1px dashed gray;margin: 0 0.4em 0.5em 0.4em;box-sizing: border-box;padding-bottom: 0.4em;background-color: white;}#sk-container-id-1 div.sk-label label {font-family: monospace;font-weight: bold;display: inline-block;line-height: 1.2em;}#sk-container-id-1 div.sk-label-container {text-align: center;}#sk-container-id-1 div.sk-container {/* jupyter's `normalize.less` sets `[hidden] { display: none; }` but bootstrap.min.css set `[hidden] { display: none !important; }` so we also need the `!important` here to be able to override the default hidden behavior on the sphinx rendered scikit-learn.org. See: https://github.com/scikit-learn/scikit-learn/issues/21755 */display: inline-block !important;position: relative;}#sk-container-id-1 div.sk-text-repr-fallback {display: none;}</style><div id=\"sk-container-id-1\" class=\"sk-top-container\"><div class=\"sk-text-repr-fallback\"><pre>LGBMClassifier(learning_rate=0.03348447566292928, max_depth=4, n_estimators=90,\n",
       "               num_leaves=23)</pre><b>In a Jupyter environment, please rerun this cell to show the HTML representation or trust the notebook. <br />On GitHub, the HTML representation is unable to render, please try loading this page with nbviewer.org.</b></div><div class=\"sk-container\" hidden><div class=\"sk-item\"><div class=\"sk-estimator sk-toggleable\"><input class=\"sk-toggleable__control sk-hidden--visually\" id=\"sk-estimator-id-1\" type=\"checkbox\" checked><label for=\"sk-estimator-id-1\" class=\"sk-toggleable__label sk-toggleable__label-arrow\">LGBMClassifier</label><div class=\"sk-toggleable__content\"><pre>LGBMClassifier(learning_rate=0.03348447566292928, max_depth=4, n_estimators=90,\n",
       "               num_leaves=23)</pre></div></div></div></div></div>"
      ],
      "text/plain": [
       "LGBMClassifier(learning_rate=0.03348447566292928, max_depth=4, n_estimators=90,\n",
       "               num_leaves=23)"
      ]
     },
     "execution_count": 31,
     "metadata": {},
     "output_type": "execute_result"
    }
   ],
   "source": [
    "model.fit(X_train, y_train)"
   ]
  },
  {
   "cell_type": "markdown",
   "id": "a8f30491",
   "metadata": {},
   "source": [
    "#### Evaluation"
   ]
  },
  {
   "cell_type": "code",
   "execution_count": 32,
   "id": "02683dc1",
   "metadata": {},
   "outputs": [
    {
     "name": "stdout",
     "output_type": "stream",
     "text": [
      "Validation set result:\n",
      "{'accuracy': 0.8119, 'roc_auc': 0.8622, 'recall': 0.5174}\n"
     ]
    }
   ],
   "source": [
    "metrics = evaluate_metrics(model, X_test, y_test)"
   ]
  },
  {
   "cell_type": "code",
   "execution_count": 33,
   "id": "126ef7af",
   "metadata": {},
   "outputs": [
    {
     "data": {
      "image/png": "[encoded data removed]",
      "text/plain": [
       "<Figure size 640x480 with 2 Axes>"
      ]
     },
     "metadata": {},
     "output_type": "display_data"
    }
   ],
   "source": [
    "plot_cm(model, X_test, y_test)"
   ]
  },
  {
   "cell_type": "markdown",
   "id": "8bea5062",
   "metadata": {},
   "source": [
    "#### Rebalance: vediamo che bilanciando il dataset si ottiene un risultato migliore riducendo i FN"
   ]
  },
  {
   "cell_type": "code",
   "execution_count": 34,
   "id": "bb3e5fa7",
   "metadata": {},
   "outputs": [],
   "source": [
    "SEED = 42\n",
    "\n",
    "# we use a simple RandomSampler from imblearn\n",
    "ros = RandomOverSampler(random_state=SEED)"
   ]
  },
  {
   "cell_type": "code",
   "execution_count": 35,
   "id": "d7983a2f",
   "metadata": {},
   "outputs": [],
   "source": [
    "# bilanciamo solo il training set, il test set NON è toccato\n",
    "X_train_reb, y_train_reb = ros.fit_resample(X_train, y_train)"
   ]
  },
  {
   "cell_type": "code",
   "execution_count": 36,
   "id": "30a53da5",
   "metadata": {},
   "outputs": [],
   "source": [
    "params = {\n",
    "    # info\n",
    "    \"verbose\" : 0,\n",
    "}\n",
    "\n",
    "strategy = {\"num_leaves\" : IntUniformDistribution(15, 24, 1),\n",
    "            'max_depth': IntUniformDistribution(5, 15, 1),\n",
    "            'n_estimators': IntUniformDistribution(50, 200, 10),\n",
    "            'learning_rate' : LogUniformDistribution(low=1e-03, high=1e-1),\n",
    "            }\n",
    "\n",
    "model = lgb.LGBMClassifier(**params)"
   ]
  },
  {
   "cell_type": "code",
   "execution_count": 37,
   "id": "6b14bee4",
   "metadata": {},
   "outputs": [],
   "source": [
    "tuner = ADSTuner(model, cv=5, n_jobs=2, strategy=strategy, scoring=scorer, random_state=SEED)\n",
    "\n",
    "tuner.tune(X_train_reb, y_train_reb, exit_criterion=[NTrials(N_TRIALS)])"
   ]
  },
  {
   "cell_type": "code",
   "execution_count": 68,
   "id": "022a2cd9",
   "metadata": {},
   "outputs": [
    {
     "name": "stdout",
     "output_type": "stream",
     "text": [
      "Number of trials launched: 50\n"
     ]
    }
   ],
   "source": [
    "print(f\"Number of trials launched: {len(tuner.trials)}\")"
   ]
  },
  {
   "cell_type": "code",
   "execution_count": 69,
   "id": "8e8f2ce0",
   "metadata": {},
   "outputs": [
    {
     "data": {
      "text/html": [
       "<div>\n",
       "<style scoped>\n",
       "    .dataframe tbody tr th:only-of-type {\n",
       "        vertical-align: middle;\n",
       "    }\n",
       "\n",
       "    .dataframe tbody tr th {\n",
       "        vertical-align: top;\n",
       "    }\n",
       "\n",
       "    .dataframe thead th {\n",
       "        text-align: right;\n",
       "    }\n",
       "</style>\n",
       "<table border=\"1\" class=\"dataframe\">\n",
       "  <thead>\n",
       "    <tr style=\"text-align: right;\">\n",
       "      <th></th>\n",
       "      <th>number</th>\n",
       "      <th>value</th>\n",
       "      <th>datetime_start</th>\n",
       "      <th>datetime_complete</th>\n",
       "      <th>duration</th>\n",
       "      <th>params_learning_rate</th>\n",
       "      <th>params_max_depth</th>\n",
       "      <th>params_n_estimators</th>\n",
       "      <th>params_num_leaves</th>\n",
       "      <th>user_attrs_mean_fit_time</th>\n",
       "      <th>...</th>\n",
       "      <th>user_attrs_metric</th>\n",
       "      <th>user_attrs_split0_test_score</th>\n",
       "      <th>user_attrs_split1_test_score</th>\n",
       "      <th>user_attrs_split2_test_score</th>\n",
       "      <th>user_attrs_split3_test_score</th>\n",
       "      <th>user_attrs_split4_test_score</th>\n",
       "      <th>user_attrs_std_fit_time</th>\n",
       "      <th>user_attrs_std_score_time</th>\n",
       "      <th>user_attrs_std_test_score</th>\n",
       "      <th>state</th>\n",
       "    </tr>\n",
       "  </thead>\n",
       "  <tbody>\n",
       "    <tr>\n",
       "      <th>13</th>\n",
       "      <td>13</td>\n",
       "      <td>0.828181</td>\n",
       "      <td>2023-03-23 10:45:16.119187</td>\n",
       "      <td>2023-03-23 10:45:33.766817</td>\n",
       "      <td>0 days 00:00:17.647630</td>\n",
       "      <td>0.094897</td>\n",
       "      <td>7</td>\n",
       "      <td>160</td>\n",
       "      <td>24</td>\n",
       "      <td>3.460370</td>\n",
       "      <td>...</td>\n",
       "      <td>accuracy_score</td>\n",
       "      <td>0.800121</td>\n",
       "      <td>0.824169</td>\n",
       "      <td>0.829003</td>\n",
       "      <td>0.837462</td>\n",
       "      <td>0.850151</td>\n",
       "      <td>0.030518</td>\n",
       "      <td>0.003457</td>\n",
       "      <td>0.016571</td>\n",
       "      <td>COMPLETE</td>\n",
       "    </tr>\n",
       "    <tr>\n",
       "      <th>43</th>\n",
       "      <td>43</td>\n",
       "      <td>0.827698</td>\n",
       "      <td>2023-03-23 10:49:21.082334</td>\n",
       "      <td>2023-03-23 10:49:37.834681</td>\n",
       "      <td>0 days 00:00:16.752347</td>\n",
       "      <td>0.099726</td>\n",
       "      <td>6</td>\n",
       "      <td>180</td>\n",
       "      <td>21</td>\n",
       "      <td>3.283772</td>\n",
       "      <td>...</td>\n",
       "      <td>accuracy_score</td>\n",
       "      <td>0.800725</td>\n",
       "      <td>0.818127</td>\n",
       "      <td>0.824773</td>\n",
       "      <td>0.843505</td>\n",
       "      <td>0.851360</td>\n",
       "      <td>0.055107</td>\n",
       "      <td>0.002515</td>\n",
       "      <td>0.018097</td>\n",
       "      <td>COMPLETE</td>\n",
       "    </tr>\n",
       "    <tr>\n",
       "      <th>24</th>\n",
       "      <td>24</td>\n",
       "      <td>0.827577</td>\n",
       "      <td>2023-03-23 10:46:42.523281</td>\n",
       "      <td>2023-03-23 10:46:59.888698</td>\n",
       "      <td>0 days 00:00:17.365417</td>\n",
       "      <td>0.092818</td>\n",
       "      <td>6</td>\n",
       "      <td>170</td>\n",
       "      <td>24</td>\n",
       "      <td>3.410708</td>\n",
       "      <td>...</td>\n",
       "      <td>accuracy_score</td>\n",
       "      <td>0.803140</td>\n",
       "      <td>0.813293</td>\n",
       "      <td>0.832628</td>\n",
       "      <td>0.839275</td>\n",
       "      <td>0.849547</td>\n",
       "      <td>0.060840</td>\n",
       "      <td>0.003319</td>\n",
       "      <td>0.017007</td>\n",
       "      <td>COMPLETE</td>\n",
       "    </tr>\n",
       "    <tr>\n",
       "      <th>15</th>\n",
       "      <td>15</td>\n",
       "      <td>0.827214</td>\n",
       "      <td>2023-03-23 10:45:32.891182</td>\n",
       "      <td>2023-03-23 10:45:48.979450</td>\n",
       "      <td>0 days 00:00:16.088268</td>\n",
       "      <td>0.097078</td>\n",
       "      <td>8</td>\n",
       "      <td>150</td>\n",
       "      <td>22</td>\n",
       "      <td>3.154206</td>\n",
       "      <td>...</td>\n",
       "      <td>accuracy_score</td>\n",
       "      <td>0.802536</td>\n",
       "      <td>0.821148</td>\n",
       "      <td>0.827190</td>\n",
       "      <td>0.833837</td>\n",
       "      <td>0.851360</td>\n",
       "      <td>0.048671</td>\n",
       "      <td>0.003239</td>\n",
       "      <td>0.015954</td>\n",
       "      <td>COMPLETE</td>\n",
       "    </tr>\n",
       "    <tr>\n",
       "      <th>22</th>\n",
       "      <td>22</td>\n",
       "      <td>0.827093</td>\n",
       "      <td>2023-03-23 10:46:25.845921</td>\n",
       "      <td>2023-03-23 10:46:42.509822</td>\n",
       "      <td>0 days 00:00:16.663901</td>\n",
       "      <td>0.095017</td>\n",
       "      <td>7</td>\n",
       "      <td>150</td>\n",
       "      <td>24</td>\n",
       "      <td>3.269958</td>\n",
       "      <td>...</td>\n",
       "      <td>accuracy_score</td>\n",
       "      <td>0.807971</td>\n",
       "      <td>0.816918</td>\n",
       "      <td>0.829607</td>\n",
       "      <td>0.833233</td>\n",
       "      <td>0.847734</td>\n",
       "      <td>0.051220</td>\n",
       "      <td>0.003804</td>\n",
       "      <td>0.013706</td>\n",
       "      <td>COMPLETE</td>\n",
       "    </tr>\n",
       "  </tbody>\n",
       "</table>\n",
       "<p>5 rows × 22 columns</p>\n",
       "</div>"
      ],
      "text/plain": [
       "    number     value             datetime_start          datetime_complete  \\\n",
       "13      13  0.828181 2023-03-23 10:45:16.119187 2023-03-23 10:45:33.766817   \n",
       "43      43  0.827698 2023-03-23 10:49:21.082334 2023-03-23 10:49:37.834681   \n",
       "24      24  0.827577 2023-03-23 10:46:42.523281 2023-03-23 10:46:59.888698   \n",
       "15      15  0.827214 2023-03-23 10:45:32.891182 2023-03-23 10:45:48.979450   \n",
       "22      22  0.827093 2023-03-23 10:46:25.845921 2023-03-23 10:46:42.509822   \n",
       "\n",
       "                 duration  params_learning_rate  params_max_depth  \\\n",
       "13 0 days 00:00:17.647630              0.094897                 7   \n",
       "43 0 days 00:00:16.752347              0.099726                 6   \n",
       "24 0 days 00:00:17.365417              0.092818                 6   \n",
       "15 0 days 00:00:16.088268              0.097078                 8   \n",
       "22 0 days 00:00:16.663901              0.095017                 7   \n",
       "\n",
       "    params_n_estimators  params_num_leaves  user_attrs_mean_fit_time  ...  \\\n",
       "13                  160                 24                  3.460370  ...   \n",
       "43                  180                 21                  3.283772  ...   \n",
       "24                  170                 24                  3.410708  ...   \n",
       "15                  150                 22                  3.154206  ...   \n",
       "22                  150                 24                  3.269958  ...   \n",
       "\n",
       "    user_attrs_metric  user_attrs_split0_test_score  \\\n",
       "13     accuracy_score                      0.800121   \n",
       "43     accuracy_score                      0.800725   \n",
       "24     accuracy_score                      0.803140   \n",
       "15     accuracy_score                      0.802536   \n",
       "22     accuracy_score                      0.807971   \n",
       "\n",
       "   user_attrs_split1_test_score  user_attrs_split2_test_score  \\\n",
       "13                     0.824169                      0.829003   \n",
       "43                     0.818127                      0.824773   \n",
       "24                     0.813293                      0.832628   \n",
       "15                     0.821148                      0.827190   \n",
       "22                     0.816918                      0.829607   \n",
       "\n",
       "    user_attrs_split3_test_score  user_attrs_split4_test_score  \\\n",
       "13                      0.837462                      0.850151   \n",
       "43                      0.843505                      0.851360   \n",
       "24                      0.839275                      0.849547   \n",
       "15                      0.833837                      0.851360   \n",
       "22                      0.833233                      0.847734   \n",
       "\n",
       "    user_attrs_std_fit_time  user_attrs_std_score_time  \\\n",
       "13                 0.030518                   0.003457   \n",
       "43                 0.055107                   0.002515   \n",
       "24                 0.060840                   0.003319   \n",
       "15                 0.048671                   0.003239   \n",
       "22                 0.051220                   0.003804   \n",
       "\n",
       "    user_attrs_std_test_score     state  \n",
       "13                   0.016571  COMPLETE  \n",
       "43                   0.018097  COMPLETE  \n",
       "24                   0.017007  COMPLETE  \n",
       "15                   0.015954  COMPLETE  \n",
       "22                   0.013706  COMPLETE  \n",
       "\n",
       "[5 rows x 22 columns]"
      ]
     },
     "execution_count": 69,
     "metadata": {},
     "output_type": "execute_result"
    }
   ],
   "source": [
    "tuner.trials.sort_values(by=[\"value\"], ascending=False).head()"
   ]
  },
  {
   "cell_type": "code",
   "execution_count": 70,
   "id": "8933d830",
   "metadata": {},
   "outputs": [
    {
     "data": {
      "text/plain": [
       "{'learning_rate': 0.09489714884434745,\n",
       " 'max_depth': 7,\n",
       " 'n_estimators': 160,\n",
       " 'num_leaves': 24}"
      ]
     },
     "execution_count": 70,
     "metadata": {},
     "output_type": "execute_result"
    }
   ],
   "source": [
    "tuner.best_params"
   ]
  },
  {
   "cell_type": "code",
   "execution_count": 71,
   "id": "55144f56",
   "metadata": {},
   "outputs": [],
   "source": [
    "params = tuner.best_params\n",
    "\n",
    "model = lgb.LGBMClassifier(**params)"
   ]
  },
  {
   "cell_type": "code",
   "execution_count": 72,
   "id": "8f3e7e1e",
   "metadata": {},
   "outputs": [
    {
     "data": {
      "text/html": [
       "<style>#sk-container-id-2 {color: black;background-color: white;}#sk-container-id-2 pre{padding: 0;}#sk-container-id-2 div.sk-toggleable {background-color: white;}#sk-container-id-2 label.sk-toggleable__label {cursor: pointer;display: block;width: 100%;margin-bottom: 0;padding: 0.3em;box-sizing: border-box;text-align: center;}#sk-container-id-2 label.sk-toggleable__label-arrow:before {content: \"▸\";float: left;margin-right: 0.25em;color: #696969;}#sk-container-id-2 label.sk-toggleable__label-arrow:hover:before {color: black;}#sk-container-id-2 div.sk-estimator:hover label.sk-toggleable__label-arrow:before {color: black;}#sk-container-id-2 div.sk-toggleable__content {max-height: 0;max-width: 0;overflow: hidden;text-align: left;background-color: #f0f8ff;}#sk-container-id-2 div.sk-toggleable__content pre {margin: 0.2em;color: black;border-radius: 0.25em;background-color: #f0f8ff;}#sk-container-id-2 input.sk-toggleable__control:checked~div.sk-toggleable__content {max-height: 200px;max-width: 100%;overflow: auto;}#sk-container-id-2 input.sk-toggleable__control:checked~label.sk-toggleable__label-arrow:before {content: \"▾\";}#sk-container-id-2 div.sk-estimator input.sk-toggleable__control:checked~label.sk-toggleable__label {background-color: #d4ebff;}#sk-container-id-2 div.sk-label input.sk-toggleable__control:checked~label.sk-toggleable__label {background-color: #d4ebff;}#sk-container-id-2 input.sk-hidden--visually {border: 0;clip: rect(1px 1px 1px 1px);clip: rect(1px, 1px, 1px, 1px);height: 1px;margin: -1px;overflow: hidden;padding: 0;position: absolute;width: 1px;}#sk-container-id-2 div.sk-estimator {font-family: monospace;background-color: #f0f8ff;border: 1px dotted black;border-radius: 0.25em;box-sizing: border-box;margin-bottom: 0.5em;}#sk-container-id-2 div.sk-estimator:hover {background-color: #d4ebff;}#sk-container-id-2 div.sk-parallel-item::after {content: \"\";width: 100%;border-bottom: 1px solid gray;flex-grow: 1;}#sk-container-id-2 div.sk-label:hover label.sk-toggleable__label {background-color: #d4ebff;}#sk-container-id-2 div.sk-serial::before {content: \"\";position: absolute;border-left: 1px solid gray;box-sizing: border-box;top: 0;bottom: 0;left: 50%;z-index: 0;}#sk-container-id-2 div.sk-serial {display: flex;flex-direction: column;align-items: center;background-color: white;padding-right: 0.2em;padding-left: 0.2em;position: relative;}#sk-container-id-2 div.sk-item {position: relative;z-index: 1;}#sk-container-id-2 div.sk-parallel {display: flex;align-items: stretch;justify-content: center;background-color: white;position: relative;}#sk-container-id-2 div.sk-item::before, #sk-container-id-2 div.sk-parallel-item::before {content: \"\";position: absolute;border-left: 1px solid gray;box-sizing: border-box;top: 0;bottom: 0;left: 50%;z-index: -1;}#sk-container-id-2 div.sk-parallel-item {display: flex;flex-direction: column;z-index: 1;position: relative;background-color: white;}#sk-container-id-2 div.sk-parallel-item:first-child::after {align-self: flex-end;width: 50%;}#sk-container-id-2 div.sk-parallel-item:last-child::after {align-self: flex-start;width: 50%;}#sk-container-id-2 div.sk-parallel-item:only-child::after {width: 0;}#sk-container-id-2 div.sk-dashed-wrapped {border: 1px dashed gray;margin: 0 0.4em 0.5em 0.4em;box-sizing: border-box;padding-bottom: 0.4em;background-color: white;}#sk-container-id-2 div.sk-label label {font-family: monospace;font-weight: bold;display: inline-block;line-height: 1.2em;}#sk-container-id-2 div.sk-label-container {text-align: center;}#sk-container-id-2 div.sk-container {/* jupyter's `normalize.less` sets `[hidden] { display: none; }` but bootstrap.min.css set `[hidden] { display: none !important; }` so we also need the `!important` here to be able to override the default hidden behavior on the sphinx rendered scikit-learn.org. See: https://github.com/scikit-learn/scikit-learn/issues/21755 */display: inline-block !important;position: relative;}#sk-container-id-2 div.sk-text-repr-fallback {display: none;}</style><div id=\"sk-container-id-2\" class=\"sk-top-container\"><div class=\"sk-text-repr-fallback\"><pre>LGBMClassifier(learning_rate=0.09489714884434745, max_depth=7, n_estimators=160,\n",
       "               num_leaves=24)</pre><b>In a Jupyter environment, please rerun this cell to show the HTML representation or trust the notebook. <br />On GitHub, the HTML representation is unable to render, please try loading this page with nbviewer.org.</b></div><div class=\"sk-container\" hidden><div class=\"sk-item\"><div class=\"sk-estimator sk-toggleable\"><input class=\"sk-toggleable__control sk-hidden--visually\" id=\"sk-estimator-id-2\" type=\"checkbox\" checked><label for=\"sk-estimator-id-2\" class=\"sk-toggleable__label sk-toggleable__label-arrow\">LGBMClassifier</label><div class=\"sk-toggleable__content\"><pre>LGBMClassifier(learning_rate=0.09489714884434745, max_depth=7, n_estimators=160,\n",
       "               num_leaves=24)</pre></div></div></div></div></div>"
      ],
      "text/plain": [
       "LGBMClassifier(learning_rate=0.09489714884434745, max_depth=7, n_estimators=160,\n",
       "               num_leaves=24)"
      ]
     },
     "execution_count": 72,
     "metadata": {},
     "output_type": "execute_result"
    }
   ],
   "source": [
    "model.fit(X_train_reb, y_train_reb)"
   ]
  },
  {
   "cell_type": "code",
   "execution_count": 73,
   "id": "cba468f8",
   "metadata": {},
   "outputs": [
    {
     "name": "stdout",
     "output_type": "stream",
     "text": [
      "Validation set result:\n",
      "{'accuracy': 0.7708, 'roc_auc': 0.8501, 'recall': 0.7748}\n"
     ]
    }
   ],
   "source": [
    "metrics = evaluate_metrics(model, X_test, y_test)"
   ]
  },
  {
   "cell_type": "code",
   "execution_count": 74,
   "id": "7c16a8c3",
   "metadata": {},
   "outputs": [
    {
     "data": {
      "image/png": "[encoded data removed]",
      "text/plain": [
       "<Figure size 640x480 with 2 Axes>"
      ]
     },
     "metadata": {},
     "output_type": "display_data"
    }
   ],
   "source": [
    "plot_cm(model, X_test, y_test)"
   ]
  },
  {
   "cell_type": "markdown",
   "id": "f8b8f215",
   "metadata": {},
   "source": [
    "#### Some plots"
   ]
  },
  {
   "cell_type": "code",
   "execution_count": 75,
   "id": "c0b2c71b",
   "metadata": {},
   "outputs": [
    {
     "data": {
      "image/png": "[encoded data removed]",
      "text/plain": [
       "<Figure size 640x480 with 1 Axes>"
      ]
     },
     "metadata": {},
     "output_type": "display_data"
    }
   ],
   "source": [
    "tuner.plot_best_scores()"
   ]
  },
  {
   "cell_type": "code",
   "execution_count": 76,
   "id": "5781b225",
   "metadata": {},
   "outputs": [
    {
     "data": {
      "text/plain": [
       "{'num_leaves': IntUniformDistribution(low=15, high=24, step=1),\n",
       " 'max_depth': IntUniformDistribution(low=5, high=15, step=1),\n",
       " 'n_estimators': IntUniformDistribution(low=50, high=200, step=10),\n",
       " 'learning_rate': LogUniformDistribution(low=0.001, high=0.1)}"
      ]
     },
     "execution_count": 76,
     "metadata": {},
     "output_type": "execute_result"
    }
   ],
   "source": [
    "tuner.search_space()"
   ]
  },
  {
   "cell_type": "code",
   "execution_count": 77,
   "id": "a13564c5",
   "metadata": {},
   "outputs": [
    {
     "data": {
      "image/png": "[encoded data removed]",
      "text/plain": [
       "<Figure size 640x480 with 2 Axes>"
      ]
     },
     "metadata": {},
     "output_type": "display_data"
    }
   ],
   "source": [
    "tuner.plot_contour_scores(params=['num_leaves', 'max_depth'])"
   ]
  },
  {
   "cell_type": "code",
   "execution_count": null,
   "id": "913b5e15",
   "metadata": {},
   "outputs": [],
   "source": []
  }
 ],
 "metadata": {
  "kernelspec": {
   "display_name": "Python [conda env:mygeneralml_p38_cpu_v1_0]",
   "language": "python",
   "name": "conda-env-mygeneralml_p38_cpu_v1_0-py"
  },
  "language_info": {
   "codemirror_mode": {
    "name": "ipython",
    "version": 3
   },
   "file_extension": ".py",
   "mimetype": "text/x-python",
   "name": "python",
   "nbconvert_exporter": "python",
   "pygments_lexer": "ipython3",
   "version": "3.8.13"
  }
 },
 "nbformat": 4,
 "nbformat_minor": 5
}
