{
 "cells": [
  {
   "cell_type": "markdown",
   "id": "c9daa200",
   "metadata": {},
   "source": [
    "### Train and tune LGBM using ADS ADSTuner\n",
    "\n",
    "see: https://accelerated-data-science.readthedocs.io/en/latest/user_guide/model_training/ads_tuner.html#\n",
    "\n",
    "* https://lightgbm.readthedocs.io/en/v3.3.2/\n",
    "* applicato al caso **customer churn**\n",
    "* usa: generalml_ come ambiente conda\n",
    "* (23/03): switched to p38"
   ]
  },
  {
   "cell_type": "code",
   "execution_count": 1,
   "id": "e002c36b",
   "metadata": {},
   "outputs": [],
   "source": [
    "import pandas as pd\n",
    "import matplotlib.pyplot as plt\n",
    "import lightgbm as lgb\n",
    "import imblearn\n",
    "\n",
    "from sklearn.metrics import classification_report\n",
    "from sklearn.metrics import (get_scorer, make_scorer, f1_score, roc_auc_score, accuracy_score, \n",
    "                             confusion_matrix, ConfusionMatrixDisplay)\n",
    "from sklearn.model_selection import train_test_split\n",
    "from sklearn.preprocessing import OrdinalEncoder, LabelEncoder\n",
    "\n",
    "# ADS tuner\n",
    "from ads.hpo.distributions import *\n",
    "from ads.hpo.search_cv import ADSTuner\n",
    "from ads.hpo.stopping_criterion import *\n",
    "\n",
    "# to rebalance\n",
    "from imblearn.over_sampling import RandomOverSampler\n",
    "\n",
    "from utils import (cat_cols_selector,\n",
    "                  num_cols_selector,\n",
    "                  plot_cm,\n",
    "                  evaluate_metrics)\n",
    "\n",
    "%matplotlib inline"
   ]
  },
  {
   "cell_type": "markdown",
   "id": "6a636be6",
   "metadata": {},
   "source": [
    "#### Legge i dati dall'Object Storage"
   ]
  },
  {
   "cell_type": "code",
   "execution_count": 2,
   "id": "e747eb4e",
   "metadata": {},
   "outputs": [
    {
     "data": {
      "text/html": [
       "<div>\n",
       "<style scoped>\n",
       "    .dataframe tbody tr th:only-of-type {\n",
       "        vertical-align: middle;\n",
       "    }\n",
       "\n",
       "    .dataframe tbody tr th {\n",
       "        vertical-align: top;\n",
       "    }\n",
       "\n",
       "    .dataframe thead th {\n",
       "        text-align: right;\n",
       "    }\n",
       "</style>\n",
       "<table border=\"1\" class=\"dataframe\">\n",
       "  <thead>\n",
       "    <tr style=\"text-align: right;\">\n",
       "      <th></th>\n",
       "      <th>customerID</th>\n",
       "      <th>gender</th>\n",
       "      <th>SeniorCitizen</th>\n",
       "      <th>Partner</th>\n",
       "      <th>Dependents</th>\n",
       "      <th>tenure</th>\n",
       "      <th>PhoneService</th>\n",
       "      <th>MultipleLines</th>\n",
       "      <th>InternetService</th>\n",
       "      <th>OnlineSecurity</th>\n",
       "      <th>...</th>\n",
       "      <th>DeviceProtection</th>\n",
       "      <th>TechSupport</th>\n",
       "      <th>StreamingTV</th>\n",
       "      <th>StreamingMovies</th>\n",
       "      <th>Contract</th>\n",
       "      <th>PaperlessBilling</th>\n",
       "      <th>PaymentMethod</th>\n",
       "      <th>MonthlyCharges</th>\n",
       "      <th>TotalCharges</th>\n",
       "      <th>Churn</th>\n",
       "    </tr>\n",
       "  </thead>\n",
       "  <tbody>\n",
       "    <tr>\n",
       "      <th>0</th>\n",
       "      <td>7590-VHVEG</td>\n",
       "      <td>Female</td>\n",
       "      <td>0</td>\n",
       "      <td>Yes</td>\n",
       "      <td>No</td>\n",
       "      <td>1</td>\n",
       "      <td>No</td>\n",
       "      <td>No phone service</td>\n",
       "      <td>DSL</td>\n",
       "      <td>No</td>\n",
       "      <td>...</td>\n",
       "      <td>No</td>\n",
       "      <td>No</td>\n",
       "      <td>No</td>\n",
       "      <td>No</td>\n",
       "      <td>Month-to-month</td>\n",
       "      <td>Yes</td>\n",
       "      <td>Electronic check</td>\n",
       "      <td>29.85</td>\n",
       "      <td>29.85</td>\n",
       "      <td>No</td>\n",
       "    </tr>\n",
       "    <tr>\n",
       "      <th>1</th>\n",
       "      <td>5575-GNVDE</td>\n",
       "      <td>Male</td>\n",
       "      <td>0</td>\n",
       "      <td>No</td>\n",
       "      <td>No</td>\n",
       "      <td>34</td>\n",
       "      <td>Yes</td>\n",
       "      <td>No</td>\n",
       "      <td>DSL</td>\n",
       "      <td>Yes</td>\n",
       "      <td>...</td>\n",
       "      <td>Yes</td>\n",
       "      <td>No</td>\n",
       "      <td>No</td>\n",
       "      <td>No</td>\n",
       "      <td>One year</td>\n",
       "      <td>No</td>\n",
       "      <td>Mailed check</td>\n",
       "      <td>56.95</td>\n",
       "      <td>1889.5</td>\n",
       "      <td>No</td>\n",
       "    </tr>\n",
       "    <tr>\n",
       "      <th>2</th>\n",
       "      <td>3668-QPYBK</td>\n",
       "      <td>Male</td>\n",
       "      <td>0</td>\n",
       "      <td>No</td>\n",
       "      <td>No</td>\n",
       "      <td>2</td>\n",
       "      <td>Yes</td>\n",
       "      <td>No</td>\n",
       "      <td>DSL</td>\n",
       "      <td>Yes</td>\n",
       "      <td>...</td>\n",
       "      <td>No</td>\n",
       "      <td>No</td>\n",
       "      <td>No</td>\n",
       "      <td>No</td>\n",
       "      <td>Month-to-month</td>\n",
       "      <td>Yes</td>\n",
       "      <td>Mailed check</td>\n",
       "      <td>53.85</td>\n",
       "      <td>108.15</td>\n",
       "      <td>Yes</td>\n",
       "    </tr>\n",
       "    <tr>\n",
       "      <th>3</th>\n",
       "      <td>7795-CFOCW</td>\n",
       "      <td>Male</td>\n",
       "      <td>0</td>\n",
       "      <td>No</td>\n",
       "      <td>No</td>\n",
       "      <td>45</td>\n",
       "      <td>No</td>\n",
       "      <td>No phone service</td>\n",
       "      <td>DSL</td>\n",
       "      <td>Yes</td>\n",
       "      <td>...</td>\n",
       "      <td>Yes</td>\n",
       "      <td>Yes</td>\n",
       "      <td>No</td>\n",
       "      <td>No</td>\n",
       "      <td>One year</td>\n",
       "      <td>No</td>\n",
       "      <td>Bank transfer (automatic)</td>\n",
       "      <td>42.30</td>\n",
       "      <td>1840.75</td>\n",
       "      <td>No</td>\n",
       "    </tr>\n",
       "    <tr>\n",
       "      <th>4</th>\n",
       "      <td>9237-HQITU</td>\n",
       "      <td>Female</td>\n",
       "      <td>0</td>\n",
       "      <td>No</td>\n",
       "      <td>No</td>\n",
       "      <td>2</td>\n",
       "      <td>Yes</td>\n",
       "      <td>No</td>\n",
       "      <td>Fiber optic</td>\n",
       "      <td>No</td>\n",
       "      <td>...</td>\n",
       "      <td>No</td>\n",
       "      <td>No</td>\n",
       "      <td>No</td>\n",
       "      <td>No</td>\n",
       "      <td>Month-to-month</td>\n",
       "      <td>Yes</td>\n",
       "      <td>Electronic check</td>\n",
       "      <td>70.70</td>\n",
       "      <td>151.65</td>\n",
       "      <td>Yes</td>\n",
       "    </tr>\n",
       "  </tbody>\n",
       "</table>\n",
       "<p>5 rows × 21 columns</p>\n",
       "</div>"
      ],
      "text/plain": [
       "   customerID  gender  SeniorCitizen Partner Dependents  tenure PhoneService  \\\n",
       "0  7590-VHVEG  Female              0     Yes         No       1           No   \n",
       "1  5575-GNVDE    Male              0      No         No      34          Yes   \n",
       "2  3668-QPYBK    Male              0      No         No       2          Yes   \n",
       "3  7795-CFOCW    Male              0      No         No      45           No   \n",
       "4  9237-HQITU  Female              0      No         No       2          Yes   \n",
       "\n",
       "      MultipleLines InternetService OnlineSecurity  ... DeviceProtection  \\\n",
       "0  No phone service             DSL             No  ...               No   \n",
       "1                No             DSL            Yes  ...              Yes   \n",
       "2                No             DSL            Yes  ...               No   \n",
       "3  No phone service             DSL            Yes  ...              Yes   \n",
       "4                No     Fiber optic             No  ...               No   \n",
       "\n",
       "  TechSupport StreamingTV StreamingMovies        Contract PaperlessBilling  \\\n",
       "0          No          No              No  Month-to-month              Yes   \n",
       "1          No          No              No        One year               No   \n",
       "2          No          No              No  Month-to-month              Yes   \n",
       "3         Yes          No              No        One year               No   \n",
       "4          No          No              No  Month-to-month              Yes   \n",
       "\n",
       "               PaymentMethod MonthlyCharges  TotalCharges Churn  \n",
       "0           Electronic check          29.85         29.85    No  \n",
       "1               Mailed check          56.95        1889.5    No  \n",
       "2               Mailed check          53.85        108.15   Yes  \n",
       "3  Bank transfer (automatic)          42.30       1840.75    No  \n",
       "4           Electronic check          70.70        151.65   Yes  \n",
       "\n",
       "[5 rows x 21 columns]"
      ]
     },
     "execution_count": 2,
     "metadata": {},
     "output_type": "execute_result"
    }
   ],
   "source": [
    "NAMESPACE = \"frqap2zhtzbe\"\n",
    "BUCKET = \"WORKSHOP\"\n",
    "NOME_FILE = \"customer_churn_data.csv\"\n",
    "\n",
    "URL = f\"oci://{BUCKET}@{NAMESPACE}/{NOME_FILE}\"\n",
    "\n",
    "orig_df = pd.read_csv(URL)\n",
    "\n",
    "orig_df.head()"
   ]
  },
  {
   "cell_type": "markdown",
   "id": "8110433d",
   "metadata": {},
   "source": [
    "#### Data Preparation, Feature Engineering"
   ]
  },
  {
   "cell_type": "code",
   "execution_count": 3,
   "id": "12011c10",
   "metadata": {},
   "outputs": [],
   "source": [
    "# get rid of some columns\n",
    "cols_to_drop = ['customerID', 'TotalCharges']\n",
    "\n",
    "df = orig_df.drop(columns=cols_to_drop)\n",
    "\n",
    "TARGET = \"Churn\"\n",
    "features = list(set(df.columns) - set([TARGET]))"
   ]
  },
  {
   "cell_type": "code",
   "execution_count": 4,
   "id": "80385a02",
   "metadata": {},
   "outputs": [],
   "source": [
    "# identify categorical and continuous\n",
    "cat_cols = cat_cols_selector(df, TARGET)\n",
    "num_cols = num_cols_selector(df, TARGET)"
   ]
  },
  {
   "cell_type": "code",
   "execution_count": 5,
   "id": "2ae758f9",
   "metadata": {},
   "outputs": [],
   "source": [
    "# code categorical as integer for LightGBM\n",
    "enc = OrdinalEncoder()\n",
    "enc.fit(df[cat_cols])\n",
    "\n",
    "df[cat_cols] = enc.transform(df[cat_cols])\n",
    "\n",
    "for col in cat_cols:\n",
    "    df[col] = df[col].astype(\"category\")"
   ]
  },
  {
   "cell_type": "code",
   "execution_count": 6,
   "id": "db7ad605",
   "metadata": {},
   "outputs": [
    {
     "name": "stdout",
     "output_type": "stream",
     "text": [
      "<class 'pandas.core.frame.DataFrame'>\n",
      "RangeIndex: 7043 entries, 0 to 7042\n",
      "Data columns (total 19 columns):\n",
      " #   Column            Non-Null Count  Dtype   \n",
      "---  ------            --------------  -----   \n",
      " 0   gender            7043 non-null   category\n",
      " 1   SeniorCitizen     7043 non-null   category\n",
      " 2   Partner           7043 non-null   category\n",
      " 3   Dependents        7043 non-null   category\n",
      " 4   tenure            7043 non-null   int64   \n",
      " 5   PhoneService      7043 non-null   category\n",
      " 6   MultipleLines     7043 non-null   category\n",
      " 7   InternetService   7043 non-null   category\n",
      " 8   OnlineSecurity    7043 non-null   category\n",
      " 9   OnlineBackup      7043 non-null   category\n",
      " 10  DeviceProtection  7043 non-null   category\n",
      " 11  TechSupport       7043 non-null   category\n",
      " 12  StreamingTV       7043 non-null   category\n",
      " 13  StreamingMovies   7043 non-null   category\n",
      " 14  Contract          7043 non-null   category\n",
      " 15  PaperlessBilling  7043 non-null   category\n",
      " 16  PaymentMethod     7043 non-null   category\n",
      " 17  MonthlyCharges    7043 non-null   float64 \n",
      " 18  Churn             7043 non-null   object  \n",
      "dtypes: category(16), float64(1), int64(1), object(1)\n",
      "memory usage: 277.3+ KB\n"
     ]
    }
   ],
   "source": [
    "df.info()"
   ]
  },
  {
   "cell_type": "code",
   "execution_count": 7,
   "id": "b195ac07",
   "metadata": {},
   "outputs": [
    {
     "data": {
      "text/html": [
       "<div>\n",
       "<style scoped>\n",
       "    .dataframe tbody tr th:only-of-type {\n",
       "        vertical-align: middle;\n",
       "    }\n",
       "\n",
       "    .dataframe tbody tr th {\n",
       "        vertical-align: top;\n",
       "    }\n",
       "\n",
       "    .dataframe thead th {\n",
       "        text-align: right;\n",
       "    }\n",
       "</style>\n",
       "<table border=\"1\" class=\"dataframe\">\n",
       "  <thead>\n",
       "    <tr style=\"text-align: right;\">\n",
       "      <th></th>\n",
       "      <th>gender</th>\n",
       "      <th>SeniorCitizen</th>\n",
       "      <th>Partner</th>\n",
       "      <th>Dependents</th>\n",
       "      <th>tenure</th>\n",
       "      <th>PhoneService</th>\n",
       "      <th>MultipleLines</th>\n",
       "      <th>InternetService</th>\n",
       "      <th>OnlineSecurity</th>\n",
       "      <th>OnlineBackup</th>\n",
       "      <th>DeviceProtection</th>\n",
       "      <th>TechSupport</th>\n",
       "      <th>StreamingTV</th>\n",
       "      <th>StreamingMovies</th>\n",
       "      <th>Contract</th>\n",
       "      <th>PaperlessBilling</th>\n",
       "      <th>PaymentMethod</th>\n",
       "      <th>MonthlyCharges</th>\n",
       "      <th>Churn</th>\n",
       "    </tr>\n",
       "  </thead>\n",
       "  <tbody>\n",
       "    <tr>\n",
       "      <th>0</th>\n",
       "      <td>0.0</td>\n",
       "      <td>0.0</td>\n",
       "      <td>1.0</td>\n",
       "      <td>0.0</td>\n",
       "      <td>1</td>\n",
       "      <td>0.0</td>\n",
       "      <td>1.0</td>\n",
       "      <td>0.0</td>\n",
       "      <td>0.0</td>\n",
       "      <td>2.0</td>\n",
       "      <td>0.0</td>\n",
       "      <td>0.0</td>\n",
       "      <td>0.0</td>\n",
       "      <td>0.0</td>\n",
       "      <td>0.0</td>\n",
       "      <td>1.0</td>\n",
       "      <td>2.0</td>\n",
       "      <td>29.85</td>\n",
       "      <td>No</td>\n",
       "    </tr>\n",
       "    <tr>\n",
       "      <th>1</th>\n",
       "      <td>1.0</td>\n",
       "      <td>0.0</td>\n",
       "      <td>0.0</td>\n",
       "      <td>0.0</td>\n",
       "      <td>34</td>\n",
       "      <td>1.0</td>\n",
       "      <td>0.0</td>\n",
       "      <td>0.0</td>\n",
       "      <td>2.0</td>\n",
       "      <td>0.0</td>\n",
       "      <td>2.0</td>\n",
       "      <td>0.0</td>\n",
       "      <td>0.0</td>\n",
       "      <td>0.0</td>\n",
       "      <td>1.0</td>\n",
       "      <td>0.0</td>\n",
       "      <td>3.0</td>\n",
       "      <td>56.95</td>\n",
       "      <td>No</td>\n",
       "    </tr>\n",
       "    <tr>\n",
       "      <th>2</th>\n",
       "      <td>1.0</td>\n",
       "      <td>0.0</td>\n",
       "      <td>0.0</td>\n",
       "      <td>0.0</td>\n",
       "      <td>2</td>\n",
       "      <td>1.0</td>\n",
       "      <td>0.0</td>\n",
       "      <td>0.0</td>\n",
       "      <td>2.0</td>\n",
       "      <td>2.0</td>\n",
       "      <td>0.0</td>\n",
       "      <td>0.0</td>\n",
       "      <td>0.0</td>\n",
       "      <td>0.0</td>\n",
       "      <td>0.0</td>\n",
       "      <td>1.0</td>\n",
       "      <td>3.0</td>\n",
       "      <td>53.85</td>\n",
       "      <td>Yes</td>\n",
       "    </tr>\n",
       "    <tr>\n",
       "      <th>3</th>\n",
       "      <td>1.0</td>\n",
       "      <td>0.0</td>\n",
       "      <td>0.0</td>\n",
       "      <td>0.0</td>\n",
       "      <td>45</td>\n",
       "      <td>0.0</td>\n",
       "      <td>1.0</td>\n",
       "      <td>0.0</td>\n",
       "      <td>2.0</td>\n",
       "      <td>0.0</td>\n",
       "      <td>2.0</td>\n",
       "      <td>2.0</td>\n",
       "      <td>0.0</td>\n",
       "      <td>0.0</td>\n",
       "      <td>1.0</td>\n",
       "      <td>0.0</td>\n",
       "      <td>0.0</td>\n",
       "      <td>42.30</td>\n",
       "      <td>No</td>\n",
       "    </tr>\n",
       "    <tr>\n",
       "      <th>4</th>\n",
       "      <td>0.0</td>\n",
       "      <td>0.0</td>\n",
       "      <td>0.0</td>\n",
       "      <td>0.0</td>\n",
       "      <td>2</td>\n",
       "      <td>1.0</td>\n",
       "      <td>0.0</td>\n",
       "      <td>1.0</td>\n",
       "      <td>0.0</td>\n",
       "      <td>0.0</td>\n",
       "      <td>0.0</td>\n",
       "      <td>0.0</td>\n",
       "      <td>0.0</td>\n",
       "      <td>0.0</td>\n",
       "      <td>0.0</td>\n",
       "      <td>1.0</td>\n",
       "      <td>2.0</td>\n",
       "      <td>70.70</td>\n",
       "      <td>Yes</td>\n",
       "    </tr>\n",
       "  </tbody>\n",
       "</table>\n",
       "</div>"
      ],
      "text/plain": [
       "  gender SeniorCitizen Partner Dependents  tenure PhoneService MultipleLines  \\\n",
       "0    0.0           0.0     1.0        0.0       1          0.0           1.0   \n",
       "1    1.0           0.0     0.0        0.0      34          1.0           0.0   \n",
       "2    1.0           0.0     0.0        0.0       2          1.0           0.0   \n",
       "3    1.0           0.0     0.0        0.0      45          0.0           1.0   \n",
       "4    0.0           0.0     0.0        0.0       2          1.0           0.0   \n",
       "\n",
       "  InternetService OnlineSecurity OnlineBackup DeviceProtection TechSupport  \\\n",
       "0             0.0            0.0          2.0              0.0         0.0   \n",
       "1             0.0            2.0          0.0              2.0         0.0   \n",
       "2             0.0            2.0          2.0              0.0         0.0   \n",
       "3             0.0            2.0          0.0              2.0         2.0   \n",
       "4             1.0            0.0          0.0              0.0         0.0   \n",
       "\n",
       "  StreamingTV StreamingMovies Contract PaperlessBilling PaymentMethod  \\\n",
       "0         0.0             0.0      0.0              1.0           2.0   \n",
       "1         0.0             0.0      1.0              0.0           3.0   \n",
       "2         0.0             0.0      0.0              1.0           3.0   \n",
       "3         0.0             0.0      1.0              0.0           0.0   \n",
       "4         0.0             0.0      0.0              1.0           2.0   \n",
       "\n",
       "   MonthlyCharges Churn  \n",
       "0           29.85    No  \n",
       "1           56.95    No  \n",
       "2           53.85   Yes  \n",
       "3           42.30    No  \n",
       "4           70.70   Yes  "
      ]
     },
     "execution_count": 7,
     "metadata": {},
     "output_type": "execute_result"
    }
   ],
   "source": [
    "df.head()"
   ]
  },
  {
   "cell_type": "markdown",
   "id": "ab3ca4af",
   "metadata": {},
   "source": [
    "#### Train/test split"
   ]
  },
  {
   "cell_type": "code",
   "execution_count": 8,
   "id": "04667bd8",
   "metadata": {},
   "outputs": [
    {
     "name": "stdout",
     "output_type": "stream",
     "text": [
      "\n",
      "Summary on train/test dataset:\n",
      "\n",
      "# of samples in train set 5634\n",
      "# of samples in test set 1409\n",
      "\n",
      "Numerical columns: ['tenure', 'MonthlyCharges'] (2)\n",
      "\n",
      "Categorical columns: ['gender', 'SeniorCitizen', 'Partner', 'Dependents', 'PhoneService', 'MultipleLines', 'InternetService', 'OnlineSecurity', 'OnlineBackup', 'DeviceProtection', 'TechSupport', 'StreamingTV', 'StreamingMovies', 'Contract', 'PaperlessBilling', 'PaymentMethod'] (16)\n"
     ]
    }
   ],
   "source": [
    "# train, test split (lo faccio direttamente sui dataframe)\n",
    "SEED = 42\n",
    "\n",
    "TEST_FRAC = 0.2\n",
    "\n",
    "df_train, df_test = train_test_split(df, shuffle=True, test_size=TEST_FRAC, \n",
    "                                     random_state = SEED)\n",
    "\n",
    "X_train, y_train = df_train.drop([TARGET], axis=1), df_train[TARGET]\n",
    "X_test, y_test = df_test.drop([TARGET], axis=1), df_test[TARGET]\n",
    "\n",
    "print()\n",
    "print(\"Summary on train/test dataset:\")\n",
    "print()\n",
    "print(\"# of samples in train set\", df_train.shape[0])\n",
    "print(\"# of samples in test set\", df_test.shape[0])\n",
    "print()\n",
    "print(f'Numerical columns: {num_cols} ({len(num_cols)})')\n",
    "print()\n",
    "print(f'Categorical columns: {cat_cols} ({len(cat_cols)})')"
   ]
  },
  {
   "cell_type": "markdown",
   "id": "3f40e44a",
   "metadata": {},
   "source": [
    "#### HPO sul dataset non bilanciato"
   ]
  },
  {
   "cell_type": "code",
   "execution_count": 9,
   "id": "7d9f07fa",
   "metadata": {},
   "outputs": [],
   "source": [
    "#\n",
    "# definisco la pipeline completa\n",
    "#\n",
    "N_TRIALS = 50\n",
    "\n",
    "# metrics on which to optimize\n",
    "scorer = make_scorer(accuracy_score)\n",
    "\n",
    "# i parametri che vogliamo fissare\n",
    "params = {\n",
    "    # info\n",
    "    \"verbose\" : 0,\n",
    "}\n",
    "\n",
    "# qui definisco la strategia per HPO\n",
    "strategy = {\"num_leaves\" : IntUniformDistribution(5, 24, 1),\n",
    "           'max_depth': IntUniformDistribution(2, 10, 1),\n",
    "            'n_estimators': IntUniformDistribution(50, 200, 10),\n",
    "            'learning_rate' : LogUniformDistribution(low=1e-03, high=1e-1),\n",
    "            }\n",
    "\n",
    "# non abbiamo bisogno di scalare perchè è un GBM\n",
    "model = lgb.LGBMClassifier(**params)"
   ]
  },
  {
   "cell_type": "code",
   "execution_count": 10,
   "id": "bdcec59a",
   "metadata": {},
   "outputs": [
    {
     "name": "stderr",
     "output_type": "stream",
     "text": [
      "\u001b[32m[I 2023-03-23 08:32:59,223]\u001b[0m A new study created in RDB with name: hpo_6aab148a-0344-495e-a36e-01554f4484ee\u001b[0m\n"
     ]
    }
   ],
   "source": [
    "tuner = ADSTuner(model, cv=5, n_jobs=2, strategy=strategy, scoring=scorer, random_state=SEED)\n",
    "\n",
    "tuner.tune(X_train, y_train, exit_criterion=[NTrials(N_TRIALS)])"
   ]
  },
  {
   "cell_type": "code",
   "execution_count": 35,
   "id": "2c5d5450",
   "metadata": {},
   "outputs": [
    {
     "name": "stdout",
     "output_type": "stream",
     "text": [
      "[LightGBM] [Warning] Auto-choosing row-wise multi-threading, the overhead of testing was 0.003601 seconds.\n",
      "You can set `force_row_wise=true` to remove the overhead.\n",
      "And if memory is not enough, you can set `force_col_wise=true`.\n",
      "Number of trials launched: 46\n"
     ]
    }
   ],
   "source": [
    "print(f\"Number of trials launched: {len(tuner.trials)}\")"
   ]
  },
  {
   "cell_type": "code",
   "execution_count": 67,
   "id": "dabd5dca",
   "metadata": {},
   "outputs": [
    {
     "data": {
      "text/html": [
       "<div>\n",
       "<style scoped>\n",
       "    .dataframe tbody tr th:only-of-type {\n",
       "        vertical-align: middle;\n",
       "    }\n",
       "\n",
       "    .dataframe tbody tr th {\n",
       "        vertical-align: top;\n",
       "    }\n",
       "\n",
       "    .dataframe thead th {\n",
       "        text-align: right;\n",
       "    }\n",
       "</style>\n",
       "<table border=\"1\" class=\"dataframe\">\n",
       "  <thead>\n",
       "    <tr style=\"text-align: right;\">\n",
       "      <th></th>\n",
       "      <th>number</th>\n",
       "      <th>value</th>\n",
       "      <th>datetime_start</th>\n",
       "      <th>datetime_complete</th>\n",
       "      <th>duration</th>\n",
       "      <th>params_learning_rate</th>\n",
       "      <th>params_max_depth</th>\n",
       "      <th>params_n_estimators</th>\n",
       "      <th>params_num_leaves</th>\n",
       "      <th>user_attrs_mean_fit_time</th>\n",
       "      <th>...</th>\n",
       "      <th>user_attrs_metric</th>\n",
       "      <th>user_attrs_split0_test_score</th>\n",
       "      <th>user_attrs_split1_test_score</th>\n",
       "      <th>user_attrs_split2_test_score</th>\n",
       "      <th>user_attrs_split3_test_score</th>\n",
       "      <th>user_attrs_split4_test_score</th>\n",
       "      <th>user_attrs_std_fit_time</th>\n",
       "      <th>user_attrs_std_score_time</th>\n",
       "      <th>user_attrs_std_test_score</th>\n",
       "      <th>state</th>\n",
       "    </tr>\n",
       "  </thead>\n",
       "  <tbody>\n",
       "    <tr>\n",
       "      <th>21</th>\n",
       "      <td>21</td>\n",
       "      <td>0.840627</td>\n",
       "      <td>2023-03-23 08:39:58.964132</td>\n",
       "      <td>2023-03-23 08:40:21.056685</td>\n",
       "      <td>0 days 00:00:22.092553</td>\n",
       "      <td>0.093080</td>\n",
       "      <td>15</td>\n",
       "      <td>200</td>\n",
       "      <td>22</td>\n",
       "      <td>4.350960</td>\n",
       "      <td>...</td>\n",
       "      <td>accuracy_score</td>\n",
       "      <td>0.812198</td>\n",
       "      <td>0.830211</td>\n",
       "      <td>0.847734</td>\n",
       "      <td>0.850755</td>\n",
       "      <td>0.862236</td>\n",
       "      <td>0.042342</td>\n",
       "      <td>0.004079</td>\n",
       "      <td>0.017531</td>\n",
       "      <td>COMPLETE</td>\n",
       "    </tr>\n",
       "    <tr>\n",
       "      <th>44</th>\n",
       "      <td>44</td>\n",
       "      <td>0.839056</td>\n",
       "      <td>2023-03-23 08:43:38.256681</td>\n",
       "      <td>2023-03-23 08:43:58.532441</td>\n",
       "      <td>0 days 00:00:20.275760</td>\n",
       "      <td>0.097942</td>\n",
       "      <td>13</td>\n",
       "      <td>180</td>\n",
       "      <td>22</td>\n",
       "      <td>3.996618</td>\n",
       "      <td>...</td>\n",
       "      <td>accuracy_score</td>\n",
       "      <td>0.807971</td>\n",
       "      <td>0.835650</td>\n",
       "      <td>0.842296</td>\n",
       "      <td>0.854381</td>\n",
       "      <td>0.854985</td>\n",
       "      <td>0.090821</td>\n",
       "      <td>0.003607</td>\n",
       "      <td>0.017187</td>\n",
       "      <td>COMPLETE</td>\n",
       "    </tr>\n",
       "    <tr>\n",
       "      <th>39</th>\n",
       "      <td>39</td>\n",
       "      <td>0.836760</td>\n",
       "      <td>2023-03-23 08:42:47.720276</td>\n",
       "      <td>2023-03-23 08:43:09.169153</td>\n",
       "      <td>0 days 00:00:21.448877</td>\n",
       "      <td>0.096718</td>\n",
       "      <td>14</td>\n",
       "      <td>190</td>\n",
       "      <td>22</td>\n",
       "      <td>4.220495</td>\n",
       "      <td>...</td>\n",
       "      <td>accuracy_score</td>\n",
       "      <td>0.808575</td>\n",
       "      <td>0.822356</td>\n",
       "      <td>0.841692</td>\n",
       "      <td>0.851964</td>\n",
       "      <td>0.859215</td>\n",
       "      <td>0.109540</td>\n",
       "      <td>0.002285</td>\n",
       "      <td>0.018770</td>\n",
       "      <td>COMPLETE</td>\n",
       "    </tr>\n",
       "    <tr>\n",
       "      <th>24</th>\n",
       "      <td>24</td>\n",
       "      <td>0.836278</td>\n",
       "      <td>2023-03-23 08:40:21.078057</td>\n",
       "      <td>2023-03-23 08:40:40.711861</td>\n",
       "      <td>0 days 00:00:19.633804</td>\n",
       "      <td>0.097700</td>\n",
       "      <td>10</td>\n",
       "      <td>180</td>\n",
       "      <td>22</td>\n",
       "      <td>3.864211</td>\n",
       "      <td>...</td>\n",
       "      <td>accuracy_score</td>\n",
       "      <td>0.802536</td>\n",
       "      <td>0.833837</td>\n",
       "      <td>0.841692</td>\n",
       "      <td>0.847734</td>\n",
       "      <td>0.855589</td>\n",
       "      <td>0.069304</td>\n",
       "      <td>0.003503</td>\n",
       "      <td>0.018319</td>\n",
       "      <td>COMPLETE</td>\n",
       "    </tr>\n",
       "    <tr>\n",
       "      <th>34</th>\n",
       "      <td>34</td>\n",
       "      <td>0.833860</td>\n",
       "      <td>2023-03-23 08:41:58.928496</td>\n",
       "      <td>2023-03-23 08:42:18.558478</td>\n",
       "      <td>0 days 00:00:19.629982</td>\n",
       "      <td>0.098832</td>\n",
       "      <td>11</td>\n",
       "      <td>170</td>\n",
       "      <td>23</td>\n",
       "      <td>3.861250</td>\n",
       "      <td>...</td>\n",
       "      <td>accuracy_score</td>\n",
       "      <td>0.809783</td>\n",
       "      <td>0.826586</td>\n",
       "      <td>0.832628</td>\n",
       "      <td>0.843505</td>\n",
       "      <td>0.856798</td>\n",
       "      <td>0.039097</td>\n",
       "      <td>0.003746</td>\n",
       "      <td>0.015832</td>\n",
       "      <td>COMPLETE</td>\n",
       "    </tr>\n",
       "  </tbody>\n",
       "</table>\n",
       "<p>5 rows × 22 columns</p>\n",
       "</div>"
      ],
      "text/plain": [
       "    number     value             datetime_start          datetime_complete  \\\n",
       "21      21  0.840627 2023-03-23 08:39:58.964132 2023-03-23 08:40:21.056685   \n",
       "44      44  0.839056 2023-03-23 08:43:38.256681 2023-03-23 08:43:58.532441   \n",
       "39      39  0.836760 2023-03-23 08:42:47.720276 2023-03-23 08:43:09.169153   \n",
       "24      24  0.836278 2023-03-23 08:40:21.078057 2023-03-23 08:40:40.711861   \n",
       "34      34  0.833860 2023-03-23 08:41:58.928496 2023-03-23 08:42:18.558478   \n",
       "\n",
       "                 duration  params_learning_rate  params_max_depth  \\\n",
       "21 0 days 00:00:22.092553              0.093080                15   \n",
       "44 0 days 00:00:20.275760              0.097942                13   \n",
       "39 0 days 00:00:21.448877              0.096718                14   \n",
       "24 0 days 00:00:19.633804              0.097700                10   \n",
       "34 0 days 00:00:19.629982              0.098832                11   \n",
       "\n",
       "    params_n_estimators  params_num_leaves  user_attrs_mean_fit_time  ...  \\\n",
       "21                  200                 22                  4.350960  ...   \n",
       "44                  180                 22                  3.996618  ...   \n",
       "39                  190                 22                  4.220495  ...   \n",
       "24                  180                 22                  3.864211  ...   \n",
       "34                  170                 23                  3.861250  ...   \n",
       "\n",
       "    user_attrs_metric  user_attrs_split0_test_score  \\\n",
       "21     accuracy_score                      0.812198   \n",
       "44     accuracy_score                      0.807971   \n",
       "39     accuracy_score                      0.808575   \n",
       "24     accuracy_score                      0.802536   \n",
       "34     accuracy_score                      0.809783   \n",
       "\n",
       "   user_attrs_split1_test_score  user_attrs_split2_test_score  \\\n",
       "21                     0.830211                      0.847734   \n",
       "44                     0.835650                      0.842296   \n",
       "39                     0.822356                      0.841692   \n",
       "24                     0.833837                      0.841692   \n",
       "34                     0.826586                      0.832628   \n",
       "\n",
       "    user_attrs_split3_test_score  user_attrs_split4_test_score  \\\n",
       "21                      0.850755                      0.862236   \n",
       "44                      0.854381                      0.854985   \n",
       "39                      0.851964                      0.859215   \n",
       "24                      0.847734                      0.855589   \n",
       "34                      0.843505                      0.856798   \n",
       "\n",
       "    user_attrs_std_fit_time  user_attrs_std_score_time  \\\n",
       "21                 0.042342                   0.004079   \n",
       "44                 0.090821                   0.003607   \n",
       "39                 0.109540                   0.002285   \n",
       "24                 0.069304                   0.003503   \n",
       "34                 0.039097                   0.003746   \n",
       "\n",
       "    user_attrs_std_test_score     state  \n",
       "21                   0.017531  COMPLETE  \n",
       "44                   0.017187  COMPLETE  \n",
       "39                   0.018770  COMPLETE  \n",
       "24                   0.018319  COMPLETE  \n",
       "34                   0.015832  COMPLETE  \n",
       "\n",
       "[5 rows x 22 columns]"
      ]
     },
     "execution_count": 67,
     "metadata": {},
     "output_type": "execute_result"
    }
   ],
   "source": [
    "tuner.trials.sort_values(by=[\"value\"], ascending=False).head()"
   ]
  },
  {
   "cell_type": "code",
   "execution_count": 41,
   "id": "05e678e6",
   "metadata": {},
   "outputs": [
    {
     "data": {
      "text/plain": [
       "<State.COMPLETED: 5>"
      ]
     },
     "execution_count": 41,
     "metadata": {},
     "output_type": "execute_result"
    }
   ],
   "source": [
    "tuner.status"
   ]
  },
  {
   "cell_type": "code",
   "execution_count": 42,
   "id": "fab515c3",
   "metadata": {},
   "outputs": [
    {
     "data": {
      "text/plain": [
       "{'learning_rate': 0.05513080388804163,\n",
       " 'max_depth': 4,\n",
       " 'n_estimators': 80,\n",
       " 'num_leaves': 13}"
      ]
     },
     "execution_count": 42,
     "metadata": {},
     "output_type": "execute_result"
    }
   ],
   "source": [
    "tuner.best_params"
   ]
  },
  {
   "cell_type": "markdown",
   "id": "bf6e0a91",
   "metadata": {},
   "source": [
    "#### Addestriamo il modello con i best params"
   ]
  },
  {
   "cell_type": "code",
   "execution_count": 43,
   "id": "e23b66b9",
   "metadata": {},
   "outputs": [],
   "source": [
    "params = tuner.best_params\n",
    "\n",
    "model = lgb.LGBMClassifier(**params)"
   ]
  },
  {
   "cell_type": "code",
   "execution_count": 44,
   "id": "58a5e930",
   "metadata": {},
   "outputs": [
    {
     "data": {
      "text/html": [
       "<style>#sk-container-id-1 {color: black;background-color: white;}#sk-container-id-1 pre{padding: 0;}#sk-container-id-1 div.sk-toggleable {background-color: white;}#sk-container-id-1 label.sk-toggleable__label {cursor: pointer;display: block;width: 100%;margin-bottom: 0;padding: 0.3em;box-sizing: border-box;text-align: center;}#sk-container-id-1 label.sk-toggleable__label-arrow:before {content: \"▸\";float: left;margin-right: 0.25em;color: #696969;}#sk-container-id-1 label.sk-toggleable__label-arrow:hover:before {color: black;}#sk-container-id-1 div.sk-estimator:hover label.sk-toggleable__label-arrow:before {color: black;}#sk-container-id-1 div.sk-toggleable__content {max-height: 0;max-width: 0;overflow: hidden;text-align: left;background-color: #f0f8ff;}#sk-container-id-1 div.sk-toggleable__content pre {margin: 0.2em;color: black;border-radius: 0.25em;background-color: #f0f8ff;}#sk-container-id-1 input.sk-toggleable__control:checked~div.sk-toggleable__content {max-height: 200px;max-width: 100%;overflow: auto;}#sk-container-id-1 input.sk-toggleable__control:checked~label.sk-toggleable__label-arrow:before {content: \"▾\";}#sk-container-id-1 div.sk-estimator input.sk-toggleable__control:checked~label.sk-toggleable__label {background-color: #d4ebff;}#sk-container-id-1 div.sk-label input.sk-toggleable__control:checked~label.sk-toggleable__label {background-color: #d4ebff;}#sk-container-id-1 input.sk-hidden--visually {border: 0;clip: rect(1px 1px 1px 1px);clip: rect(1px, 1px, 1px, 1px);height: 1px;margin: -1px;overflow: hidden;padding: 0;position: absolute;width: 1px;}#sk-container-id-1 div.sk-estimator {font-family: monospace;background-color: #f0f8ff;border: 1px dotted black;border-radius: 0.25em;box-sizing: border-box;margin-bottom: 0.5em;}#sk-container-id-1 div.sk-estimator:hover {background-color: #d4ebff;}#sk-container-id-1 div.sk-parallel-item::after {content: \"\";width: 100%;border-bottom: 1px solid gray;flex-grow: 1;}#sk-container-id-1 div.sk-label:hover label.sk-toggleable__label {background-color: #d4ebff;}#sk-container-id-1 div.sk-serial::before {content: \"\";position: absolute;border-left: 1px solid gray;box-sizing: border-box;top: 0;bottom: 0;left: 50%;z-index: 0;}#sk-container-id-1 div.sk-serial {display: flex;flex-direction: column;align-items: center;background-color: white;padding-right: 0.2em;padding-left: 0.2em;position: relative;}#sk-container-id-1 div.sk-item {position: relative;z-index: 1;}#sk-container-id-1 div.sk-parallel {display: flex;align-items: stretch;justify-content: center;background-color: white;position: relative;}#sk-container-id-1 div.sk-item::before, #sk-container-id-1 div.sk-parallel-item::before {content: \"\";position: absolute;border-left: 1px solid gray;box-sizing: border-box;top: 0;bottom: 0;left: 50%;z-index: -1;}#sk-container-id-1 div.sk-parallel-item {display: flex;flex-direction: column;z-index: 1;position: relative;background-color: white;}#sk-container-id-1 div.sk-parallel-item:first-child::after {align-self: flex-end;width: 50%;}#sk-container-id-1 div.sk-parallel-item:last-child::after {align-self: flex-start;width: 50%;}#sk-container-id-1 div.sk-parallel-item:only-child::after {width: 0;}#sk-container-id-1 div.sk-dashed-wrapped {border: 1px dashed gray;margin: 0 0.4em 0.5em 0.4em;box-sizing: border-box;padding-bottom: 0.4em;background-color: white;}#sk-container-id-1 div.sk-label label {font-family: monospace;font-weight: bold;display: inline-block;line-height: 1.2em;}#sk-container-id-1 div.sk-label-container {text-align: center;}#sk-container-id-1 div.sk-container {/* jupyter's `normalize.less` sets `[hidden] { display: none; }` but bootstrap.min.css set `[hidden] { display: none !important; }` so we also need the `!important` here to be able to override the default hidden behavior on the sphinx rendered scikit-learn.org. See: https://github.com/scikit-learn/scikit-learn/issues/21755 */display: inline-block !important;position: relative;}#sk-container-id-1 div.sk-text-repr-fallback {display: none;}</style><div id=\"sk-container-id-1\" class=\"sk-top-container\"><div class=\"sk-text-repr-fallback\"><pre>LGBMClassifier(learning_rate=0.05513080388804163, max_depth=4, n_estimators=80,\n",
       "               num_leaves=13)</pre><b>In a Jupyter environment, please rerun this cell to show the HTML representation or trust the notebook. <br />On GitHub, the HTML representation is unable to render, please try loading this page with nbviewer.org.</b></div><div class=\"sk-container\" hidden><div class=\"sk-item\"><div class=\"sk-estimator sk-toggleable\"><input class=\"sk-toggleable__control sk-hidden--visually\" id=\"sk-estimator-id-1\" type=\"checkbox\" checked><label for=\"sk-estimator-id-1\" class=\"sk-toggleable__label sk-toggleable__label-arrow\">LGBMClassifier</label><div class=\"sk-toggleable__content\"><pre>LGBMClassifier(learning_rate=0.05513080388804163, max_depth=4, n_estimators=80,\n",
       "               num_leaves=13)</pre></div></div></div></div></div>"
      ],
      "text/plain": [
       "LGBMClassifier(learning_rate=0.05513080388804163, max_depth=4, n_estimators=80,\n",
       "               num_leaves=13)"
      ]
     },
     "execution_count": 44,
     "metadata": {},
     "output_type": "execute_result"
    }
   ],
   "source": [
    "model.fit(X_train, y_train)"
   ]
  },
  {
   "cell_type": "markdown",
   "id": "5444a198",
   "metadata": {},
   "source": [
    "#### Evaluation"
   ]
  },
  {
   "cell_type": "code",
   "execution_count": 45,
   "id": "57a54bb0",
   "metadata": {},
   "outputs": [
    {
     "name": "stdout",
     "output_type": "stream",
     "text": [
      "Validation set result:\n",
      "{'accuracy': 0.8148, 'roc_auc': 0.8618}\n"
     ]
    }
   ],
   "source": [
    "metrics = evaluate_metrics(model, X_test, y_test)"
   ]
  },
  {
   "cell_type": "code",
   "execution_count": 46,
   "id": "1a5a69c9",
   "metadata": {},
   "outputs": [
    {
     "data": {
      "image/png": "[encoded data removed]",
      "text/plain": [
       "<Figure size 640x480 with 2 Axes>"
      ]
     },
     "metadata": {},
     "output_type": "display_data"
    }
   ],
   "source": [
    "plot_cm(model, X_test, y_test)"
   ]
  },
  {
   "cell_type": "markdown",
   "id": "0dc0b653",
   "metadata": {},
   "source": [
    "#### Rebalance: vediamo che bilanciando il dataset si ottiene un risultato migliore riducendo i FN"
   ]
  },
  {
   "cell_type": "code",
   "execution_count": 47,
   "id": "5005b048",
   "metadata": {},
   "outputs": [],
   "source": [
    "SEED = 42\n",
    "\n",
    "# we use a simple RandomSampler from imblearn\n",
    "ros = RandomOverSampler(random_state=SEED)"
   ]
  },
  {
   "cell_type": "code",
   "execution_count": 48,
   "id": "e99d3539",
   "metadata": {},
   "outputs": [],
   "source": [
    "# bilanciamo solo il training set, il test set NON è toccato\n",
    "X_train_reb, y_train_reb = ros.fit_resample(X_train, y_train)"
   ]
  },
  {
   "cell_type": "code",
   "execution_count": 49,
   "id": "62044a91",
   "metadata": {},
   "outputs": [],
   "source": [
    "params = {\n",
    "    # info\n",
    "    \"verbose\" : 0,\n",
    "}\n",
    "\n",
    "strategy = {\"num_leaves\" : IntUniformDistribution(15, 24, 1),\n",
    "            'max_depth': IntUniformDistribution(5, 15, 1),\n",
    "            'n_estimators': IntUniformDistribution(50, 200, 10),\n",
    "            'learning_rate' : LogUniformDistribution(low=1e-03, high=1e-1),\n",
    "            }\n",
    "\n",
    "model = lgb.LGBMClassifier(**params)"
   ]
  },
  {
   "cell_type": "code",
   "execution_count": 50,
   "id": "b7a53f2b",
   "metadata": {},
   "outputs": [],
   "source": [
    "tuner = ADSTuner(model, cv=5, n_jobs=2, strategy=strategy, scoring=scorer, random_state=SEED) ## cv is cross validation splits\n",
    "\n",
    "tuner.tune(X_train_reb, y_train_reb, exit_criterion=[NTrials(N_TRIALS)])"
   ]
  },
  {
   "cell_type": "code",
   "execution_count": 65,
   "id": "e2b8e512",
   "metadata": {},
   "outputs": [
    {
     "name": "stdout",
     "output_type": "stream",
     "text": [
      "Number of trials launched: 50\n"
     ]
    }
   ],
   "source": [
    "print(f\"Number of trials launched: {len(tuner.trials)}\")"
   ]
  },
  {
   "cell_type": "code",
   "execution_count": 68,
   "id": "634ae1f2",
   "metadata": {},
   "outputs": [
    {
     "data": {
      "text/html": [
       "<div>\n",
       "<style scoped>\n",
       "    .dataframe tbody tr th:only-of-type {\n",
       "        vertical-align: middle;\n",
       "    }\n",
       "\n",
       "    .dataframe tbody tr th {\n",
       "        vertical-align: top;\n",
       "    }\n",
       "\n",
       "    .dataframe thead th {\n",
       "        text-align: right;\n",
       "    }\n",
       "</style>\n",
       "<table border=\"1\" class=\"dataframe\">\n",
       "  <thead>\n",
       "    <tr style=\"text-align: right;\">\n",
       "      <th></th>\n",
       "      <th>number</th>\n",
       "      <th>value</th>\n",
       "      <th>datetime_start</th>\n",
       "      <th>datetime_complete</th>\n",
       "      <th>duration</th>\n",
       "      <th>params_learning_rate</th>\n",
       "      <th>params_max_depth</th>\n",
       "      <th>params_n_estimators</th>\n",
       "      <th>params_num_leaves</th>\n",
       "      <th>user_attrs_mean_fit_time</th>\n",
       "      <th>...</th>\n",
       "      <th>user_attrs_metric</th>\n",
       "      <th>user_attrs_split0_test_score</th>\n",
       "      <th>user_attrs_split1_test_score</th>\n",
       "      <th>user_attrs_split2_test_score</th>\n",
       "      <th>user_attrs_split3_test_score</th>\n",
       "      <th>user_attrs_split4_test_score</th>\n",
       "      <th>user_attrs_std_fit_time</th>\n",
       "      <th>user_attrs_std_score_time</th>\n",
       "      <th>user_attrs_std_test_score</th>\n",
       "      <th>state</th>\n",
       "    </tr>\n",
       "  </thead>\n",
       "  <tbody>\n",
       "    <tr>\n",
       "      <th>21</th>\n",
       "      <td>21</td>\n",
       "      <td>0.840627</td>\n",
       "      <td>2023-03-23 08:39:58.964132</td>\n",
       "      <td>2023-03-23 08:40:21.056685</td>\n",
       "      <td>0 days 00:00:22.092553</td>\n",
       "      <td>0.093080</td>\n",
       "      <td>15</td>\n",
       "      <td>200</td>\n",
       "      <td>22</td>\n",
       "      <td>4.350960</td>\n",
       "      <td>...</td>\n",
       "      <td>accuracy_score</td>\n",
       "      <td>0.812198</td>\n",
       "      <td>0.830211</td>\n",
       "      <td>0.847734</td>\n",
       "      <td>0.850755</td>\n",
       "      <td>0.862236</td>\n",
       "      <td>0.042342</td>\n",
       "      <td>0.004079</td>\n",
       "      <td>0.017531</td>\n",
       "      <td>COMPLETE</td>\n",
       "    </tr>\n",
       "    <tr>\n",
       "      <th>44</th>\n",
       "      <td>44</td>\n",
       "      <td>0.839056</td>\n",
       "      <td>2023-03-23 08:43:38.256681</td>\n",
       "      <td>2023-03-23 08:43:58.532441</td>\n",
       "      <td>0 days 00:00:20.275760</td>\n",
       "      <td>0.097942</td>\n",
       "      <td>13</td>\n",
       "      <td>180</td>\n",
       "      <td>22</td>\n",
       "      <td>3.996618</td>\n",
       "      <td>...</td>\n",
       "      <td>accuracy_score</td>\n",
       "      <td>0.807971</td>\n",
       "      <td>0.835650</td>\n",
       "      <td>0.842296</td>\n",
       "      <td>0.854381</td>\n",
       "      <td>0.854985</td>\n",
       "      <td>0.090821</td>\n",
       "      <td>0.003607</td>\n",
       "      <td>0.017187</td>\n",
       "      <td>COMPLETE</td>\n",
       "    </tr>\n",
       "    <tr>\n",
       "      <th>39</th>\n",
       "      <td>39</td>\n",
       "      <td>0.836760</td>\n",
       "      <td>2023-03-23 08:42:47.720276</td>\n",
       "      <td>2023-03-23 08:43:09.169153</td>\n",
       "      <td>0 days 00:00:21.448877</td>\n",
       "      <td>0.096718</td>\n",
       "      <td>14</td>\n",
       "      <td>190</td>\n",
       "      <td>22</td>\n",
       "      <td>4.220495</td>\n",
       "      <td>...</td>\n",
       "      <td>accuracy_score</td>\n",
       "      <td>0.808575</td>\n",
       "      <td>0.822356</td>\n",
       "      <td>0.841692</td>\n",
       "      <td>0.851964</td>\n",
       "      <td>0.859215</td>\n",
       "      <td>0.109540</td>\n",
       "      <td>0.002285</td>\n",
       "      <td>0.018770</td>\n",
       "      <td>COMPLETE</td>\n",
       "    </tr>\n",
       "    <tr>\n",
       "      <th>24</th>\n",
       "      <td>24</td>\n",
       "      <td>0.836278</td>\n",
       "      <td>2023-03-23 08:40:21.078057</td>\n",
       "      <td>2023-03-23 08:40:40.711861</td>\n",
       "      <td>0 days 00:00:19.633804</td>\n",
       "      <td>0.097700</td>\n",
       "      <td>10</td>\n",
       "      <td>180</td>\n",
       "      <td>22</td>\n",
       "      <td>3.864211</td>\n",
       "      <td>...</td>\n",
       "      <td>accuracy_score</td>\n",
       "      <td>0.802536</td>\n",
       "      <td>0.833837</td>\n",
       "      <td>0.841692</td>\n",
       "      <td>0.847734</td>\n",
       "      <td>0.855589</td>\n",
       "      <td>0.069304</td>\n",
       "      <td>0.003503</td>\n",
       "      <td>0.018319</td>\n",
       "      <td>COMPLETE</td>\n",
       "    </tr>\n",
       "    <tr>\n",
       "      <th>34</th>\n",
       "      <td>34</td>\n",
       "      <td>0.833860</td>\n",
       "      <td>2023-03-23 08:41:58.928496</td>\n",
       "      <td>2023-03-23 08:42:18.558478</td>\n",
       "      <td>0 days 00:00:19.629982</td>\n",
       "      <td>0.098832</td>\n",
       "      <td>11</td>\n",
       "      <td>170</td>\n",
       "      <td>23</td>\n",
       "      <td>3.861250</td>\n",
       "      <td>...</td>\n",
       "      <td>accuracy_score</td>\n",
       "      <td>0.809783</td>\n",
       "      <td>0.826586</td>\n",
       "      <td>0.832628</td>\n",
       "      <td>0.843505</td>\n",
       "      <td>0.856798</td>\n",
       "      <td>0.039097</td>\n",
       "      <td>0.003746</td>\n",
       "      <td>0.015832</td>\n",
       "      <td>COMPLETE</td>\n",
       "    </tr>\n",
       "  </tbody>\n",
       "</table>\n",
       "<p>5 rows × 22 columns</p>\n",
       "</div>"
      ],
      "text/plain": [
       "    number     value             datetime_start          datetime_complete  \\\n",
       "21      21  0.840627 2023-03-23 08:39:58.964132 2023-03-23 08:40:21.056685   \n",
       "44      44  0.839056 2023-03-23 08:43:38.256681 2023-03-23 08:43:58.532441   \n",
       "39      39  0.836760 2023-03-23 08:42:47.720276 2023-03-23 08:43:09.169153   \n",
       "24      24  0.836278 2023-03-23 08:40:21.078057 2023-03-23 08:40:40.711861   \n",
       "34      34  0.833860 2023-03-23 08:41:58.928496 2023-03-23 08:42:18.558478   \n",
       "\n",
       "                 duration  params_learning_rate  params_max_depth  \\\n",
       "21 0 days 00:00:22.092553              0.093080                15   \n",
       "44 0 days 00:00:20.275760              0.097942                13   \n",
       "39 0 days 00:00:21.448877              0.096718                14   \n",
       "24 0 days 00:00:19.633804              0.097700                10   \n",
       "34 0 days 00:00:19.629982              0.098832                11   \n",
       "\n",
       "    params_n_estimators  params_num_leaves  user_attrs_mean_fit_time  ...  \\\n",
       "21                  200                 22                  4.350960  ...   \n",
       "44                  180                 22                  3.996618  ...   \n",
       "39                  190                 22                  4.220495  ...   \n",
       "24                  180                 22                  3.864211  ...   \n",
       "34                  170                 23                  3.861250  ...   \n",
       "\n",
       "    user_attrs_metric  user_attrs_split0_test_score  \\\n",
       "21     accuracy_score                      0.812198   \n",
       "44     accuracy_score                      0.807971   \n",
       "39     accuracy_score                      0.808575   \n",
       "24     accuracy_score                      0.802536   \n",
       "34     accuracy_score                      0.809783   \n",
       "\n",
       "   user_attrs_split1_test_score  user_attrs_split2_test_score  \\\n",
       "21                     0.830211                      0.847734   \n",
       "44                     0.835650                      0.842296   \n",
       "39                     0.822356                      0.841692   \n",
       "24                     0.833837                      0.841692   \n",
       "34                     0.826586                      0.832628   \n",
       "\n",
       "    user_attrs_split3_test_score  user_attrs_split4_test_score  \\\n",
       "21                      0.850755                      0.862236   \n",
       "44                      0.854381                      0.854985   \n",
       "39                      0.851964                      0.859215   \n",
       "24                      0.847734                      0.855589   \n",
       "34                      0.843505                      0.856798   \n",
       "\n",
       "    user_attrs_std_fit_time  user_attrs_std_score_time  \\\n",
       "21                 0.042342                   0.004079   \n",
       "44                 0.090821                   0.003607   \n",
       "39                 0.109540                   0.002285   \n",
       "24                 0.069304                   0.003503   \n",
       "34                 0.039097                   0.003746   \n",
       "\n",
       "    user_attrs_std_test_score     state  \n",
       "21                   0.017531  COMPLETE  \n",
       "44                   0.017187  COMPLETE  \n",
       "39                   0.018770  COMPLETE  \n",
       "24                   0.018319  COMPLETE  \n",
       "34                   0.015832  COMPLETE  \n",
       "\n",
       "[5 rows x 22 columns]"
      ]
     },
     "execution_count": 68,
     "metadata": {},
     "output_type": "execute_result"
    }
   ],
   "source": [
    "tuner.trials.sort_values(by=[\"value\"], ascending=False).head()"
   ]
  },
  {
   "cell_type": "code",
   "execution_count": 69,
   "id": "e4b41105",
   "metadata": {},
   "outputs": [
    {
     "data": {
      "text/plain": [
       "{'learning_rate': 0.09307994963376318,\n",
       " 'max_depth': 15,\n",
       " 'n_estimators': 200,\n",
       " 'num_leaves': 22}"
      ]
     },
     "execution_count": 69,
     "metadata": {},
     "output_type": "execute_result"
    }
   ],
   "source": [
    "tuner.best_params"
   ]
  },
  {
   "cell_type": "code",
   "execution_count": 70,
   "id": "79a9892d",
   "metadata": {},
   "outputs": [],
   "source": [
    "params = tuner.best_params\n",
    "\n",
    "model = lgb.LGBMClassifier(**params)"
   ]
  },
  {
   "cell_type": "code",
   "execution_count": 71,
   "id": "e5b5f60d",
   "metadata": {},
   "outputs": [
    {
     "data": {
      "text/html": [
       "<style>#sk-container-id-2 {color: black;background-color: white;}#sk-container-id-2 pre{padding: 0;}#sk-container-id-2 div.sk-toggleable {background-color: white;}#sk-container-id-2 label.sk-toggleable__label {cursor: pointer;display: block;width: 100%;margin-bottom: 0;padding: 0.3em;box-sizing: border-box;text-align: center;}#sk-container-id-2 label.sk-toggleable__label-arrow:before {content: \"▸\";float: left;margin-right: 0.25em;color: #696969;}#sk-container-id-2 label.sk-toggleable__label-arrow:hover:before {color: black;}#sk-container-id-2 div.sk-estimator:hover label.sk-toggleable__label-arrow:before {color: black;}#sk-container-id-2 div.sk-toggleable__content {max-height: 0;max-width: 0;overflow: hidden;text-align: left;background-color: #f0f8ff;}#sk-container-id-2 div.sk-toggleable__content pre {margin: 0.2em;color: black;border-radius: 0.25em;background-color: #f0f8ff;}#sk-container-id-2 input.sk-toggleable__control:checked~div.sk-toggleable__content {max-height: 200px;max-width: 100%;overflow: auto;}#sk-container-id-2 input.sk-toggleable__control:checked~label.sk-toggleable__label-arrow:before {content: \"▾\";}#sk-container-id-2 div.sk-estimator input.sk-toggleable__control:checked~label.sk-toggleable__label {background-color: #d4ebff;}#sk-container-id-2 div.sk-label input.sk-toggleable__control:checked~label.sk-toggleable__label {background-color: #d4ebff;}#sk-container-id-2 input.sk-hidden--visually {border: 0;clip: rect(1px 1px 1px 1px);clip: rect(1px, 1px, 1px, 1px);height: 1px;margin: -1px;overflow: hidden;padding: 0;position: absolute;width: 1px;}#sk-container-id-2 div.sk-estimator {font-family: monospace;background-color: #f0f8ff;border: 1px dotted black;border-radius: 0.25em;box-sizing: border-box;margin-bottom: 0.5em;}#sk-container-id-2 div.sk-estimator:hover {background-color: #d4ebff;}#sk-container-id-2 div.sk-parallel-item::after {content: \"\";width: 100%;border-bottom: 1px solid gray;flex-grow: 1;}#sk-container-id-2 div.sk-label:hover label.sk-toggleable__label {background-color: #d4ebff;}#sk-container-id-2 div.sk-serial::before {content: \"\";position: absolute;border-left: 1px solid gray;box-sizing: border-box;top: 0;bottom: 0;left: 50%;z-index: 0;}#sk-container-id-2 div.sk-serial {display: flex;flex-direction: column;align-items: center;background-color: white;padding-right: 0.2em;padding-left: 0.2em;position: relative;}#sk-container-id-2 div.sk-item {position: relative;z-index: 1;}#sk-container-id-2 div.sk-parallel {display: flex;align-items: stretch;justify-content: center;background-color: white;position: relative;}#sk-container-id-2 div.sk-item::before, #sk-container-id-2 div.sk-parallel-item::before {content: \"\";position: absolute;border-left: 1px solid gray;box-sizing: border-box;top: 0;bottom: 0;left: 50%;z-index: -1;}#sk-container-id-2 div.sk-parallel-item {display: flex;flex-direction: column;z-index: 1;position: relative;background-color: white;}#sk-container-id-2 div.sk-parallel-item:first-child::after {align-self: flex-end;width: 50%;}#sk-container-id-2 div.sk-parallel-item:last-child::after {align-self: flex-start;width: 50%;}#sk-container-id-2 div.sk-parallel-item:only-child::after {width: 0;}#sk-container-id-2 div.sk-dashed-wrapped {border: 1px dashed gray;margin: 0 0.4em 0.5em 0.4em;box-sizing: border-box;padding-bottom: 0.4em;background-color: white;}#sk-container-id-2 div.sk-label label {font-family: monospace;font-weight: bold;display: inline-block;line-height: 1.2em;}#sk-container-id-2 div.sk-label-container {text-align: center;}#sk-container-id-2 div.sk-container {/* jupyter's `normalize.less` sets `[hidden] { display: none; }` but bootstrap.min.css set `[hidden] { display: none !important; }` so we also need the `!important` here to be able to override the default hidden behavior on the sphinx rendered scikit-learn.org. See: https://github.com/scikit-learn/scikit-learn/issues/21755 */display: inline-block !important;position: relative;}#sk-container-id-2 div.sk-text-repr-fallback {display: none;}</style><div id=\"sk-container-id-2\" class=\"sk-top-container\"><div class=\"sk-text-repr-fallback\"><pre>LGBMClassifier(learning_rate=0.09307994963376318, max_depth=15,\n",
       "               n_estimators=200, num_leaves=22)</pre><b>In a Jupyter environment, please rerun this cell to show the HTML representation or trust the notebook. <br />On GitHub, the HTML representation is unable to render, please try loading this page with nbviewer.org.</b></div><div class=\"sk-container\" hidden><div class=\"sk-item\"><div class=\"sk-estimator sk-toggleable\"><input class=\"sk-toggleable__control sk-hidden--visually\" id=\"sk-estimator-id-2\" type=\"checkbox\" checked><label for=\"sk-estimator-id-2\" class=\"sk-toggleable__label sk-toggleable__label-arrow\">LGBMClassifier</label><div class=\"sk-toggleable__content\"><pre>LGBMClassifier(learning_rate=0.09307994963376318, max_depth=15,\n",
       "               n_estimators=200, num_leaves=22)</pre></div></div></div></div></div>"
      ],
      "text/plain": [
       "LGBMClassifier(learning_rate=0.09307994963376318, max_depth=15,\n",
       "               n_estimators=200, num_leaves=22)"
      ]
     },
     "execution_count": 71,
     "metadata": {},
     "output_type": "execute_result"
    }
   ],
   "source": [
    "model.fit(X_train_reb, y_train_reb)"
   ]
  },
  {
   "cell_type": "code",
   "execution_count": 72,
   "id": "c317bafb",
   "metadata": {},
   "outputs": [
    {
     "name": "stdout",
     "output_type": "stream",
     "text": [
      "Validation set result:\n",
      "{'accuracy': 0.7807, 'roc_auc': 0.8474}\n"
     ]
    }
   ],
   "source": [
    "metrics = evaluate_metrics(model, X_test, y_test)"
   ]
  },
  {
   "cell_type": "code",
   "execution_count": 73,
   "id": "452a3cc0",
   "metadata": {},
   "outputs": [
    {
     "data": {
      "image/png": "[encoded data removed]",
      "text/plain": [
       "<Figure size 640x480 with 2 Axes>"
      ]
     },
     "metadata": {},
     "output_type": "display_data"
    }
   ],
   "source": [
    "plot_cm(model, X_test, y_test)"
   ]
  },
  {
   "cell_type": "markdown",
   "id": "5d4526d5",
   "metadata": {},
   "source": [
    "#### Some plots"
   ]
  },
  {
   "cell_type": "code",
   "execution_count": 74,
   "id": "f84ca598",
   "metadata": {},
   "outputs": [
    {
     "data": {
      "image/png": "[encoded data removed]",
      "text/plain": [
       "<Figure size 640x480 with 1 Axes>"
      ]
     },
     "metadata": {},
     "output_type": "display_data"
    }
   ],
   "source": [
    "tuner.plot_best_scores()"
   ]
  },
  {
   "cell_type": "code",
   "execution_count": 75,
   "id": "0f123a83",
   "metadata": {},
   "outputs": [
    {
     "data": {
      "text/plain": [
       "{'num_leaves': IntUniformDistribution(low=15, high=24, step=1),\n",
       " 'max_depth': IntUniformDistribution(low=5, high=15, step=1),\n",
       " 'n_estimators': IntUniformDistribution(low=50, high=200, step=10),\n",
       " 'learning_rate': LogUniformDistribution(low=0.001, high=0.1)}"
      ]
     },
     "execution_count": 75,
     "metadata": {},
     "output_type": "execute_result"
    }
   ],
   "source": [
    "tuner.search_space()"
   ]
  },
  {
   "cell_type": "code",
   "execution_count": 76,
   "id": "1d8423fd",
   "metadata": {},
   "outputs": [
    {
     "data": {
      "image/png": "[encoded data removed]",
      "text/plain": [
       "<Figure size 640x480 with 2 Axes>"
      ]
     },
     "metadata": {},
     "output_type": "display_data"
    }
   ],
   "source": [
    "tuner.plot_contour_scores(params=['num_leaves', 'max_depth'])"
   ]
  },
  {
   "cell_type": "code",
   "execution_count": null,
   "id": "5cf1a482",
   "metadata": {},
   "outputs": [],
   "source": []
  }
 ],
 "metadata": {
  "kernelspec": {
   "display_name": "Python [conda env:mygeneralml_p38_cpu_v1_0]",
   "language": "python",
   "name": "conda-env-mygeneralml_p38_cpu_v1_0-py"
  },
  "language_info": {
   "codemirror_mode": {
    "name": "ipython",
    "version": 3
   },
   "file_extension": ".py",
   "mimetype": "text/x-python",
   "name": "python",
   "nbconvert_exporter": "python",
   "pygments_lexer": "ipython3",
   "version": "3.8.13"
  }
 },
 "nbformat": 4,
 "nbformat_minor": 5
}
