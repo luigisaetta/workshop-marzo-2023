{
 "cells": [
  {
   "cell_type": "markdown",
   "id": "43dc3bb2",
   "metadata": {},
   "source": [
    "### Copy tar file to Object Storage\n",
    "\n",
    "* can be used to copy the tar file for the JOB to Object Storage"
   ]
  },
  {
   "cell_type": "code",
   "execution_count": 1,
   "id": "bc2edaeb",
   "metadata": {},
   "outputs": [],
   "source": [
    "import os\n",
    "import ocifs"
   ]
  },
  {
   "cell_type": "code",
   "execution_count": 2,
   "id": "9a2f71fe",
   "metadata": {},
   "outputs": [],
   "source": [
    "# this way I'm using RP\n",
    "\n",
    "fs = ocifs.OCIFileSystem()"
   ]
  },
  {
   "cell_type": "code",
   "execution_count": 3,
   "id": "abc9ee28",
   "metadata": {},
   "outputs": [],
   "source": [
    "TAR_FILE = \"test.tar.gz\"\n",
    "\n",
    "RPATH = f\"oci://WORKSHOP@frqap2zhtzbe/{TAR_FILE}\"\n",
    "\n",
    "fs.put(TAR_FILE, RPATH)"
   ]
  },
  {
   "cell_type": "code",
   "execution_count": null,
   "id": "ce3fb373",
   "metadata": {},
   "outputs": [],
   "source": []
  }
 ],
 "metadata": {
  "kernelspec": {
   "display_name": "Python [conda env:mygeneralml_p37_cpu_v1_0]",
   "language": "python",
   "name": "conda-env-mygeneralml_p37_cpu_v1_0-py"
  },
  "language_info": {
   "codemirror_mode": {
    "name": "ipython",
    "version": 3
   },
   "file_extension": ".py",
   "mimetype": "text/x-python",
   "name": "python",
   "nbconvert_exporter": "python",
   "pygments_lexer": "ipython3",
   "version": "3.7.12"
  }
 },
 "nbformat": 4,
 "nbformat_minor": 5
}
