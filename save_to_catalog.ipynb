{
 "cells": [
  {
   "cell_type": "markdown",
   "id": "d0bf533a",
   "metadata": {},
   "source": [
    "### Save to Model Catalog"
   ]
  },
  {
   "cell_type": "code",
   "execution_count": 1,
   "id": "0c2369e6",
   "metadata": {},
   "outputs": [],
   "source": [
    "import pandas as pd\n",
    "import numpy as np\n",
    "import matplotlib.pyplot as plt\n",
    "import lightgbm as lgb\n",
    "import imblearn\n",
    "\n",
    "from sklearn.metrics import classification_report\n",
    "from sklearn.metrics import get_scorer, make_scorer, f1_score, roc_auc_score, accuracy_score, confusion_matrix, ConfusionMatrixDisplay\n",
    "from sklearn.model_selection import train_test_split\n",
    "\n",
    "from sklearn.preprocessing import StandardScaler, OrdinalEncoder, LabelEncoder\n",
    "\n",
    "# to rebalance\n",
    "from imblearn.over_sampling import RandomOverSampler\n",
    "\n",
    "from utils import (cat_cols_selector,\n",
    "                  num_cols_selector,\n",
    "                  plot_cm,\n",
    "                  evaluate_metrics)\n",
    "\n",
    "# to save to Model Catalog\n",
    "from ads import set_auth\n",
    "from ads.catalog.model import ModelCatalog\n",
    "from ads.model.model_metadata import UseCaseType, MetadataCustomCategory\n",
    "from ads.model.framework.lightgbm_model import LightGBMModel\n",
    "\n",
    "%matplotlib inline"
   ]
  },
  {
   "cell_type": "code",
   "execution_count": 2,
   "id": "da865d4a",
   "metadata": {},
   "outputs": [],
   "source": [
    "NAMESPACE = \"frqap2zhtzbe\"\n",
    "BUCKET = \"WORKSHOP\"\n",
    "NOME_FILE = \"customer_churn_data.csv\"\n",
    "\n",
    "URL = f\"oci://{BUCKET}@{NAMESPACE}/{NOME_FILE}\"\n",
    "\n",
    "orig_df = pd.read_csv(URL)"
   ]
  },
  {
   "cell_type": "code",
   "execution_count": 3,
   "id": "8d83b38e",
   "metadata": {},
   "outputs": [],
   "source": [
    "# get rid of some columns\n",
    "cols_to_drop = ['customerID', 'TotalCharges']\n",
    "\n",
    "df = orig_df.drop(columns=cols_to_drop)\n",
    "\n",
    "TARGET = \"Churn\"\n",
    "features = list(set(df.columns) - set([TARGET]))"
   ]
  },
  {
   "cell_type": "code",
   "execution_count": 4,
   "id": "02109cc8",
   "metadata": {},
   "outputs": [],
   "source": [
    "# identify categorical and continuous\n",
    "cat_cols = cat_cols_selector(df, TARGET)\n",
    "num_cols = num_cols_selector(df, TARGET)"
   ]
  },
  {
   "cell_type": "code",
   "execution_count": 5,
   "id": "10c5246a",
   "metadata": {},
   "outputs": [],
   "source": [
    "# code categorical as integer for LightGBM\n",
    "enc = OrdinalEncoder()\n",
    "enc.fit(df[cat_cols])\n",
    "\n",
    "df[cat_cols] = enc.transform(df[cat_cols])\n",
    "\n",
    "for col in cat_cols:\n",
    "    df[col] = df[col].astype(\"category\")"
   ]
  },
  {
   "cell_type": "code",
   "execution_count": 6,
   "id": "3d549214",
   "metadata": {},
   "outputs": [
    {
     "name": "stdout",
     "output_type": "stream",
     "text": [
      "# of samples in train set 5634\n",
      "# of samples in test set 1409\n",
      "\n",
      "Numerical columns: ['tenure', 'MonthlyCharges'] (2)\n",
      "\n",
      "Categorical columns: ['gender', 'SeniorCitizen', 'Partner', 'Dependents', 'PhoneService', 'MultipleLines', 'InternetService', 'OnlineSecurity', 'OnlineBackup', 'DeviceProtection', 'TechSupport', 'StreamingTV', 'StreamingMovies', 'Contract', 'PaperlessBilling', 'PaymentMethod'] (16)\n"
     ]
    }
   ],
   "source": [
    "# train, test split (lo faccio direttamente sui dataframe)\n",
    "SEED = 42\n",
    "\n",
    "TEST_FRAC = 0.2\n",
    "\n",
    "df_train, df_test = train_test_split(df, shuffle=True, test_size=TEST_FRAC, \n",
    "                                     random_state = SEED)\n",
    "\n",
    "X_train, y_train = df_train.drop([TARGET], axis=1), df_train[TARGET]\n",
    "X_test, y_test = df_test.drop([TARGET], axis=1), df_test[TARGET]\n",
    "\n",
    "print(\"# of samples in train set\", df_train.shape[0])\n",
    "print(\"# of samples in test set\", df_test.shape[0])\n",
    "\n",
    "print()\n",
    "print(f'Numerical columns: {num_cols} ({len(num_cols)})')\n",
    "print()\n",
    "print(f'Categorical columns: {cat_cols} ({len(cat_cols)})')"
   ]
  },
  {
   "cell_type": "code",
   "execution_count": 7,
   "id": "684ae709",
   "metadata": {},
   "outputs": [],
   "source": [
    "SEED = 42\n",
    "\n",
    "ros = RandomOverSampler(random_state=SEED)"
   ]
  },
  {
   "cell_type": "code",
   "execution_count": 8,
   "id": "81c5ee84",
   "metadata": {},
   "outputs": [],
   "source": [
    "# bilanciamo solo il training set, il test set NON è toccato\n",
    "X_train_reb, y_train_reb = ros.fit_resample(X_train, y_train)"
   ]
  },
  {
   "cell_type": "code",
   "execution_count": 9,
   "id": "c6782547",
   "metadata": {},
   "outputs": [],
   "source": [
    "params = {'learning_rate': 0.099,\n",
    "          'max_depth': 15,\n",
    "          'n_estimators': 140,\n",
    "          'num_leaves': 24}\n",
    "\n",
    "model = lgb.LGBMClassifier(**params)"
   ]
  },
  {
   "cell_type": "code",
   "execution_count": 10,
   "id": "51279e22",
   "metadata": {},
   "outputs": [
    {
     "data": {
      "text/html": [
       "<style>#sk-container-id-1 {color: black;background-color: white;}#sk-container-id-1 pre{padding: 0;}#sk-container-id-1 div.sk-toggleable {background-color: white;}#sk-container-id-1 label.sk-toggleable__label {cursor: pointer;display: block;width: 100%;margin-bottom: 0;padding: 0.3em;box-sizing: border-box;text-align: center;}#sk-container-id-1 label.sk-toggleable__label-arrow:before {content: \"▸\";float: left;margin-right: 0.25em;color: #696969;}#sk-container-id-1 label.sk-toggleable__label-arrow:hover:before {color: black;}#sk-container-id-1 div.sk-estimator:hover label.sk-toggleable__label-arrow:before {color: black;}#sk-container-id-1 div.sk-toggleable__content {max-height: 0;max-width: 0;overflow: hidden;text-align: left;background-color: #f0f8ff;}#sk-container-id-1 div.sk-toggleable__content pre {margin: 0.2em;color: black;border-radius: 0.25em;background-color: #f0f8ff;}#sk-container-id-1 input.sk-toggleable__control:checked~div.sk-toggleable__content {max-height: 200px;max-width: 100%;overflow: auto;}#sk-container-id-1 input.sk-toggleable__control:checked~label.sk-toggleable__label-arrow:before {content: \"▾\";}#sk-container-id-1 div.sk-estimator input.sk-toggleable__control:checked~label.sk-toggleable__label {background-color: #d4ebff;}#sk-container-id-1 div.sk-label input.sk-toggleable__control:checked~label.sk-toggleable__label {background-color: #d4ebff;}#sk-container-id-1 input.sk-hidden--visually {border: 0;clip: rect(1px 1px 1px 1px);clip: rect(1px, 1px, 1px, 1px);height: 1px;margin: -1px;overflow: hidden;padding: 0;position: absolute;width: 1px;}#sk-container-id-1 div.sk-estimator {font-family: monospace;background-color: #f0f8ff;border: 1px dotted black;border-radius: 0.25em;box-sizing: border-box;margin-bottom: 0.5em;}#sk-container-id-1 div.sk-estimator:hover {background-color: #d4ebff;}#sk-container-id-1 div.sk-parallel-item::after {content: \"\";width: 100%;border-bottom: 1px solid gray;flex-grow: 1;}#sk-container-id-1 div.sk-label:hover label.sk-toggleable__label {background-color: #d4ebff;}#sk-container-id-1 div.sk-serial::before {content: \"\";position: absolute;border-left: 1px solid gray;box-sizing: border-box;top: 0;bottom: 0;left: 50%;z-index: 0;}#sk-container-id-1 div.sk-serial {display: flex;flex-direction: column;align-items: center;background-color: white;padding-right: 0.2em;padding-left: 0.2em;position: relative;}#sk-container-id-1 div.sk-item {position: relative;z-index: 1;}#sk-container-id-1 div.sk-parallel {display: flex;align-items: stretch;justify-content: center;background-color: white;position: relative;}#sk-container-id-1 div.sk-item::before, #sk-container-id-1 div.sk-parallel-item::before {content: \"\";position: absolute;border-left: 1px solid gray;box-sizing: border-box;top: 0;bottom: 0;left: 50%;z-index: -1;}#sk-container-id-1 div.sk-parallel-item {display: flex;flex-direction: column;z-index: 1;position: relative;background-color: white;}#sk-container-id-1 div.sk-parallel-item:first-child::after {align-self: flex-end;width: 50%;}#sk-container-id-1 div.sk-parallel-item:last-child::after {align-self: flex-start;width: 50%;}#sk-container-id-1 div.sk-parallel-item:only-child::after {width: 0;}#sk-container-id-1 div.sk-dashed-wrapped {border: 1px dashed gray;margin: 0 0.4em 0.5em 0.4em;box-sizing: border-box;padding-bottom: 0.4em;background-color: white;}#sk-container-id-1 div.sk-label label {font-family: monospace;font-weight: bold;display: inline-block;line-height: 1.2em;}#sk-container-id-1 div.sk-label-container {text-align: center;}#sk-container-id-1 div.sk-container {/* jupyter's `normalize.less` sets `[hidden] { display: none; }` but bootstrap.min.css set `[hidden] { display: none !important; }` so we also need the `!important` here to be able to override the default hidden behavior on the sphinx rendered scikit-learn.org. See: https://github.com/scikit-learn/scikit-learn/issues/21755 */display: inline-block !important;position: relative;}#sk-container-id-1 div.sk-text-repr-fallback {display: none;}</style><div id=\"sk-container-id-1\" class=\"sk-top-container\"><div class=\"sk-text-repr-fallback\"><pre>LGBMClassifier(learning_rate=0.099, max_depth=15, n_estimators=140,\n",
       "               num_leaves=24)</pre><b>In a Jupyter environment, please rerun this cell to show the HTML representation or trust the notebook. <br />On GitHub, the HTML representation is unable to render, please try loading this page with nbviewer.org.</b></div><div class=\"sk-container\" hidden><div class=\"sk-item\"><div class=\"sk-estimator sk-toggleable\"><input class=\"sk-toggleable__control sk-hidden--visually\" id=\"sk-estimator-id-1\" type=\"checkbox\" checked><label for=\"sk-estimator-id-1\" class=\"sk-toggleable__label sk-toggleable__label-arrow\">LGBMClassifier</label><div class=\"sk-toggleable__content\"><pre>LGBMClassifier(learning_rate=0.099, max_depth=15, n_estimators=140,\n",
       "               num_leaves=24)</pre></div></div></div></div></div>"
      ],
      "text/plain": [
       "LGBMClassifier(learning_rate=0.099, max_depth=15, n_estimators=140,\n",
       "               num_leaves=24)"
      ]
     },
     "execution_count": 10,
     "metadata": {},
     "output_type": "execute_result"
    }
   ],
   "source": [
    "model.fit(X_train_reb, y_train_reb)"
   ]
  },
  {
   "cell_type": "code",
   "execution_count": 11,
   "id": "3bb2cda8",
   "metadata": {},
   "outputs": [
    {
     "name": "stdout",
     "output_type": "stream",
     "text": [
      "Validation set result:\n",
      "{'accuracy': 0.7757, 'roc_auc': 0.8481}\n"
     ]
    }
   ],
   "source": [
    "metrics = evaluate_metrics(model, X_test, y_test)"
   ]
  },
  {
   "cell_type": "code",
   "execution_count": 12,
   "id": "3b76a013",
   "metadata": {},
   "outputs": [
    {
     "data": {
      "image/png": "[encoded data removed]",
      "text/plain": [
       "<Figure size 640x480 with 2 Axes>"
      ]
     },
     "metadata": {},
     "output_type": "display_data"
    }
   ],
   "source": [
    "plot_cm(model, X_test, y_test)"
   ]
  },
  {
   "cell_type": "markdown",
   "id": "433eefee",
   "metadata": {},
   "source": [
    "### Il modello è abbastanza valido nell'identificare i positivi (recall elevata)"
   ]
  },
  {
   "cell_type": "markdown",
   "id": "c756c383",
   "metadata": {},
   "source": [
    "### Salviamo in Model Catalog"
   ]
  },
  {
   "cell_type": "code",
   "execution_count": 13,
   "id": "38011bdf",
   "metadata": {},
   "outputs": [
    {
     "name": "stdout",
     "output_type": "stream",
     "text": [
      "WARNING:ads.common:In the future model input will be serialized by `cloudpickle` by default. Currently, model input are serialized into a dictionary containing serialized input data and original data type information.Set `model_input_serializer=\"cloudpickle\"` to use cloudpickle model input serializer.\n"
     ]
    }
   ],
   "source": [
    "set_auth(auth='resource_principal')\n",
    "\n",
    "# incapsuliamo nella opportuna classe del framework\n",
    "lightgbm_model = LightGBMModel(estimator=model, artifact_dir=\"model_dir\")"
   ]
  },
  {
   "cell_type": "code",
   "execution_count": 14,
   "id": "39e87b6e",
   "metadata": {},
   "outputs": [
    {
     "data": {
      "text/plain": [
       "algorithm: LGBMClassifier\n",
       "artifact_dir:\n",
       "  /home/datascience/workshop-marzo-2023/model_dir:\n",
       "  - - input_schema.json\n",
       "    - .model-ignore\n",
       "    - test_json_output.json\n",
       "    - model.joblib\n",
       "    - runtime.yaml\n",
       "    - score.py\n",
       "    - output_schema.json\n",
       "    - .ipynb_checkpoints\n",
       "    - .ipynb_checkpoints/score-checkpoint.py\n",
       "framework: lightgbm\n",
       "model_deployment_id: null\n",
       "model_id: null"
      ]
     },
     "execution_count": 14,
     "metadata": {},
     "output_type": "execute_result"
    }
   ],
   "source": [
    "CONDA_ENV = \"oci://conda_envs@frqap2zhtzbe/conda_environments/cpu/mygeneralml_p37_cpu_/1.0/mygeneralml_p37_cpu_v1_0\"\n",
    "\n",
    "lightgbm_model.prepare(\n",
    "    inference_conda_env=CONDA_ENV,\n",
    "    training_conda_env=CONDA_ENV,\n",
    "    use_case_type=UseCaseType.BINARY_CLASSIFICATION,\n",
    "    as_onnx=False,\n",
    "    X_sample=X_test,\n",
    "    y_sample=y_test,\n",
    "    force_overwrite=True,\n",
    ")"
   ]
  },
  {
   "cell_type": "code",
   "execution_count": 15,
   "id": "da743738",
   "metadata": {},
   "outputs": [
    {
     "data": {
      "text/html": [
       "<div>\n",
       "<style scoped>\n",
       "    .dataframe tbody tr th:only-of-type {\n",
       "        vertical-align: middle;\n",
       "    }\n",
       "\n",
       "    .dataframe tbody tr th {\n",
       "        vertical-align: top;\n",
       "    }\n",
       "\n",
       "    .dataframe thead th {\n",
       "        text-align: right;\n",
       "    }\n",
       "</style>\n",
       "<table border=\"1\" class=\"dataframe\">\n",
       "  <thead>\n",
       "    <tr style=\"text-align: right;\">\n",
       "      <th></th>\n",
       "      <th></th>\n",
       "      <th></th>\n",
       "      <th>Actions Needed</th>\n",
       "    </tr>\n",
       "    <tr>\n",
       "      <th>Step</th>\n",
       "      <th>Status</th>\n",
       "      <th>Details</th>\n",
       "      <th></th>\n",
       "    </tr>\n",
       "  </thead>\n",
       "  <tbody>\n",
       "    <tr>\n",
       "      <th>initiate</th>\n",
       "      <th>Done</th>\n",
       "      <th>Initiated the model</th>\n",
       "      <td></td>\n",
       "    </tr>\n",
       "    <tr>\n",
       "      <th rowspan=\"4\" valign=\"top\">prepare()</th>\n",
       "      <th rowspan=\"4\" valign=\"top\">Done</th>\n",
       "      <th>Generated runtime.yaml</th>\n",
       "      <td></td>\n",
       "    </tr>\n",
       "    <tr>\n",
       "      <th>Generated score.py</th>\n",
       "      <td></td>\n",
       "    </tr>\n",
       "    <tr>\n",
       "      <th>Serialized model</th>\n",
       "      <td></td>\n",
       "    </tr>\n",
       "    <tr>\n",
       "      <th>Populated metadata(Custom, Taxonomy and Provenance)</th>\n",
       "      <td></td>\n",
       "    </tr>\n",
       "    <tr>\n",
       "      <th>verify()</th>\n",
       "      <th>Available</th>\n",
       "      <th>Local tested .predict from score.py</th>\n",
       "      <td></td>\n",
       "    </tr>\n",
       "    <tr>\n",
       "      <th rowspan=\"2\" valign=\"top\">save()</th>\n",
       "      <th rowspan=\"2\" valign=\"top\">Available</th>\n",
       "      <th>Conducted Introspect Test</th>\n",
       "      <td></td>\n",
       "    </tr>\n",
       "    <tr>\n",
       "      <th>Uploaded artifact to model catalog</th>\n",
       "      <td></td>\n",
       "    </tr>\n",
       "    <tr>\n",
       "      <th>deploy()</th>\n",
       "      <th>Not Available</th>\n",
       "      <th>Deployed the model</th>\n",
       "      <td></td>\n",
       "    </tr>\n",
       "    <tr>\n",
       "      <th>predict()</th>\n",
       "      <th>Not Available</th>\n",
       "      <th>Called deployment predict endpoint</th>\n",
       "      <td></td>\n",
       "    </tr>\n",
       "  </tbody>\n",
       "</table>\n",
       "</div>"
      ],
      "text/plain": [
       "                                                                            Actions Needed\n",
       "Step      Status        Details                                                           \n",
       "initiate  Done          Initiated the model                                               \n",
       "prepare() Done          Generated runtime.yaml                                            \n",
       "                        Generated score.py                                                \n",
       "                        Serialized model                                                  \n",
       "                        Populated metadata(Custom, Taxonomy and Provenance)               \n",
       "verify()  Available     Local tested .predict from score.py                               \n",
       "save()    Available     Conducted Introspect Test                                         \n",
       "                        Uploaded artifact to model catalog                                \n",
       "deploy()  Not Available Deployed the model                                                \n",
       "predict() Not Available Called deployment predict endpoint                                "
      ]
     },
     "execution_count": 15,
     "metadata": {},
     "output_type": "execute_result"
    }
   ],
   "source": [
    "lightgbm_model.summary_status()"
   ]
  },
  {
   "cell_type": "code",
   "execution_count": 16,
   "id": "7ad40175",
   "metadata": {},
   "outputs": [
    {
     "data": {
      "text/plain": [
       "data:\n",
       "- category: Training Environment\n",
       "  description: The slug name of the training conda environment.\n",
       "  key: SlugName\n",
       "  value: mygeneralml_p37_cpu_v1_0\n",
       "- category: Other\n",
       "  description: ''\n",
       "  key: ClientLibrary\n",
       "  value: ADS\n",
       "- category: Training Environment\n",
       "  description: The URI of the training conda environment.\n",
       "  key: CondaEnvironmentPath\n",
       "  value: oci://conda_envs@frqap2zhtzbe/conda_environments/cpu/mygeneralml_p37_cpu_/1.0/mygeneralml_p37_cpu_v1_0\n",
       "- category: Other\n",
       "  description: The model file name.\n",
       "  key: ModelFileName\n",
       "  value: model.joblib\n",
       "- category: Training Environment\n",
       "  description: The list of files located in artifacts folder.\n",
       "  key: ModelArtifacts\n",
       "  value: input_schema.json, .model-ignore, test_json_output.json, model.joblib, runtime.yaml,\n",
       "    score.py, output_schema.json, .ipynb_checkpoints, .ipynb_checkpoints/score-checkpoint.py\n",
       "- category: Training Profile\n",
       "  description: The model serialization format.\n",
       "  key: ModelSerializationFormat\n",
       "  value: joblib\n",
       "- category: Training Environment\n",
       "  description: The conda environment type, can be published or datascience.\n",
       "  key: EnvironmentType\n",
       "  value: published\n",
       "- category: Training Environment\n",
       "  description: The conda environment where the model was trained.\n",
       "  key: CondaEnvironment\n",
       "  value: oci://conda_envs@frqap2zhtzbe/conda_environments/cpu/mygeneralml_p37_cpu_/1.0/mygeneralml_p37_cpu_v1_0"
      ]
     },
     "execution_count": 16,
     "metadata": {},
     "output_type": "execute_result"
    }
   ],
   "source": [
    "lightgbm_model.metadata_custom"
   ]
  },
  {
   "cell_type": "code",
   "execution_count": 17,
   "id": "2cfc4458",
   "metadata": {},
   "outputs": [],
   "source": [
    "lightgbm_model.metadata_custom.add(key='metrics on test set', value=str(metrics), category=MetadataCustomCategory.PERFORMANCE, \n",
    "                                  description='Metrics evaluated on reference dataset', replace=True)"
   ]
  },
  {
   "cell_type": "code",
   "execution_count": null,
   "id": "847137e1",
   "metadata": {},
   "outputs": [],
   "source": [
    "MODEL_NAME = \"customer churn marzo 2023-1\"\n",
    "model_id = lightgbm_model.save(display_name=MODEL_NAME)\n",
    "\n",
    "print(f\"Model id in Model Catalog is {model_id}\")"
   ]
  },
  {
   "cell_type": "code",
   "execution_count": null,
   "id": "ed098f7d",
   "metadata": {},
   "outputs": [],
   "source": [
    "lightgbm_model.summary_status()"
   ]
  },
  {
   "cell_type": "code",
   "execution_count": null,
   "id": "d79b959d",
   "metadata": {},
   "outputs": [],
   "source": []
  }
 ],
 "metadata": {
  "kernelspec": {
   "display_name": "Python [conda env:mygeneralml_p38_cpu_v1_0]",
   "language": "python",
   "name": "conda-env-mygeneralml_p38_cpu_v1_0-py"
  },
  "language_info": {
   "codemirror_mode": {
    "name": "ipython",
    "version": 3
   },
   "file_extension": ".py",
   "mimetype": "text/x-python",
   "name": "python",
   "nbconvert_exporter": "python",
   "pygments_lexer": "ipython3",
   "version": "3.7.12"
  }
 },
 "nbformat": 4,
 "nbformat_minor": 5
}
